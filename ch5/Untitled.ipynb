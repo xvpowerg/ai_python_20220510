{
 "cells": [
  {
   "cell_type": "markdown",
   "id": "706a0a63",
   "metadata": {},
   "source": [
    "# 字串接龍作業"
   ]
  },
  {
   "cell_type": "code",
   "execution_count": 4,
   "id": "31861489",
   "metadata": {},
   "outputs": [
    {
     "name": "stdout",
     "output_type": "stream",
     "text": [
      "請輸入一個字串:abc\n",
      "請書輸入-c-開始的字串:cag\n",
      "上一個字串是:abc-cag\n",
      "請書輸入-g-開始的字串:bbb\n",
      "上一個字串是:abc-cag\n",
      "請書輸入-g-開始的字串:gad\n",
      "上一個字串是:abc-cag-gad\n",
      "請書輸入-d-開始的字串:xxx\n",
      "上一個字串是:abc-cag-gad\n",
      "請書輸入-d-開始的字串:xxx\n",
      "上一個字串是:abc-cag-gad\n",
      "請書輸入-d-開始的字串:xx\n",
      "上一個字串是:abc-cag-gad\n",
      "請書輸入-d-開始的字串:xxx\n",
      "上一個字串是:abc-cag-gad\n"
     ]
    }
   ],
   "source": [
    "count = 0\n",
    "txt = input(\"請輸入一個字串:\")\n",
    "strList = []\n",
    "msg = txt\n",
    "strList.append(txt)\n",
    "while count < 5:\n",
    "    tempTxt = input(f\"請書輸入-{txt[-1]}-開始的字串:\")\n",
    "    if (tempTxt[0] == txt[-1]):\n",
    "       txt = tempTxt\n",
    "       strList.append(tempTxt)\n",
    "       msg = \"-\".join(strList) \n",
    "    else:\n",
    "      count+=1\n",
    "    print(f\"上一個字串是:{msg}\")"
   ]
  },
  {
   "cell_type": "markdown",
   "id": "37532ade",
   "metadata": {},
   "source": [
    "## append"
   ]
  },
  {
   "cell_type": "code",
   "execution_count": 9,
   "id": "164d0f2e",
   "metadata": {},
   "outputs": [
    {
     "name": "stdout",
     "output_type": "stream",
     "text": [
      "['a', 'b', 'c']\n",
      "['a', 'b', 'c', 'e']\n",
      "['a', 'b', 'c', 'e', ['xyz', 'qwer']]\n",
      "['a', 'b', 'c', 'asd', 'fgh']\n"
     ]
    }
   ],
   "source": [
    "list1 = ['a','b','c']\n",
    "print(list1)\n",
    "list1.append('e')\n",
    "print(list1)\n",
    "list1.append(['xyz','qwer'])\n",
    "print(list1)\n",
    "\n",
    "list2 = ['a','b','c']\n",
    "list3 = ['asd','fgh']\n",
    "list2 += list3\n",
    "print(list2)"
   ]
  },
  {
   "cell_type": "markdown",
   "id": "97b4ed86",
   "metadata": {},
   "source": [
    "## extends 展開"
   ]
  },
  {
   "cell_type": "code",
   "execution_count": 10,
   "id": "26bbd5e4",
   "metadata": {},
   "outputs": [
    {
     "name": "stdout",
     "output_type": "stream",
     "text": [
      "['a', 'b', 'c', 'zxcv', 'asdf']\n"
     ]
    }
   ],
   "source": [
    "list1 = ['a','b','c']\n",
    "list2 = ['zxcv','asdf']\n",
    "list1.extend(list2)\n",
    "print(list1)"
   ]
  },
  {
   "cell_type": "markdown",
   "id": "fef86917",
   "metadata": {},
   "source": [
    "## list 項目插入新資料\n",
    "+ list 可使用 insert 方式插入新的資料：\n",
    "   + list.insert(索引值，插入的資料)。\n",
    "   + 若索引值超出範圍則會改為 append 方式附加。"
   ]
  },
  {
   "cell_type": "code",
   "execution_count": 12,
   "id": "6532c2b1",
   "metadata": {},
   "outputs": [
    {
     "name": "stdout",
     "output_type": "stream",
     "text": [
      "['apple', 'kiwi', 'banana']\n",
      "['apple', 'charry', 'kiwi', 'banana']\n",
      "['apple', 'charry', 'kiwi', 'banana', 'watermelon']\n"
     ]
    }
   ],
   "source": [
    "list1 = ['apple','kiwi','banana']\n",
    "print(list1)\n",
    "list1.insert(1,'charry')\n",
    "print(list1)\n",
    "list1.insert(88,'watermelon')\n",
    "print(list1)"
   ]
  },
  {
   "cell_type": "markdown",
   "id": "566502b8",
   "metadata": {},
   "source": [
    "## 移除List元素"
   ]
  },
  {
   "attachments": {},
   "cell_type": "markdown",
   "id": "c57508ce",
   "metadata": {},
   "source": [
    "###  remove\n",
    "list 可透過 remove 方式移除資料：\n",
    "\n",
    "依據內容進行刪除\n",
    "\n",
    "list.remove(項目內容)\n"
   ]
  },
  {
   "cell_type": "code",
   "execution_count": 13,
   "id": "c66cc722",
   "metadata": {},
   "outputs": [
    {
     "name": "stdout",
     "output_type": "stream",
     "text": [
      "['1', '2', 'x', '3']\n"
     ]
    }
   ],
   "source": [
    "list1 = ['1','x','2','x','3']\n",
    "list1.remove('x')#左邊開始找x找到移除 就停止移除動作\n",
    "print(list1)"
   ]
  },
  {
   "cell_type": "markdown",
   "id": "2d17d7bf",
   "metadata": {},
   "source": [
    "###  pop()\n",
    "\n",
    "如果沒填index 預設彈出最後一筆"
   ]
  },
  {
   "cell_type": "code",
   "execution_count": 17,
   "id": "23884831",
   "metadata": {},
   "outputs": [
    {
     "name": "stdout",
     "output_type": "stream",
     "text": [
      "['Ken', 'Vivin', 'Lindy', 'Lucy']\n",
      "Lucy\n",
      "['Ken', 'Vivin', 'Lindy']\n",
      "3\n",
      "v2: Vivin\n",
      "['Ken', 'Lindy']\n"
     ]
    }
   ],
   "source": [
    "list3 = ['Ken','Vivin','Lindy','Lucy']\n",
    "print(list3)\n",
    "v1 = list3.pop()\n",
    "print(v1)\n",
    "print(list3)\n",
    "print(len(list3))\n",
    "v2 = list3.pop(1)\n",
    "print('v2:',v2)\n",
    "print(list3)\n"
   ]
  },
  {
   "cell_type": "markdown",
   "id": "34d1cb79",
   "metadata": {},
   "source": [
    "### Del\n",
    "+ list 可透過 del 方式移除指定位置資料。\n",
    "+ del list[ ] 必須指定範圍：\n",
    "  + del list[n] 代表移除第 n 位索引值資料。\n",
    "  + del list[:m] 代表移除第 m 位索引值之前 ( 不包含 m ) 資料。\n",
    "  + del list[n:m] 代表移除第 n 到 m 位索引值之前 ( 不包含 m ) 資料。"
   ]
  },
  {
   "cell_type": "code",
   "execution_count": 19,
   "id": "2cd80471",
   "metadata": {},
   "outputs": [
    {
     "name": "stdout",
     "output_type": "stream",
     "text": [
      "['A', 'B', 'C', 'D']\n",
      "['A', 'B', 'D']\n",
      "['A', 'D']\n"
     ]
    }
   ],
   "source": [
    "list4 = ['A','B','C','D']\n",
    "print(list4)\n",
    "del list4[2]\n",
    "print(list4)\n",
    "list4 = ['A','B','C','D']\n",
    "del list4[1:3]\n",
    "print(list4)"
   ]
  },
  {
   "attachments": {},
   "cell_type": "markdown",
   "id": "c99f329f",
   "metadata": {},
   "source": [
    "## list 進行排序有 sorted( ) 與 sort( ) 兩個動作。\n",
    "兩者差異：\n",
    "sorted( )\n",
    "\n",
    "+ 不會影響 list 本身結構，且可以輸出結果。\n",
    "+ sorted(list項目)。\n",
    "+ sorted( ) 可用來排序任何項目。\n",
    "\n",
    "sort( )\n",
    "\n",
    "+ 會影響 list 本身結構，且不可以於操作這個動作時進行輸出。\n",
    "+ list.sort( )。\n",
    "+ sort( ) 只能用在list上排序。"
   ]
  },
  {
   "cell_type": "markdown",
   "id": "e7d00af6",
   "metadata": {},
   "source": [
    "### sorted\n",
    "\n",
    "預設情況是左小右大(遞增排序)"
   ]
  },
  {
   "cell_type": "code",
   "execution_count": 23,
   "id": "05eeb710",
   "metadata": {},
   "outputs": [
    {
     "name": "stdout",
     "output_type": "stream",
     "text": [
      "[2, 6, 1]\n",
      "list5: [2, 6, 1]\n",
      "list6: [1, 2, 6]\n",
      "reverse list6: [6, 2, 1]\n",
      "[1, 2, 6]\n",
      "[6, 2, 1]\n"
     ]
    }
   ],
   "source": [
    "list5 = [2,6,1]\n",
    "print(list5)\n",
    "list6 = sorted(list5)\n",
    "print(\"list5:\",list5)\n",
    "print(\"list6:\",list6)\n",
    "list6 = sorted(list5,reverse=True)\n",
    "print(\"reverse list6:\",list6)\n",
    "list5.sort()\n",
    "print(list5)\n",
    "list5.sort(reverse=True)\n",
    "print(list5)"
   ]
  },
  {
   "cell_type": "markdown",
   "id": "2bb99330",
   "metadata": {},
   "source": [
    "## tuple擴充指定\n"
   ]
  },
  {
   "cell_type": "code",
   "execution_count": 29,
   "id": "158987d5",
   "metadata": {},
   "outputs": [
    {
     "name": "stdout",
     "output_type": "stream",
     "text": [
      "x y\n",
      "a b ['c', 'd', 'e']\n",
      "a e\n",
      "['b', 'c', 'd']\n"
     ]
    }
   ],
   "source": [
    "tuple1 = ('x','y')\n",
    "v1,v2 =tuple1\n",
    "print(v1,v2)\n",
    "tuple2 = ('a','b','c','d','e')\n",
    "x1,x2,*x3 = tuple2\n",
    "print(x1,x2,x3)\n",
    "x1,*x2,x3 = tuple2\n",
    "print(x1,x3)\n",
    "print(x2)"
   ]
  },
  {
   "cell_type": "markdown",
   "id": "7ea39627",
   "metadata": {},
   "source": [
    "## 字串排序\n",
    "數字 < 大寫 < 小寫"
   ]
  },
  {
   "cell_type": "code",
   "execution_count": 33,
   "id": "9f96a30d",
   "metadata": {},
   "outputs": [
    {
     "name": "stdout",
     "output_type": "stream",
     "text": [
      "['9', 'A', 'a', 'b', 'c']\n",
      "57 65 97 98 99\n"
     ]
    }
   ],
   "source": [
    "list2 = ['c','b','a','A','9']\n",
    "list2.sort()\n",
    "print(list2)\n",
    "print(ord('9'),ord('A'),ord('a'),ord('b'),ord('c'))\n"
   ]
  },
  {
   "cell_type": "code",
   "execution_count": 39,
   "id": "9822f8bb",
   "metadata": {},
   "outputs": [
    {
     "name": "stdout",
     "output_type": "stream",
     "text": [
      "['12', 'Ab', 'aB', 'ab']\n"
     ]
    }
   ],
   "source": [
    "list3 = ['12','ab','Ab','aB']\n",
    "list3.sort()\n",
    "print(list3)"
   ]
  },
  {
   "cell_type": "markdown",
   "id": "da231451",
   "metadata": {},
   "source": [
    "## in\n",
    "元素是否在List中\n",
    "查得元素  in List"
   ]
  },
  {
   "cell_type": "code",
   "execution_count": 42,
   "id": "c252bbea",
   "metadata": {},
   "outputs": [
    {
     "name": "stdout",
     "output_type": "stream",
     "text": [
      "請輸入姓名:Lucy\n",
      "Lucy不在清單中\n"
     ]
    }
   ],
   "source": [
    "names = ['Ken',\"Vivin\",\"Lindy\",\"Gigi\"]\n",
    "name = input(\"請輸入姓名:\")\n",
    "if name in names:\n",
    "    print(f\"{name}在清單中\")\n",
    "else:\n",
    "    print(f\"{name}不在清單中\")"
   ]
  },
  {
   "cell_type": "code",
   "execution_count": 43,
   "id": "79c504f7",
   "metadata": {},
   "outputs": [
    {
     "name": "stdout",
     "output_type": "stream",
     "text": [
      "[1, 2, 3, 4, 5, 6, 7, 8, 9, 10]\n"
     ]
    }
   ],
   "source": [
    "numberList = []\n",
    "for i in range(1,11):\n",
    "    numberList.append(i)\n",
    "print(numberList)    "
   ]
  },
  {
   "cell_type": "markdown",
   "id": "f2bd3f08",
   "metadata": {},
   "source": [
    "## List生成器"
   ]
  },
  {
   "cell_type": "code",
   "execution_count": 44,
   "id": "ddb28f82",
   "metadata": {},
   "outputs": [
    {
     "name": "stdout",
     "output_type": "stream",
     "text": [
      "[1, 2, 3, 4, 5, 6, 7, 8, 9, 10]\n"
     ]
    }
   ],
   "source": [
    "numberList2 = [value for value in range(1,11)]\n",
    "print(numberList2)"
   ]
  },
  {
   "cell_type": "code",
   "execution_count": 47,
   "id": "9cb26e59",
   "metadata": {},
   "outputs": [
    {
     "name": "stdout",
     "output_type": "stream",
     "text": [
      "[2, 4, 6, 8, 10]\n"
     ]
    }
   ],
   "source": [
    "numberList = []\n",
    "for i in range(1,11):\n",
    "    if i % 2 == 0:\n",
    "        numberList.append(i)\n",
    "print(numberList)        "
   ]
  },
  {
   "cell_type": "code",
   "execution_count": 49,
   "id": "ab8e4839",
   "metadata": {},
   "outputs": [
    {
     "name": "stdout",
     "output_type": "stream",
     "text": [
      "[2, 4, 6, 8, 10]\n"
     ]
    }
   ],
   "source": [
    "numberList2 = [value for value in range(1,11) if value % 2 == 0]\n",
    "print(numberList2)"
   ]
  },
  {
   "cell_type": "code",
   "execution_count": 51,
   "id": "6ff1261b",
   "metadata": {},
   "outputs": [
    {
     "name": "stdout",
     "output_type": "stream",
     "text": [
      "['AX', 'AY', 'AZ', 'BX', 'BY', 'BZ', 'CX', 'CY', 'CZ']\n"
     ]
    }
   ],
   "source": [
    "str1 =\"ABC\"\n",
    "str2 = \"XYZ\"\n",
    "list0 = []\n",
    "for m in str1:\n",
    "    for n in str2:\n",
    "       list0.append(m+n)\n",
    "print(list0)    "
   ]
  },
  {
   "cell_type": "code",
   "execution_count": 53,
   "id": "38b3345e",
   "metadata": {},
   "outputs": [
    {
     "name": "stdout",
     "output_type": "stream",
     "text": [
      "['AX', 'AY', 'AZ', 'BX', 'BY', 'BZ', 'CX', 'CY', 'CZ']\n"
     ]
    }
   ],
   "source": [
    "str1 = \"ABC\"\n",
    "str2 = \"XYZ\"\n",
    "list1 = [m+n for m in str1 for n in str2]\n",
    "print(list1)"
   ]
  },
  {
   "cell_type": "code",
   "execution_count": null,
   "id": "00365752",
   "metadata": {},
   "outputs": [],
   "source": []
  }
 ],
 "metadata": {
  "kernelspec": {
   "display_name": "Python 3 (ipykernel)",
   "language": "python",
   "name": "python3"
  },
  "language_info": {
   "codemirror_mode": {
    "name": "ipython",
    "version": 3
   },
   "file_extension": ".py",
   "mimetype": "text/x-python",
   "name": "python",
   "nbconvert_exporter": "python",
   "pygments_lexer": "ipython3",
   "version": "3.8.11"
  }
 },
 "nbformat": 4,
 "nbformat_minor": 5
}
