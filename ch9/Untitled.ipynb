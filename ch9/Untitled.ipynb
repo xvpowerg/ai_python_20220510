{
 "cells": [
  {
   "cell_type": "code",
   "execution_count": 2,
   "id": "f1c3220b",
   "metadata": {},
   "outputs": [
    {
     "name": "stdout",
     "output_type": "stream",
     "text": [
      "請輸入ABA\n",
      "請輸入CAC\n",
      "請輸入GIAA\n",
      "請輸入0\n",
      "清單內容: ['ABA', 'CAC', 'GIAA']\n",
      "回文字串: ['ABA', 'CAC']\n"
     ]
    }
   ],
   "source": [
    "keyIn = ''\n",
    "inputList=[]\n",
    "passList=[]\n",
    "while True:\n",
    "    keyIn = input(\"請輸入\")\n",
    "    if keyIn == '0': break;\n",
    "    inputList.append(keyIn)\n",
    "    if keyIn == keyIn[::-1]:\n",
    "        passList.append(keyIn)\n",
    "print(\"清單內容:\",inputList)   \n",
    "print(\"回文字串:\",passList)       "
   ]
  },
  {
   "cell_type": "code",
   "execution_count": 1,
   "id": "e3ad1c33",
   "metadata": {},
   "outputs": [
    {
     "name": "stdout",
     "output_type": "stream",
     "text": [
      "Create\n",
      "func 1\n",
      "func 1 name: modu\n",
      "__main__\n"
     ]
    }
   ],
   "source": [
    "import modu\n",
    "obj1 = modu.test1()\n",
    "modu.fun1()\n",
    "print(__name__)"
   ]
  },
  {
   "cell_type": "markdown",
   "id": "318bbc5c",
   "metadata": {},
   "source": [
    "## 套件\n",
    "+ 套件內可以有多個模組。\n",
    "+ 套件名稱是資料夾名稱。\n",
    "+ 建立一個叫做 happy 的資料夾，裡面放了一個 __init__.py 的空檔案。\n",
    "+ 每個套件裡都必須存在 __init__.py 這個檔案，它的目的就是告訴Python 說這個資料夾請把它當做套件來對待。\n",
    "+ __init__.py 可以是空的，也可以放一些變數或程式在裡面。\n"
   ]
  },
  {
   "cell_type": "code",
   "execution_count": 9,
   "id": "9f6ee3d7",
   "metadata": {},
   "outputs": [
    {
     "name": "stdout",
     "output_type": "stream",
     "text": [
      "Happy Python\n",
      "testWeb\n",
      "Happy Python\n"
     ]
    }
   ],
   "source": [
    "import happy.my_mod\n",
    "import happy.net.web_test as hnw\n",
    "from happy.my_mod import happy_python\n",
    "happy.my_mod.happy_python()\n",
    "hnw.testWeb()\n",
    "happy_python()"
   ]
  },
  {
   "cell_type": "markdown",
   "id": "564f8921",
   "metadata": {},
   "source": [
    "# 呼叫內建模組函數"
   ]
  },
  {
   "cell_type": "markdown",
   "id": "377332bc",
   "metadata": {},
   "source": [
    "## 亂數\n",
    "+ 必須加入 import  random 語法。\n",
    "+ 隨機整數：0 到 100 之間(包含100)，請加入 random.randint(0,100) 語法。\n",
    "+ 隨機數值：請加入random.random ( ) 語法。\n",
    "+ 隨機選取 0 到100 間的偶數(固定間隔)，請加入 random.randrange(0, 101, 2) 語法。"
   ]
  },
  {
   "cell_type": "code",
   "execution_count": 15,
   "id": "690b128a",
   "metadata": {},
   "outputs": [
    {
     "name": "stdout",
     "output_type": "stream",
     "text": [
      "95\n",
      "2\n"
     ]
    }
   ],
   "source": [
    "import random\n",
    "a = random.randint(0,100)\n",
    "print(a)\n",
    "b = random.randrange(0,101,2)\n",
    "print(b)"
   ]
  },
  {
   "cell_type": "code",
   "execution_count": 28,
   "id": "98851c22",
   "metadata": {},
   "outputs": [
    {
     "name": "stdout",
     "output_type": "stream",
     "text": [
      "[10, 5, 16, 20]\n",
      "['h', 'f', 'b']\n",
      "Python\n"
     ]
    }
   ],
   "source": [
    "import random\n",
    "ranList = [20,16,10,5]\n",
    "random.shuffle(ranList)\n",
    "print(ranList)\n",
    "a = random.sample('abcdefghij',3)\n",
    "print(a)\n",
    "b = random.choice(['Apple','Java','Python','PHP'])\n",
    "print(b)"
   ]
  },
  {
   "cell_type": "markdown",
   "id": "99225662",
   "metadata": {},
   "source": [
    "## 數學函數\n",
    "+ 以下幾個函數必須引用 math 模組：\n",
    "  + sqrt(x)\t              x的平方根（x>0）\n",
    "  + pow(x, y)\t              x的y次方 的值\n",
    "  + ceil(x)\t取出不小於 x 的最小整數\n",
    "  + floor(x)\t取出不大於 x 的最大整數"
   ]
  },
  {
   "cell_type": "code",
   "execution_count": 34,
   "id": "1df3ca93",
   "metadata": {},
   "outputs": [
    {
     "name": "stdout",
     "output_type": "stream",
     "text": [
      "80.46\n",
      "80\n",
      "-57\n",
      "81\n",
      "-52\n"
     ]
    }
   ],
   "source": [
    "import math\n",
    "a = round(80.457,2)\n",
    "print(a)\n",
    "a = math.floor(80.456)\n",
    "print(a)\n",
    "a = math.floor(-56.1)\n",
    "print(a)\n",
    "a = math.ceil(80.456)\n",
    "print(a)\n",
    "a = math.ceil(-52.32)\n",
    "print(a)"
   ]
  },
  {
   "cell_type": "markdown",
   "id": "34282a59",
   "metadata": {},
   "source": [
    "# Python 程式偵錯\n",
    "\n",
    "+ Syntax Errors 語法錯誤\n",
    " + 該行語法錯誤，Python 無法編譯執行。\n",
    " + 修正語法錯誤\n",
    "+ Exception 例外\n",
    " + 語法撰寫上沒有錯誤，執行時因資料邏輯或外部系統狀態發生錯誤， Python 會引發例外(Exception) \n",
    " + 如果例外沒有被處理而傳遞到Python直譯器，程式中斷執行"
   ]
  },
  {
   "cell_type": "code",
   "execution_count": 44,
   "id": "71f7d4e3",
   "metadata": {},
   "outputs": [
    {
     "name": "stdout",
     "output_type": "stream",
     "text": [
      "10.0\n"
     ]
    },
    {
     "ename": "IndexError",
     "evalue": "list index out of range",
     "output_type": "error",
     "traceback": [
      "\u001b[1;31m---------------------------------------------------------------------------\u001b[0m",
      "\u001b[1;31mIndexError\u001b[0m                                Traceback (most recent call last)",
      "Input \u001b[1;32mIn [44]\u001b[0m, in \u001b[0;36m<cell line: 7>\u001b[1;34m()\u001b[0m\n\u001b[0;32m      5\u001b[0m \u001b[38;5;28mprint\u001b[39m(num1 \u001b[38;5;241m/\u001b[39m num2)\n\u001b[0;32m      6\u001b[0m \u001b[38;5;66;03m#print(num1 / (num2 - 1))\u001b[39;00m\n\u001b[1;32m----> 7\u001b[0m \u001b[38;5;28mprint\u001b[39m(\u001b[43mnums\u001b[49m\u001b[43m[\u001b[49m\u001b[38;5;241;43m300\u001b[39;49m\u001b[43m]\u001b[49m)\n",
      "\u001b[1;31mIndexError\u001b[0m: list index out of range"
     ]
    }
   ],
   "source": [
    "num1=10\n",
    "num2 = 1\n",
    "nums = [1,3,5,7,9]\n",
    "#print(num1 * num3)\n",
    "print(num1 / num2)\n",
    "#print(num1 / (num2 - 1))\n",
    "#print(nums[300])"
   ]
  },
  {
   "cell_type": "markdown",
   "id": "3a5f0e03",
   "metadata": {},
   "source": [
    "## try finally\n",
    "+ finally 區塊代表不論 try 區塊執行後一定要執行的區塊。\n",
    "  + 不論有沒有產生例外，例外有沒有被處理都會執行\n",
    "  + 程式中產生的例外沒有被處理而導致中斷，finally 區塊會在中斷前執行。"
   ]
  },
  {
   "cell_type": "code",
   "execution_count": 53,
   "id": "e707b217",
   "metadata": {},
   "outputs": [
    {
     "name": "stdout",
     "output_type": "stream",
     "text": [
      "10.0\n",
      "沒錯!\n",
      "finally!\n"
     ]
    }
   ],
   "source": [
    "num1 = 10\n",
    "num2 = 1\n",
    "nums = [1,3,5,7,9]\n",
    "try:\n",
    "    print(num1 / num2)\n",
    "    #print(num1 / (num2 - 1) )\n",
    "    #print(nums[100])\n",
    "    \n",
    "except ZeroDivisionError:\n",
    "    print(\"分母不可為0\")  \n",
    "except NameError:\n",
    "    print(\"NameError 使用沒選告的變數\")\n",
    "except IndexError:\n",
    "    print(\"IndexErro Index超過範圍\")\n",
    "else:\n",
    "    print(\"沒錯!\")\n",
    "finally:\n",
    "    print(\"finally!\")"
   ]
  },
  {
   "cell_type": "code",
   "execution_count": 57,
   "id": "553a5596",
   "metadata": {},
   "outputs": [
    {
     "name": "stdout",
     "output_type": "stream",
     "text": [
      "TestTry\n",
      "finally\n"
     ]
    },
    {
     "ename": "NameError",
     "evalue": "name 'c' is not defined",
     "output_type": "error",
     "traceback": [
      "\u001b[1;31m---------------------------------------------------------------------------\u001b[0m",
      "\u001b[1;31mNameError\u001b[0m                                 Traceback (most recent call last)",
      "Input \u001b[1;32mIn [57]\u001b[0m, in \u001b[0;36m<cell line: 1>\u001b[1;34m()\u001b[0m\n\u001b[0;32m      1\u001b[0m \u001b[38;5;28;01mtry\u001b[39;00m:\n\u001b[0;32m      2\u001b[0m     \u001b[38;5;28mprint\u001b[39m(\u001b[38;5;124m\"\u001b[39m\u001b[38;5;124mTestTry\u001b[39m\u001b[38;5;124m\"\u001b[39m)\n\u001b[1;32m----> 3\u001b[0m     \u001b[43mc\u001b[49m \u001b[38;5;241m*\u001b[39m \u001b[38;5;241m3\u001b[39m\n\u001b[0;32m      4\u001b[0m \u001b[38;5;28;01mfinally\u001b[39;00m:\n\u001b[0;32m      5\u001b[0m     \u001b[38;5;28mprint\u001b[39m(\u001b[38;5;124m\"\u001b[39m\u001b[38;5;124mfinally\u001b[39m\u001b[38;5;124m\"\u001b[39m)\n",
      "\u001b[1;31mNameError\u001b[0m: name 'c' is not defined"
     ]
    }
   ],
   "source": [
    "try:\n",
    "    print(\"TestTry\")\n",
    "    c * 3\n",
    "finally:\n",
    "    print(\"finally\")"
   ]
  },
  {
   "cell_type": "markdown",
   "id": "92e44669",
   "metadata": {},
   "source": [
    "## try else\n",
    "+ else 區塊代表 try 區塊沒有產生例外時執行的區塊。\n",
    "+ 如果 else 區塊內產生例外狀況仍會造成程式中斷。\n"
   ]
  },
  {
   "cell_type": "code",
   "execution_count": 59,
   "id": "04defabb",
   "metadata": {},
   "outputs": [
    {
     "name": "stdout",
     "output_type": "stream",
     "text": [
      "錯誤\n"
     ]
    }
   ],
   "source": [
    "num1 = 10\n",
    "num2 = 0\n",
    "nums = [1,3,5,7,9]\n",
    "try:\n",
    "    print(num3)\n",
    "except:\n",
    "    print(\"錯誤\")\n",
    "else:\n",
    "    print(\"無錯\")"
   ]
  },
  {
   "cell_type": "code",
   "execution_count": 61,
   "id": "9a498a3d",
   "metadata": {},
   "outputs": [
    {
     "name": "stdout",
     "output_type": "stream",
     "text": [
      "10\n"
     ]
    },
    {
     "ename": "NameError",
     "evalue": "name 'num3' is not defined",
     "output_type": "error",
     "traceback": [
      "\u001b[1;31m---------------------------------------------------------------------------\u001b[0m",
      "\u001b[1;31mNameError\u001b[0m                                 Traceback (most recent call last)",
      "Input \u001b[1;32mIn [61]\u001b[0m, in \u001b[0;36m<cell line: 4>\u001b[1;34m()\u001b[0m\n\u001b[0;32m      7\u001b[0m     \u001b[38;5;28mprint\u001b[39m(\u001b[38;5;124m\"\u001b[39m\u001b[38;5;124m錯誤\u001b[39m\u001b[38;5;124m\"\u001b[39m)\n\u001b[0;32m      8\u001b[0m \u001b[38;5;28;01melse\u001b[39;00m:\n\u001b[1;32m----> 9\u001b[0m     \u001b[38;5;28mprint\u001b[39m(num1\u001b[38;5;241m/\u001b[39m\u001b[43mnum3\u001b[49m)\n\u001b[0;32m     10\u001b[0m     \u001b[38;5;28mprint\u001b[39m(\u001b[38;5;124m\"\u001b[39m\u001b[38;5;124m無錯\u001b[39m\u001b[38;5;124m\"\u001b[39m)\n",
      "\u001b[1;31mNameError\u001b[0m: name 'num3' is not defined"
     ]
    }
   ],
   "source": [
    "num1 = 10\n",
    "num2 = 0\n",
    "nums = [1,3,5,7,9]\n",
    "try:\n",
    "    print(num1)\n",
    "except:\n",
    "    print(\"錯誤\")\n",
    "else:\n",
    "    print(num1/num3)\n",
    "    print(\"無錯\")"
   ]
  },
  {
   "cell_type": "markdown",
   "id": "08718cd4",
   "metadata": {},
   "source": [
    "## 例外物件使用\n",
    "+ 取得例外物件資訊\n",
    " + except捕捉到例外後，將例外物件指定給變數\n",
    " + 使用 type(), str() 取得物件資訊\n",
    "    except ValueError as e：\n",
    "    print(type(e), str(e))\n",
    " + 多個例外使用相同處理邏輯用，隔開 except ValueError, ZeroDivisionError as e：\n",
    "+ sys.exc_info()方法取得進階的例外資訊 \n",
    "   + 傳回一個Tuple物件\n",
    "   + 包括三個內容\n",
    "     + 例外的類型、例外訊息以及traceback物件"
   ]
  },
  {
   "cell_type": "code",
   "execution_count": 62,
   "id": "79e49863",
   "metadata": {},
   "outputs": [
    {
     "name": "stdout",
     "output_type": "stream",
     "text": [
      "division by zero\n",
      "<class 'ZeroDivisionError'>\n",
      "Error 發生\n",
      "結束\n"
     ]
    }
   ],
   "source": [
    "num1 = 10\n",
    "num2 = 0\n",
    "try:\n",
    "    num1/num2\n",
    "except ZeroDivisionError as ex:\n",
    "    print(ex)\n",
    "    print(type(ex))\n",
    "    print(\"Error 發生\")\n",
    "finally:\n",
    "    print(\"結束\")"
   ]
  },
  {
   "cell_type": "code",
   "execution_count": null,
   "id": "ff5c7de3",
   "metadata": {},
   "outputs": [],
   "source": []
  }
 ],
 "metadata": {
  "kernelspec": {
   "display_name": "Python 3 (ipykernel)",
   "language": "python",
   "name": "python3"
  },
  "language_info": {
   "codemirror_mode": {
    "name": "ipython",
    "version": 3
   },
   "file_extension": ".py",
   "mimetype": "text/x-python",
   "name": "python",
   "nbconvert_exporter": "python",
   "pygments_lexer": "ipython3",
   "version": "3.8.11"
  }
 },
 "nbformat": 4,
 "nbformat_minor": 5
}
