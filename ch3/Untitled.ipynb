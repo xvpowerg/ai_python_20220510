{
 "cells": [
  {
   "cell_type": "markdown",
   "id": "33470a93",
   "metadata": {},
   "source": [
    "# 複合指定運算子"
   ]
  },
  {
   "cell_type": "code",
   "execution_count": 10,
   "id": "dc5caa81",
   "metadata": {},
   "outputs": [
    {
     "name": "stdout",
     "output_type": "stream",
     "text": [
      "2\n",
      "6\n"
     ]
    }
   ],
   "source": [
    "count = 0\n",
    "count += 2\n",
    "#count = count + 2\n",
    "print(count)\n",
    "count *= 3\n",
    "print(count)"
   ]
  },
  {
   "cell_type": "markdown",
   "id": "dab73d0b",
   "metadata": {},
   "source": [
    "# 關係運算判斷"
   ]
  },
  {
   "cell_type": "code",
   "execution_count": 15,
   "id": "3b18f14a",
   "metadata": {},
   "outputs": [
    {
     "name": "stdout",
     "output_type": "stream",
     "text": [
      "大於18\n",
      "結束!\n"
     ]
    }
   ],
   "source": [
    "a = 20\n",
    "if a > 18:\n",
    " print(\"大於18\")  \n",
    "print(\"結束!\")"
   ]
  },
  {
   "cell_type": "code",
   "execution_count": 17,
   "id": "b6749bff",
   "metadata": {},
   "outputs": [
    {
     "name": "stdout",
     "output_type": "stream",
     "text": [
      "大於18\n",
      "結束~\n"
     ]
    }
   ],
   "source": [
    "a = 20\n",
    "if a > 18:\n",
    "    print(\"大於18\")\n",
    "else:\n",
    "    print(\"小於18\")\n",
    "print(\"結束~\")    "
   ]
  },
  {
   "cell_type": "code",
   "execution_count": 23,
   "id": "b0888ce0",
   "metadata": {},
   "outputs": [],
   "source": [
    "a = 13\n",
    "if a > 18:\n",
    "    print(\"大於18\")\n",
    "elif a > 12:\n",
    "    print(\"大於12\")\n",
    "elif a >= 5:\n",
    "    print(\"大於5\")\n",
    "else:\n",
    "    print(\"小於5\")"
   ]
  },
  {
   "cell_type": "markdown",
   "id": "44ed654a",
   "metadata": {},
   "source": [
    "# 邏輯運算符號"
   ]
  },
  {
   "cell_type": "code",
   "execution_count": 26,
   "id": "5b058759",
   "metadata": {},
   "outputs": [
    {
     "name": "stdout",
     "output_type": "stream",
     "text": [
      "ok-1\n",
      "ok-2\n",
      "ok-3\n"
     ]
    }
   ],
   "source": [
    "a = 17\n",
    "if a >= 12 and a < 18:\n",
    "    print(\"ok-1\")\n",
    "else:\n",
    "    print(\"cancel-1\")\n",
    "\n",
    "if 12<= a < 18:  \n",
    "    print(\"ok-2\")\n",
    "else:\n",
    "    print(\"cancel-2\")\n",
    "\n",
    "if not a > 18:\n",
    "    print(\"ok-3\")\n",
    "else:\n",
    "    print(\"cancel-3\")"
   ]
  },
  {
   "cell_type": "markdown",
   "id": "666f53c0",
   "metadata": {},
   "source": [
    "# While"
   ]
  },
  {
   "cell_type": "code",
   "execution_count": 27,
   "id": "824eeda1",
   "metadata": {},
   "outputs": [
    {
     "name": "stdout",
     "output_type": "stream",
     "text": [
      "6\n",
      "5\n",
      "4\n",
      "3\n",
      "2\n",
      "1\n",
      "離開後的a為: 0\n"
     ]
    }
   ],
   "source": [
    "a = 6\n",
    "while a > 0:\n",
    "    print(a)\n",
    "    a -= 1\n",
    "print(\"離開後的a為:\",a)    "
   ]
  },
  {
   "cell_type": "markdown",
   "id": "bb4379cc",
   "metadata": {},
   "source": [
    "# For\n",
    "## range(起始值,結束值不包含, 固定變化量)"
   ]
  },
  {
   "cell_type": "code",
   "execution_count": 28,
   "id": "dc91a2cc",
   "metadata": {},
   "outputs": [
    {
     "name": "stdout",
     "output_type": "stream",
     "text": [
      "0\n",
      "1\n",
      "2\n",
      "3\n",
      "離開For之後: 3\n"
     ]
    }
   ],
   "source": [
    "for i in range(4):\n",
    "    print(i)\n",
    "print(\"離開For之後:\",i)    "
   ]
  },
  {
   "cell_type": "code",
   "execution_count": 29,
   "id": "e8f9fe69",
   "metadata": {},
   "outputs": [
    {
     "name": "stdout",
     "output_type": "stream",
     "text": [
      "4\n",
      "5\n",
      "6\n",
      "7\n",
      "離開後的i: 7\n"
     ]
    }
   ],
   "source": [
    "for i in range(4,8):\n",
    "    print(i)\n",
    "print(\"離開後的i:\",i)    "
   ]
  },
  {
   "cell_type": "code",
   "execution_count": 33,
   "id": "bacfd74e",
   "metadata": {},
   "outputs": [
    {
     "name": "stdout",
     "output_type": "stream",
     "text": [
      "三個參數:\n",
      "4\n",
      "3\n",
      "2\n",
      "1\n",
      "0\n",
      "離開後的i: 0\n"
     ]
    }
   ],
   "source": [
    "print(\"三個參數:\")\n",
    "for i in range(4,-1,-1):\n",
    "    print(i)\n",
    "print(\"離開後的i:\",i)    "
   ]
  },
  {
   "cell_type": "markdown",
   "id": "b0fd5943",
   "metadata": {},
   "source": [
    "# break 與 continue"
   ]
  },
  {
   "cell_type": "code",
   "execution_count": 35,
   "id": "2c032d56",
   "metadata": {},
   "outputs": [
    {
     "name": "stdout",
     "output_type": "stream",
     "text": [
      "a\n",
      "b\n"
     ]
    }
   ],
   "source": [
    "i = ['a','b','c','d']\n",
    "for j in i:\n",
    "    if j == 'c':\n",
    "        break\n",
    "    print(j)\n",
    "    "
   ]
  },
  {
   "cell_type": "code",
   "execution_count": 36,
   "id": "bbbec14d",
   "metadata": {},
   "outputs": [
    {
     "name": "stdout",
     "output_type": "stream",
     "text": [
      "a\n",
      "b\n",
      "d\n"
     ]
    }
   ],
   "source": [
    "i = ['a','b','c','d']\n",
    "for j in i:\n",
    "    if j == 'c':\n",
    "        continue\n",
    "    print(j)"
   ]
  },
  {
   "cell_type": "markdown",
   "id": "326a01a9",
   "metadata": {},
   "source": [
    "# 字串"
   ]
  },
  {
   "cell_type": "code",
   "execution_count": 41,
   "id": "112ad1d8",
   "metadata": {},
   "outputs": [
    {
     "name": "stdout",
     "output_type": "stream",
     "text": [
      "{\"firstName\":\"ken\"}\n",
      "{\"first'Name\":\"ken\"}\n"
     ]
    }
   ],
   "source": [
    "jsonStr = '{\"firstName\":\"ken\"}'\n",
    "print(jsonStr)\n",
    "jsonStr = '{\"first\\'Name\":\"ken\"}'\n",
    "print(jsonStr)"
   ]
  },
  {
   "cell_type": "markdown",
   "id": "b6180ca9",
   "metadata": {},
   "source": [
    "# 跳脫字元"
   ]
  },
  {
   "cell_type": "code",
   "execution_count": 44,
   "id": "a050310c",
   "metadata": {},
   "outputs": [
    {
     "name": "stdout",
     "output_type": "stream",
     "text": [
      "This is \" Python\"\n",
      "Test1 \n",
      " Test2 \t test3\n",
      "c:\\test\\myfile\n"
     ]
    }
   ],
   "source": [
    "str = \"This is \\\" Python\\\"\"\n",
    "print(str)\n",
    "str = \"Test1 \\n Test2 \\t test3\"\n",
    "print(str)\n",
    "str = \"c:\\\\test\\\\myfile\"\n",
    "print(str)"
   ]
  },
  {
   "cell_type": "code",
   "execution_count": 47,
   "id": "35d4aae2",
   "metadata": {},
   "outputs": [
    {
     "name": "stdout",
     "output_type": "stream",
     "text": [
      "新版 iPad Air 外觀與第四代皆用較為方正的直角切邊設計，個人是比較喜歡這樣的外型設計。\n",
      " 另外螢幕為 10.9 吋 IPS 面板，\n",
      " Liquid Retina 的解析度為 2360x1640 ，像素密度為\n",
      "新版 iPad Air 外觀與第四代皆用較為方正的直角切邊設計，個人是比較喜歡這樣的外型設計。\n",
      "另外螢幕為 10.9 吋 IPS 面板，\n",
      "Liquid Retina 的解析度為 2360x1640 ，像素密度為 \n"
     ]
    }
   ],
   "source": [
    "strmsg = \"新版 iPad Air 外觀與第四代皆用較為方正的直角切邊設計，個人是比較喜歡這樣的外型設計。\\n 另外螢幕為 10.9 吋 IPS 面板，\\n Liquid Retina 的解析度為 2360x1640 ，像素密度為\"\n",
    "print(strmsg)\n",
    "strmsg = \"\"\"新版 iPad Air 外觀與第四代皆用較為方正的直角切邊設計，個人是比較喜歡這樣的外型設計。\n",
    "另外螢幕為 10.9 吋 IPS 面板，\n",
    "Liquid Retina 的解析度為 2360x1640 ，像素密度為 \"\"\"\n",
    "print(strmsg)"
   ]
  },
  {
   "attachments": {
    "image.png": {
     "image/png": "[encoded data removed]"
    }
   },
   "cell_type": "markdown",
   "id": "0252a8aa",
   "metadata": {},
   "source": [
    "## 索引編號與取值\n",
    "![image.png](attachment:image.png)"
   ]
  },
  {
   "cell_type": "code",
   "execution_count": 68,
   "id": "d66fd93a",
   "metadata": {},
   "outputs": [
    {
     "name": "stdout",
     "output_type": "stream",
     "text": [
      "H\n",
      "l\n",
      "d\n",
      "l\n",
      "llo World\n",
      "ell\n",
      "ello W\n",
      "orld\n",
      "HloWrd\n",
      "dlroW olleH\n",
      "lroW\n",
      "olleH\n"
     ]
    }
   ],
   "source": [
    "str = \"Hello World\"\n",
    "print(str[0])\n",
    "print(str[2])\n",
    "print(str[-1])\n",
    "print(str[-2])\n",
    "\n",
    "print(str[2:])\n",
    "print(str[1:4])\n",
    "print(str[1:7])\n",
    "print(str[7:11])\n",
    "\n",
    "print(str[::2]) #左往右每次+2\n",
    "print(str[::-1])#右往左每次-1\n",
    "print(str[-2:-6:-1])\n",
    "print(str[-7::-1])\n"
   ]
  },
  {
   "cell_type": "code",
   "execution_count": null,
   "id": "2a5a4d0c",
   "metadata": {},
   "outputs": [],
   "source": []
  }
 ],
 "metadata": {
  "kernelspec": {
   "display_name": "Python 3 (ipykernel)",
   "language": "python",
   "name": "python3"
  },
  "language_info": {
   "codemirror_mode": {
    "name": "ipython",
    "version": 3
   },
   "file_extension": ".py",
   "mimetype": "text/x-python",
   "name": "python",
   "nbconvert_exporter": "python",
   "pygments_lexer": "ipython3",
   "version": "3.8.11"
  }
 },
 "nbformat": 4,
 "nbformat_minor": 5
}
