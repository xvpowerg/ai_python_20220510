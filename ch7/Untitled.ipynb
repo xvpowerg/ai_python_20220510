{
 "cells": [
  {
   "cell_type": "markdown",
   "id": "61755d07",
   "metadata": {},
   "source": [
    "# 作業"
   ]
  },
  {
   "cell_type": "code",
   "execution_count": 2,
   "id": "72a6a0b9",
   "metadata": {},
   "outputs": [
    {
     "name": "stdout",
     "output_type": "stream",
     "text": [
      "請輸入第1個月的支出金額5000\n",
      "請輸入第2個月的支出金額4000\n",
      "請輸入第3個月的支出金額3500\n",
      "請輸入第4個月的支出金額7000\n",
      "max:7000\n",
      "min:3500\n",
      "sum:19500\n"
     ]
    }
   ],
   "source": [
    "priceList=[]\n",
    "priceSum=0\n",
    "for i in range(1,5):\n",
    "    p =  int (input(f\"請輸入第{i}個月的支出金額\"))\n",
    "    priceSum += p\n",
    "    priceList.append(p)\n",
    "priceList.sort()   \n",
    "print(f\"max:{priceList[-1]}\")\n",
    "print(f\"min:{priceList[0]}\")\n",
    "print(f\"sum:{priceSum}\")"
   ]
  },
  {
   "cell_type": "markdown",
   "id": "3879c7c1",
   "metadata": {},
   "source": [
    "# 函數變數"
   ]
  },
  {
   "cell_type": "markdown",
   "id": "5d39b835",
   "metadata": {},
   "source": [
    "## 變數影響範圍\n",
    "+ 函數外的變數：\n",
    "  + 函數內可以顯示該變數內容\n",
    "  + 不屬於函數的區域內都可以使用\n",
    "+ 函數內的變數：\n",
    "  + 只在函數內產生效果，不會影響函數外的變數\n",
    "  + 若函數內沒有進行變數宣告而進行改變內容動作將會產生錯誤訊息!"
   ]
  },
  {
   "cell_type": "code",
   "execution_count": 4,
   "id": "88a2c98c",
   "metadata": {},
   "outputs": [
    {
     "name": "stdout",
     "output_type": "stream",
     "text": [
      "內部: 10\n",
      "外部: 5\n"
     ]
    }
   ],
   "source": [
    "a =5\n",
    "def func_sum():\n",
    "    a = 10\n",
    "    print(\"內部:\",a);\n",
    "func_sum()    \n",
    "print(\"外部:\",a);    "
   ]
  },
  {
   "cell_type": "code",
   "execution_count": 8,
   "id": "4651ea94",
   "metadata": {},
   "outputs": [
    {
     "ename": "UnboundLocalError",
     "evalue": "local variable 'a' referenced before assignment",
     "output_type": "error",
     "traceback": [
      "\u001b[1;31m---------------------------------------------------------------------------\u001b[0m",
      "\u001b[1;31mUnboundLocalError\u001b[0m                         Traceback (most recent call last)",
      "Input \u001b[1;32mIn [8]\u001b[0m, in \u001b[0;36m<cell line: 5>\u001b[1;34m()\u001b[0m\n\u001b[0;32m      3\u001b[0m     a \u001b[38;5;241m=\u001b[39m a \u001b[38;5;241m+\u001b[39m \u001b[38;5;241m1\u001b[39m\n\u001b[0;32m      4\u001b[0m     \u001b[38;5;28mprint\u001b[39m(\u001b[38;5;124m\"\u001b[39m\u001b[38;5;124min a:\u001b[39m\u001b[38;5;124m\"\u001b[39m,a)\n\u001b[1;32m----> 5\u001b[0m \u001b[43mfunc_sum2\u001b[49m\u001b[43m(\u001b[49m\u001b[43m)\u001b[49m   \n\u001b[0;32m      6\u001b[0m \u001b[38;5;28mprint\u001b[39m(\u001b[38;5;124m\"\u001b[39m\u001b[38;5;124mout a:\u001b[39m\u001b[38;5;124m\"\u001b[39m,a)\n",
      "Input \u001b[1;32mIn [8]\u001b[0m, in \u001b[0;36mfunc_sum2\u001b[1;34m()\u001b[0m\n\u001b[0;32m      2\u001b[0m \u001b[38;5;28;01mdef\u001b[39;00m \u001b[38;5;21mfunc_sum2\u001b[39m():\n\u001b[1;32m----> 3\u001b[0m     a \u001b[38;5;241m=\u001b[39m \u001b[43ma\u001b[49m \u001b[38;5;241m+\u001b[39m \u001b[38;5;241m1\u001b[39m\n\u001b[0;32m      4\u001b[0m     \u001b[38;5;28mprint\u001b[39m(\u001b[38;5;124m\"\u001b[39m\u001b[38;5;124min a:\u001b[39m\u001b[38;5;124m\"\u001b[39m,a)\n",
      "\u001b[1;31mUnboundLocalError\u001b[0m: local variable 'a' referenced before assignment"
     ]
    }
   ],
   "source": [
    "a = 5\n",
    "def func_sum2():\n",
    "    a = a + 1 #出錯因為計算了a\n",
    "    print(\"in a:\",a)\n",
    "func_sum2()   \n",
    "print(\"out a:\",a)    "
   ]
  },
  {
   "cell_type": "code",
   "execution_count": 9,
   "id": "b209dcf7",
   "metadata": {},
   "outputs": [
    {
     "name": "stdout",
     "output_type": "stream",
     "text": [
      "in b : 6\n",
      "out a: 5\n"
     ]
    }
   ],
   "source": [
    "a = 5\n",
    "def func_sum2():\n",
    "    b = a + 1 \n",
    "    print(\"in b :\",b )\n",
    "func_sum2()   \n",
    "print(\"out a:\",a) "
   ]
  },
  {
   "cell_type": "markdown",
   "id": "c513a73d",
   "metadata": {},
   "source": [
    "## global\n",
    "可控制函數外的變數"
   ]
  },
  {
   "cell_type": "code",
   "execution_count": 10,
   "id": "a9fea4c9",
   "metadata": {},
   "outputs": [
    {
     "name": "stdout",
     "output_type": "stream",
     "text": [
      "8\n"
     ]
    }
   ],
   "source": [
    "a = 3\n",
    "def func_test():\n",
    "    global a\n",
    "    a += 5\n",
    "func_test()\n",
    "print(a)"
   ]
  },
  {
   "cell_type": "code",
   "execution_count": 14,
   "id": "da513906",
   "metadata": {},
   "outputs": [
    {
     "name": "stdout",
     "output_type": "stream",
     "text": [
      "out  5\n",
      "<class 'function'>\n",
      "in 10\n",
      "<class 'NoneType'>\n",
      "in 10\n"
     ]
    }
   ],
   "source": [
    "a= 5\n",
    "def func():\n",
    "    a =10\n",
    "    print(\"in\",a)\n",
    "    \n",
    "print(\"out \",a)\n",
    "print(func.__class__)\n",
    "print(func().__class__)\n",
    "f1 = func\n",
    "f1()"
   ]
  },
  {
   "cell_type": "markdown",
   "id": "4550721b",
   "metadata": {},
   "source": [
    "# 輸出格式"
   ]
  },
  {
   "cell_type": "code",
   "execution_count": 15,
   "id": "2c2e2853",
   "metadata": {},
   "outputs": [
    {
     "name": "stdout",
     "output_type": "stream",
     "text": [
      "Hello:ken Age:10\n"
     ]
    }
   ],
   "source": [
    "name = \"ken\"\n",
    "age = 10\n",
    "str1 = \"Hello:%s Age:%d\" %(name,age)\n",
    "print(str1)"
   ]
  },
  {
   "cell_type": "code",
   "execution_count": 23,
   "id": "42588ee5",
   "metadata": {},
   "outputs": [
    {
     "name": "stdout",
     "output_type": "stream",
     "text": [
      "y :Ken  16進位顯示x:a8\n"
     ]
    }
   ],
   "source": [
    "x = 168\n",
    "y = \"Ken\"\n",
    "print(\"y :%s  16進位顯示x:%x\"%(y,x))"
   ]
  },
  {
   "cell_type": "markdown",
   "id": "007e29a1",
   "metadata": {},
   "source": [
    "## 不滿n位數補空格"
   ]
  },
  {
   "cell_type": "code",
   "execution_count": 27,
   "id": "10f2c976",
   "metadata": {},
   "outputs": [
    {
     "name": "stdout",
     "output_type": "stream",
     "text": [
      "1*H*\n",
      "2*    H*\n",
      "3*H    *\n"
     ]
    }
   ],
   "source": [
    "c1=\"H\"\n",
    "print(\"1*%s*\"%(c1))\n",
    "print(\"2*%5s*\"%(c1))\n",
    "print(\"3*%-5s*\"%(c1))"
   ]
  },
  {
   "cell_type": "code",
   "execution_count": 40,
   "id": "ce7e43d7",
   "metadata": {},
   "outputs": [
    {
     "name": "stdout",
     "output_type": "stream",
     "text": [
      "1:123.925000\n",
      "2:123.925\n",
      "3: 123.92\n",
      "3:*123.92   *\n"
     ]
    }
   ],
   "source": [
    "b = 123.925\n",
    "print(\"1:%f\"%(b))\n",
    "print(\"2:%.3f\"%(b)) #有四捨五入\n",
    "print(\"3:%7.2f\"%(b))\n",
    "print(\"3:*%-9.2f*\"%(b))"
   ]
  },
  {
   "cell_type": "markdown",
   "id": "224ccba7",
   "metadata": {},
   "source": [
    "## decimal"
   ]
  },
  {
   "cell_type": "code",
   "execution_count": 57,
   "id": "4e1fe00b",
   "metadata": {},
   "outputs": [
    {
     "name": "stdout",
     "output_type": "stream",
     "text": [
      "3.3000000000000003\n",
      "<class 'decimal.Decimal'>\n",
      "3.3\n",
      "5.551115123125783e-17\n",
      "0.0\n",
      "<class 'decimal.Decimal'>\n",
      "4.4\n",
      "9.4\n",
      "<class 'decimal.Decimal'>\n",
      "5.6\n"
     ]
    },
    {
     "ename": "TypeError",
     "evalue": "unsupported operand type(s) for +: 'decimal.Decimal' and 'float'",
     "output_type": "error",
     "traceback": [
      "\u001b[1;31m---------------------------------------------------------------------------\u001b[0m",
      "\u001b[1;31mTypeError\u001b[0m                                 Traceback (most recent call last)",
      "Input \u001b[1;32mIn [57]\u001b[0m, in \u001b[0;36m<cell line: 17>\u001b[1;34m()\u001b[0m\n\u001b[0;32m     15\u001b[0m ans2 \u001b[38;5;241m=\u001b[39m ans \u001b[38;5;241m+\u001b[39m Decimal(\u001b[38;5;124m'\u001b[39m\u001b[38;5;124m1.2\u001b[39m\u001b[38;5;124m'\u001b[39m)\n\u001b[0;32m     16\u001b[0m \u001b[38;5;28mprint\u001b[39m(ans2)\n\u001b[1;32m---> 17\u001b[0m ans2 \u001b[38;5;241m=\u001b[39m \u001b[43mans\u001b[49m\u001b[43m \u001b[49m\u001b[38;5;241;43m+\u001b[39;49m\u001b[38;5;241;43m1.2\u001b[39;49m\n",
      "\u001b[1;31mTypeError\u001b[0m: unsupported operand type(s) for +: 'decimal.Decimal' and 'float'"
     ]
    }
   ],
   "source": [
    "from decimal import *\n",
    "print(1.1+2.2)\n",
    "print(type(Decimal('2.2')))\n",
    "print(Decimal('1.1') + Decimal('2.2'))\n",
    "\n",
    "print(0.1+0.1+0.1-0.3)\n",
    "print(Decimal('0.1') + Decimal('0.1')+Decimal('0.1')-Decimal('0.3'))\n",
    "ans = Decimal('1.1') + Decimal('2.2')\n",
    "print(type(ans))\n",
    "ans += Decimal('1.1')\n",
    "print(ans)\n",
    "ans2 = ans + 5\n",
    "print(ans2) \n",
    "print(type(ans2)) \n",
    "ans2 = ans + Decimal('1.2')\n",
    "print(ans2)\n",
    "ans2 = ans +1.2 #error"
   ]
  },
  {
   "cell_type": "markdown",
   "id": "66d812e5",
   "metadata": {},
   "source": [
    "## f-string"
   ]
  },
  {
   "cell_type": "code",
   "execution_count": 63,
   "id": "a035ced0",
   "metadata": {},
   "outputs": [
    {
     "name": "stdout",
     "output_type": "stream",
     "text": [
      "v1:12\n",
      "v2:*   36*\n",
      "*  12.57*\n",
      "*12.57  *\n"
     ]
    }
   ],
   "source": [
    "v1 = 12\n",
    "str1 = f\"v1:{v1}\"\n",
    "print(str1)\n",
    "v2 = 36\n",
    "print(f\"v2:*{v2:5}*\")\n",
    "f1 = 12.567\n",
    "print(f\"*{f1:7.2f}*\")\n",
    "print(f\"*{f1:<7.2f}*\")"
   ]
  },
  {
   "cell_type": "markdown",
   "id": "0fab74a1",
   "metadata": {},
   "source": [
    "## list 傳送與接收\n",
    "+ 傳送與接收資料可以使用 list。\n",
    "+ 傳送與接收都是相同的位址上的資料。\n",
    "+ list 內可以更新單一資料或著調整\n",
    "   (append、extend、insert、remove、pop、del) 資料。\n",
    "+ list 若以指派方式設定為新的list：\n",
    "  + 資料將會儲存在新的位址。\n",
    "  + 原來 list 沒有變更。"
   ]
  },
  {
   "cell_type": "code",
   "execution_count": 64,
   "id": "f10ad69b",
   "metadata": {},
   "outputs": [
    {
     "name": "stdout",
     "output_type": "stream",
     "text": [
      "3025117688768\n",
      "f out [10, 20, 30]\n",
      "3025117688768\n",
      "3025117688768\n",
      "f in [10, 20, 'c']\n",
      "change out [10, 20, 'c']\n"
     ]
    }
   ],
   "source": [
    "def changeList(myList):\n",
    "    print(id(myList))\n",
    "    myList[2] = 'c'\n",
    "    print(id(myList))\n",
    "    print(f\"f in {myList}\")\n",
    "nList = [10,20,30] \n",
    "print(id(nList))\n",
    "print(f\"f out {nList}\")\n",
    "changeList(nList)\n",
    "print(f\"change out {nList}\")"
   ]
  },
  {
   "cell_type": "code",
   "execution_count": 66,
   "id": "17b60a3c",
   "metadata": {},
   "outputs": [
    {
     "name": "stdout",
     "output_type": "stream",
     "text": [
      "Out List 3025117691776\n",
      "f in 1  3025117691776\n",
      "f in 2  3025117538624\n",
      "f in [1, 2, 3, 4]\n",
      "complete:[100, 200, 300]\n"
     ]
    }
   ],
   "source": [
    "def changeList(myList):\n",
    "    print(\"f in 1 \",id(myList))\n",
    "    myList = [1,2,3,4]#指派方式設定為新的list\n",
    "    print(\"f in 2 \",id(myList))    \n",
    "    print(f\"f in {myList}\")\n",
    "nList = [100,200,300]\n",
    "print(\"Out List\",id(nList))\n",
    "changeList(nList)\n",
    "print(f\"complete:{nList}\")"
   ]
  },
  {
   "cell_type": "code",
   "execution_count": 71,
   "id": "e6004ad9",
   "metadata": {},
   "outputs": [
    {
     "name": "stdout",
     "output_type": "stream",
     "text": [
      "Out List 3025118084096\n",
      "f in 1  3025118084096\n",
      "f in newList  3025117936896\n",
      "newList values [100, 200, 'abc']\n",
      "complete:[100, 200, 300]\n"
     ]
    }
   ],
   "source": [
    "def changeList(myList):\n",
    "    print(\"f in 1 \",id(myList))\n",
    "    newList = myList+[] \n",
    "    newList[2] = 'abc'\n",
    "    print(\"f in newList \",id(newList))    \n",
    "    print(f\"newList values {newList}\")\n",
    "nList = [100,200,300]\n",
    "print(\"Out List\",id(nList))\n",
    "changeList(nList)\n",
    "print(f\"complete:{nList}\")"
   ]
  },
  {
   "cell_type": "markdown",
   "id": "70a1acc6",
   "metadata": {},
   "source": [
    "## list 計算式\n",
    "+ 於 list 使用上，+= 與 = 代表意義不同。\n",
    "+ += 於使用上具有修改資料結構本身，而 = 是重新分配資料內容。\n",
    "+ 所以 x+=1 會在原本的位置上進行修改，但 x=x+1 則是分配到新的位置。\n",
    "+ List 的取值動作除了起始與結束，也可以加入第三個參數：固定間隔。"
   ]
  },
  {
   "cell_type": "code",
   "execution_count": 82,
   "id": "38d895df",
   "metadata": {},
   "outputs": [
    {
     "name": "stdout",
     "output_type": "stream",
     "text": [
      "x: 3025118013440\n",
      "y: 3025118013440\n",
      "z: 3025117690880\n",
      "z v: [0, 1, 2, 15, 16]\n",
      "x v: [0, 1, 2]\n",
      "x v: [0, 1, 2, 8, 9]\n",
      "x id: 3025118013440\n",
      "y v: [0, 1, 2, 8, 9]\n"
     ]
    }
   ],
   "source": [
    "x=y=[0,1,2]\n",
    "print(\"x:\",id(x))\n",
    "print(\"y:\",id(y))\n",
    "z = x + [15,16] # 合併產生新的List\n",
    "print(\"z:\",id(z))\n",
    "print(\"z v:\",z)\n",
    "print(\"x v:\",x)\n",
    "x += [8,9]#　+= [8,9]於x展開\n",
    "print(\"x v:\",x)  \n",
    "print(\"x id:\",id(x))\n",
    "print(\"y v:\",y)"
   ]
  },
  {
   "cell_type": "markdown",
   "id": "e786e65f",
   "metadata": {},
   "source": [
    "# 函數其他用法\n",
    "## 預設參數"
   ]
  },
  {
   "cell_type": "code",
   "execution_count": 89,
   "id": "11896639",
   "metadata": {},
   "outputs": [
    {
     "name": "stdout",
     "output_type": "stream",
     "text": [
      "name: ken\n",
      "Age: 18\n",
      "=========================\n",
      "name: Iris\n",
      "Age: 18\n",
      "=========================\n",
      "name: 300\n",
      "Age: 18\n",
      "=========================\n",
      "name: ken\n",
      "Age: 300\n",
      "=========================\n",
      "name: Join\n",
      "Age: 25\n",
      "=========================\n",
      "name: Lucy\n",
      "Age: 32\n",
      "=========================\n"
     ]
    }
   ],
   "source": [
    "def printInfo(name = \"ken\",age = 18):\n",
    "    print(\"name:\",name)\n",
    "    print(\"Age:\",age)\n",
    "    print(\"=========================\")\n",
    "printInfo()    \n",
    "printInfo(\"Iris\")   \n",
    "printInfo(300)  \n",
    "printInfo(age = 300)  \n",
    "printInfo(\"Join\",25) \n",
    "printInfo(age=32,name=\"Lucy\") "
   ]
  },
  {
   "cell_type": "code",
   "execution_count": null,
   "id": "28aa8a97",
   "metadata": {},
   "outputs": [],
   "source": []
  }
 ],
 "metadata": {
  "kernelspec": {
   "display_name": "Python 3 (ipykernel)",
   "language": "python",
   "name": "python3"
  },
  "language_info": {
   "codemirror_mode": {
    "name": "ipython",
    "version": 3
   },
   "file_extension": ".py",
   "mimetype": "text/x-python",
   "name": "python",
   "nbconvert_exporter": "python",
   "pygments_lexer": "ipython3",
   "version": "3.8.11"
  }
 },
 "nbformat": 4,
 "nbformat_minor": 5
}
