{
 "cells": [
  {
   "cell_type": "markdown",
   "id": "e9eda71e",
   "metadata": {},
   "source": [
    "# 資料新增刪除轉換與取代\n",
    "+ DdataFrame的新增\n",
    "+ DdataFrame的刪除\n",
    "+ 資料轉換處理包含\n",
    "  + 資料取代\n",
    "  + 資料分析後轉換\n",
    "+ 資料取代\n",
    "  + 可使用 replace 方式來替換指定的值\n",
    "+ Column 的索引值名稱變更\n",
    "  + df=df.rename(columns={'原來名稱':'新的名稱'})  "
   ]
  },
  {
   "cell_type": "markdown",
   "id": "1e19dfc1",
   "metadata": {},
   "source": [
    "## 資料新增(補充)"
   ]
  },
  {
   "cell_type": "code",
   "execution_count": 2,
   "id": "ade78d56",
   "metadata": {},
   "outputs": [
    {
     "name": "stdout",
     "output_type": "stream",
     "text": [
      "   A  B  C\n",
      "a  1  2  3\n",
      "b  4  5  6\n",
      "================\n",
      "   A  B  C\n",
      "x  1  2  3\n",
      "y  4  5  6\n",
      "======新增1個row==========\n",
      "   A   B   C\n",
      "x  1   2   3\n",
      "y  4   5   6\n",
      "c  9  11  12\n",
      "======新增n個row==========\n",
      "    A   B   C\n",
      "d  20  21  22\n",
      "e  23  24  25\n",
      "    A   B   C\n",
      "x   1   2   3\n",
      "y   4   5   6\n",
      "c   9  11  12\n",
      "d  20  21  22\n",
      "e  23  24  25\n",
      "======新增1個colum==========\n",
      "   A   B   C   D\n",
      "x  1   2   3  31\n",
      "y  4   5   6  38\n",
      "c  9  11  12  32\n",
      "======新增1個 名為mean的colum==========\n",
      "   A   B   C   D   mean\n",
      "x  1   2   3  31   9.25\n",
      "y  4   5   6  38  13.25\n",
      "c  9  11  12  32  16.00\n",
      "======新增n個colum==========\n",
      "   A   B   C   D   G   H   J\n",
      "x  1   2   3  31  51  52  53\n",
      "y  4   5   6  38  61  62  63\n",
      "c  9  11  12  32  71  72  73\n"
     ]
    }
   ],
   "source": [
    "import pandas as pd\n",
    "data = [[1,2,3],[4,5,6]]\n",
    "index = ['a','b']\n",
    "columns = ['A','B','C']\n",
    "df = pd.DataFrame(data=data,index=index,columns=columns)\n",
    "print(df)\n",
    "df.index = [\"x\",\"y\"]# 修改index\n",
    "print(\"================\")\n",
    "print(df)\n",
    "print(\"======新增1個row==========\")\n",
    "df.loc['c'] = [9,11,12]\n",
    "print(df)\n",
    "print(\"======新增n個row==========\")\n",
    "df2 = pd.DataFrame([[20,21,22],[23,24,25]],index=[\"d\",\"e\"],columns=[\"A\",\"B\",\"C\"])\n",
    "print(df2)\n",
    "df3 = pd.concat([df,df2])\n",
    "print(df3)\n",
    "print(\"======新增1個colum==========\")\n",
    "df[\"D\"] = [31,38,32]\n",
    "print(df)\n",
    "print(\"======新增1個 名為mean的colum==========\")\n",
    "df2 = df.assign(mean=df.mean(axis=1))\n",
    "print(df2)\n",
    "print(\"======新增n個colum==========\")\n",
    "df4 = pd.DataFrame([[51,52,53],[61,62,63],[71,72,73]],index=['x','y','c'],columns=[\"G\",\"H\",\"J\"])\n",
    "df5 = pd.concat([df,df4],axis=1)\n",
    "print(df5)"
   ]
  },
  {
   "cell_type": "markdown",
   "id": "a12914cf",
   "metadata": {},
   "source": [
    "## 刪除資料(補充)"
   ]
  },
  {
   "cell_type": "code",
   "execution_count": 51,
   "id": "0e6766f2",
   "metadata": {},
   "outputs": [
    {
     "name": "stdout",
     "output_type": "stream",
     "text": [
      "   Score1  Score2\n",
      "A      72      92\n",
      "B      55      65\n",
      "C      43      84\n",
      "====================\n",
      "   Score1  Score2\n",
      "A      72      92\n",
      "C      43      84\n",
      "====================\n",
      "   Score1\n",
      "A      72\n",
      "B      55\n",
      "C      43\n",
      "====================\n",
      "   Score1\n",
      "A      72\n",
      "B      55\n",
      "C      43\n",
      "====================\n",
      "A    72\n",
      "B    55\n",
      "C    43\n",
      "Name: Score1, dtype: int64\n"
     ]
    }
   ],
   "source": [
    "import pandas as pd\n",
    "data1={\"Score1\":[72,55,43],\"Score2\":[92,65,84]}\n",
    "df = pd.DataFrame(data1,index=[\"A\",\"B\",\"C\"])\n",
    "print(df)\n",
    "# 預設axis為0\n",
    "df2 = df.drop(\"B\",axis=0) #刪除row\n",
    "print(\"====================\")\n",
    "print(df2)\n",
    "print(\"====================\")\n",
    "df2 = df.drop(\"Score2\",axis=1)#刪除colum\n",
    "print(df2)\n",
    "print(\"====================\")\n",
    "df.drop(\"Score2\",axis=1,inplace=True)#刪除colum\n",
    "print(df)"
   ]
  },
  {
   "cell_type": "code",
   "execution_count": 2,
   "id": "40cb5c2e",
   "metadata": {},
   "outputs": [
    {
     "name": "stdout",
     "output_type": "stream",
     "text": [
      "        A   B   C   D   E   F\n",
      "Ken     1   2   3   4   5   6\n",
      "Vivin  10  11  12  13  14  15\n",
      "Lucy   20  21  22  23  24  25\n",
      "========================\n",
      "        B   C   F\n",
      "Ken     2   3   6\n",
      "Vivin  11  12  15\n",
      "Lucy   21  22  25\n",
      "     A  B  C  D  E  F\n",
      "Ken  1  2  3  4  5  6\n"
     ]
    }
   ],
   "source": [
    "import pandas as pd\n",
    "df = pd.DataFrame([[1,2,3,4,5,6],\n",
    "                   [10,11,12,13,14,15],\n",
    "                  [20,21,22,23,24,25]],index=[\"Ken\",\"Vivin\",\"Lucy\"],columns=[\"A\",\"B\",\"C\",\"D\",\"E\",\"F\"])\n",
    "print(df)\n",
    "print(\"========================\")\n",
    "df2 = df.drop([\"A\",\"D\",\"E\"],axis=1)#移除多colum\n",
    "print(df2)\n",
    "df2 = df.drop(df.index[1:3])#移除多row\n",
    "print(df2)"
   ]
  },
  {
   "cell_type": "markdown",
   "id": "59636e92",
   "metadata": {},
   "source": [
    "## replace(補)"
   ]
  },
  {
   "cell_type": "code",
   "execution_count": 32,
   "id": "065f0573",
   "metadata": {},
   "outputs": [
    {
     "name": "stdout",
     "output_type": "stream",
     "text": [
      "   Score1  Score2\n",
      "A      85      59\n",
      "B      25      59\n",
      "C      80      51\n",
      "===========================\n",
      "   Score1  Score2\n",
      "A      85      60\n",
      "B      25      60\n",
      "C      80      51\n",
      "===========================\n",
      "  Title   Company\n",
      "A    PM     Lumiy\n",
      "B   NaN  Motorola\n",
      "C    RD      Null\n",
      "===========================\n",
      "   Title   Company\n",
      "A     PM     Lumiy\n",
      "B  ERROR  Motorola\n",
      "C     RD     ERROR\n"
     ]
    }
   ],
   "source": [
    "import pandas as pd\n",
    "df = pd.DataFrame([[85,59],[25,59],[80,51]],index=['A','B','C'],columns=['Score1','Score2'])\n",
    "print(df)\n",
    "print(\"===========================\")\n",
    "df = df.replace(59,60)# 所以59換成60\n",
    "print(df)\n",
    "print(\"===========================\")\n",
    "df2 = pd.DataFrame([[\"PM\",\"Lumiy\"],[\"NaN\",\"Motorola\"],[\"RD\",\"Null\"]],index=['A','B','C'],columns=['Title','Company'])\n",
    "print(df2)\n",
    "print(\"===========================\")\n",
    "df2.replace(to_replace=r\"NaN|Null\",value=\"ERROR\",regex=True,inplace=True)\n",
    "\n",
    "print(df2)"
   ]
  },
  {
   "cell_type": "markdown",
   "id": "64cd7a6d",
   "metadata": {},
   "source": [
    "## Column 的索引值名稱變更(補)"
   ]
  },
  {
   "cell_type": "code",
   "execution_count": 7,
   "id": "f0991a55",
   "metadata": {},
   "outputs": [
    {
     "name": "stdout",
     "output_type": "stream",
     "text": [
      "   Score1  Score2\n",
      "A      85      59\n",
      "B      25      59\n",
      "C      80      51\n",
      "==================\n",
      "   成績1  Score2\n",
      "A   85      59\n",
      "B   25      59\n",
      "C   80      51\n",
      "==================\n",
      "    成績1  Score2\n",
      "A+   85      59\n",
      "B    25      59\n",
      "C    80      51\n"
     ]
    }
   ],
   "source": [
    "import pandas as pd\n",
    "df = pd.DataFrame([[85,59],[25,59],[80,51]],index=['A','B','C'],columns=['Score1','Score2'])\n",
    "print(df)\n",
    "df = df.rename(columns={\"Score1\":\"成績1\"})\n",
    "print(\"==================\")\n",
    "print(df)\n",
    "df = df.rename(index={\"A\":\"A+\"})\n",
    "print(\"==================\")\n",
    "print(df)"
   ]
  },
  {
   "cell_type": "markdown",
   "id": "93c82981",
   "metadata": {},
   "source": [
    "## 資料分析轉換\n",
    "+ Series 的 map 方法可以接受一個函數或含有 map 關係的字典型資訊。\n",
    "+ 使用 map 是一種實現元素轉換以及其他資訊清理工作的方式。 \n",
    "+ 可以搭配 Series 或 dict、匿名函數與一般函數作業。"
   ]
  },
  {
   "cell_type": "code",
   "execution_count": 1,
   "id": "db28defe",
   "metadata": {},
   "outputs": [
    {
     "name": "stdout",
     "output_type": "stream",
     "text": [
      "0    0\n",
      "1    1\n",
      "2    2\n",
      "3    3\n",
      "4    4\n",
      "5    5\n",
      "6    6\n",
      "7    7\n",
      "8    8\n",
      "9    9\n",
      "dtype: int64\n",
      "--------------\n",
      "0    10\n",
      "1    11\n",
      "2    12\n",
      "3    13\n",
      "4    14\n",
      "5    15\n",
      "6    16\n",
      "7    17\n",
      "8    18\n",
      "9    19\n",
      "dtype: int64\n",
      "--------------\n",
      "0    0\n",
      "1   -1\n",
      "2   -2\n",
      "3   -3\n",
      "4   -4\n",
      "5   -5\n",
      "6   -6\n",
      "7   -7\n",
      "8   -8\n",
      "9   -9\n",
      "dtype: int64\n",
      "--------------\n"
     ]
    }
   ],
   "source": [
    "import pandas as pd\n",
    "s1 = pd.Series(range(10))\n",
    "s2=s1.map(lambda x:x+10)\n",
    "s3=s1.map(lambda x:x*-1)\n",
    "print(s1)\n",
    "print(\"--------------\")\n",
    "print(s2)\n",
    "print(\"--------------\")\n",
    "print(s3)\n",
    "print(\"--------------\")"
   ]
  },
  {
   "cell_type": "code",
   "execution_count": 9,
   "id": "00b3df5c",
   "metadata": {
    "scrolled": true
   },
   "outputs": [
    {
     "name": "stdout",
     "output_type": "stream",
     "text": [
      "one      1\n",
      "two      2\n",
      "three    3\n",
      "dtype: int64\n",
      "--------------\n",
      "1    foo\n",
      "2    bar\n",
      "3    baz\n",
      "dtype: object\n",
      "--------------\n",
      "one      foo\n",
      "two      bar\n",
      "three    baz\n",
      "dtype: object\n",
      "--------------\n",
      "one      A\n",
      "two      B\n",
      "three    C\n",
      "dtype: object\n",
      "--------------\n",
      "{1: 'A', 2: 'B', 3: 'C'}\n",
      "--------------\n"
     ]
    }
   ],
   "source": [
    "import pandas as pd\n",
    "x = pd.Series([1,2,3], index=['one', 'two', 'three'])\n",
    "y = pd.Series(['foo', 'bar', 'baz'], index=[1,2,3])#可以把index當作key\n",
    "x1=x.map(y) #y的index對上 x的value 決定要換置的數值 在x內 value是1 index:one 在y內value是foo index是1\n",
    "# y的index跟 x的value對上了 把x的value換成y的value \n",
    "z = {1: 'A', 2: 'B', 3: 'C'}\n",
    "x2=x.map(z) # dict內容 key為1 對上 x的value為1的正好取代 x　的value變為A\n",
    "print(x)\n",
    "print(\"--------------\")\n",
    "print(y)\n",
    "print(\"--------------\")\n",
    "print(x1)\n",
    "print(\"--------------\")\n",
    "print(x2)\n",
    "print(\"--------------\")\n",
    "print(z)\n",
    "print(\"--------------\")"
   ]
  },
  {
   "cell_type": "code",
   "execution_count": 17,
   "id": "2961979e",
   "metadata": {},
   "outputs": [
    {
     "name": "stdout",
     "output_type": "stream",
     "text": [
      "          food  ounces\n",
      "0        bacon     4.0\n",
      "1  pulled pork     3.0\n",
      "2        bacon    12.0\n",
      "3     Pastrami     6.0\n",
      "4  Corned beef     7.5\n",
      "5        Bacon     8.0\n",
      "6     pastrami     3.0\n",
      "7    honey ham     5.0\n",
      "8     nova lox     6.0\n",
      "=========================\n",
      "<class 'pandas.core.series.Series'>\n",
      "=========================\n",
      "=========================\n",
      "          food  ounces  animal\n",
      "0        bacon     4.0     pig\n",
      "1  pulled pork     3.0     pig\n",
      "2        bacon    12.0     pig\n",
      "3     Pastrami     6.0     cow\n",
      "4  Corned beef     7.5     cow\n",
      "5        Bacon     8.0     pig\n",
      "6     pastrami     3.0     cow\n",
      "7    honey ham     5.0     pig\n",
      "8     nova lox     6.0  salmon\n"
     ]
    }
   ],
   "source": [
    "import pandas as pd\n",
    "data = pd.DataFrame({'food':['bacon','pulled pork','bacon','Pastrami',\n",
    "            'Corned beef','Bacon','pastrami','honey ham','nova lox'],\n",
    "                  'ounces':[4,3,12,6,7.5,8,3,5,6]})\n",
    "print(data)\n",
    "print(\"=========================\")\n",
    "print(type(data['food']))\n",
    "print(\"=========================\")\n",
    "meat_to_animal = {\n",
    "    'bacon':'pig', 'pulled pork':'pig',\n",
    "    'pastrami':'cow','corned beef':'cow',\n",
    "    'honey ham':'pig', 'nova lox':'salmon' }\n",
    "data['animal'] = data['food'].map(str.lower).map(meat_to_animal) # 建立一組新的animal欄位 將修改後的數值寫入\n",
    "# 假設有一組需求 須建立food 對映 animal的關係\n",
    "print(\"=========================\")\n",
    "print(data)\n"
   ]
  },
  {
   "cell_type": "code",
   "execution_count": 2,
   "id": "a13bca41",
   "metadata": {},
   "outputs": [
    {
     "name": "stdout",
     "output_type": "stream",
     "text": [
      "--------------\n",
      "2018-09-25    0\n",
      "2018-09-26    1\n",
      "2018-09-27    2\n",
      "2018-09-28    3\n",
      "2018-09-29    4\n",
      "2018-09-30    5\n",
      "2018-10-01    6\n",
      "2018-10-02    7\n",
      "2018-10-03    8\n",
      "2018-10-04    9\n",
      "Freq: D, dtype: int64\n",
      "--------------\n",
      "Int64Index([25, 26, 27, 28, 29, 30, 1, 2, 3, 4], dtype='int64')\n",
      "--------------\n",
      "Int64Index([1, 2, 3, 4, 5, 6, 0, 1, 2, 3], dtype='int64')\n",
      "--------------\n",
      "2018-09-25    10\n",
      "2018-09-26    11\n",
      "2018-09-27    12\n",
      "2018-09-28    13\n",
      "2018-09-29    14\n",
      "2018-09-30    15\n",
      "2018-10-01    16\n",
      "2018-10-02    17\n",
      "2018-10-03    18\n",
      "2018-10-04    19\n",
      "Freq: D, dtype: int64\n",
      "--------------\n",
      "2018-09-25     True\n",
      "2018-09-26     True\n",
      "2018-09-27     True\n",
      "2018-09-28     True\n",
      "2018-09-29     True\n",
      "2018-09-30    False\n",
      "2018-10-01    False\n",
      "2018-10-02    False\n",
      "2018-10-03    False\n",
      "2018-10-04    False\n",
      "Freq: D, dtype: bool\n",
      "--------------\n",
      "2018-09-25    0\n",
      "2018-09-26    1\n",
      "2018-09-27    2\n",
      "2018-09-28    3\n",
      "2018-09-29    4\n",
      "2018-09-30    5\n",
      "2018-10-01    6\n",
      "2018-10-02    7\n",
      "2018-10-03    8\n",
      "2018-10-04    9\n",
      "Freq: D, dtype: int64\n",
      "--------------\n",
      "25    0\n",
      "26    1\n",
      "27    2\n",
      "28    3\n",
      "29    4\n",
      "30    5\n",
      "1     6\n",
      "2     7\n",
      "3     8\n",
      "4     9\n",
      "dtype: int64\n",
      "--------------\n"
     ]
    }
   ],
   "source": [
    "import pandas as pd\n",
    "indexdate = pd.date_range('2018-09-25', periods=10)\n",
    "print(\"--------------\")\n",
    "s1 = pd.Series(list(range(10)), index=indexdate)\n",
    "s2=s1.index.map(lambda x: x.day) # 改變index為day\n",
    "s3=s1.index.map(lambda x: x.weekday) # 改變index為星期幾 0是周一\n",
    "s4=s1.map(lambda x: x+10) # 把value + 10\n",
    "def f(x):\n",
    "    if x < 5:\n",
    "        return True\n",
    "    else:\n",
    "        return False\n",
    "s5=s1.map(f)\n",
    "s6 = pd.Series(list(range(10)), index=indexdate)\n",
    "print(s1)\n",
    "print(\"--------------\")\n",
    "print(s2)\n",
    "print(\"--------------\")\n",
    "print(s3)\n",
    "print(\"--------------\")\n",
    "print(s4)\n",
    "print(\"--------------\")\n",
    "print(s5)\n",
    "print(\"--------------\")\n",
    "print(s6)\n",
    "print(\"--------------\")\n",
    "s6.index = s2 #將index換成day\n",
    "print(s6)\n",
    "print(\"--------------\")"
   ]
  },
  {
   "cell_type": "markdown",
   "id": "1efc58b2",
   "metadata": {},
   "source": [
    "## Apply"
   ]
  },
  {
   "cell_type": "code",
   "execution_count": 2,
   "id": "7c8ac2cf",
   "metadata": {},
   "outputs": [
    {
     "name": "stdout",
     "output_type": "stream",
     "text": [
      "          food  ounces\n",
      "0        bacon     4.0\n",
      "1  pulled pork     3.0\n",
      "2        bacon    12.0\n",
      "3     Pastrami     6.0\n",
      "4  Corned beef     7.5\n",
      "5        Bacon     8.0\n",
      "6     pastrami     3.0\n",
      "7    honey ham     5.0\n",
      "8     nova lox     6.0\n",
      "=========================\n",
      "=========================\n",
      "          food  ounces      food-ounces\n",
      "0        bacon     4.0        bacon-4.0\n",
      "1  pulled pork     3.0  pulled pork-3.0\n",
      "2        bacon    12.0       bacon-12.0\n",
      "3     Pastrami     6.0     Pastrami-6.0\n",
      "4  Corned beef     7.5  Corned beef-7.5\n",
      "5        Bacon     8.0        Bacon-8.0\n",
      "6     pastrami     3.0     pastrami-3.0\n",
      "7    honey ham     5.0    honey ham-5.0\n",
      "8     nova lox     6.0     nova lox-6.0\n"
     ]
    }
   ],
   "source": [
    "import pandas as pd\n",
    "def test(dataf):\n",
    "    print(dataf)\n",
    "data = pd.DataFrame({'food':['bacon','pulled pork','bacon','Pastrami',\n",
    "            'Corned beef','Bacon','pastrami','honey ham','nova lox'],\n",
    "                  'ounces':[4,3,12,6,7.5,8,3,5,6]})\n",
    "print(data)\n",
    "print(\"=========================\")\n",
    "data['food-ounces']=data.apply(lambda dataf:f\"{dataf['food']}-{dataf['ounces']}\",axis=1 )\n",
    "print(\"=========================\")\n",
    "print(data)"
   ]
  },
  {
   "attachments": {
    "image-3.png": {
     "image/png": "[encoded data removed]"
    }
   },
   "cell_type": "markdown",
   "id": "bea1794d",
   "metadata": {},
   "source": [
    "# 分組\n",
    "+ 可針對資料進行分組，然後對每組資料進行統計分析。\n",
    "+ 分組運算過程：split → apply → combine\n",
    "  + 拆解 split：依據規則進行拆解分組。\n",
    "  + 應用 apply：每個分組運行計算規則處理。\n",
    "  + 合併 combine：把每個分組的計算結果合併起來。\n",
    "+ 可針對資料進行分組，然後對每組資料進行統計分析。\n",
    "+ 分組運算過程：split → apply → combine\n",
    "![image-3.png](attachment:image-3.png)\n",
    "+ 可使用 groupby( ) 進行分組，而這動作並沒有進行實際運算，只是包含分組的資訊。\n",
    "+ 物體可有多種切割方式：\n",
    "  + df1.groupby('key')\n",
    "  + df1.groupby(['key1','key2'])\n",
    "  + df1.groupby(key,axis=1)"
   ]
  },
  {
   "cell_type": "markdown",
   "id": "0e48ea58",
   "metadata": {},
   "source": [
    "### 群組資料原型"
   ]
  },
  {
   "cell_type": "code",
   "execution_count": 3,
   "id": "d1c94ac6",
   "metadata": {},
   "outputs": [
    {
     "name": "stdout",
     "output_type": "stream",
     "text": [
      "  key1   key2  data1  data2\n",
      "0    a    one      2      8\n",
      "1    b    one      3      1\n",
      "2    a    two      4      2\n",
      "3    b  three      5      3\n",
      "4    a    two      6      5\n",
      "5    b    two      7      6\n",
      "6    a    one      8      7\n",
      "7    a  three      1      6\n",
      "-------------------\n"
     ]
    }
   ],
   "source": [
    "import pandas as pd\n",
    "import numpy as np\n",
    "a = {'key1' : ['a', 'b', 'a', 'b', 'a', 'b', 'a', 'a'],\n",
    "     'key2' : ['one', 'one', 'two', 'three', 'two', 'two', 'one', 'three'],\n",
    "     'data1': [2,3,4,5,6,7,8,1],\n",
    "     'data2':[8,1,2,3,5,6,7,6]}\n",
    "df1 = pd.DataFrame(a)\n",
    "print(df1)\n",
    "print(\"-------------------\")\n"
   ]
  },
  {
   "cell_type": "markdown",
   "id": "c12d87ff",
   "metadata": {},
   "source": [
    "### 開始群組"
   ]
  },
  {
   "cell_type": "code",
   "execution_count": 28,
   "id": "ad039e45",
   "metadata": {},
   "outputs": [
    {
     "name": "stdout",
     "output_type": "stream",
     "text": [
      "<class 'pandas.core.groupby.generic.DataFrameGroupBy'>\n",
      "<class 'pandas.core.groupby.generic.SeriesGroupBy'>\n",
      "<pandas.core.groupby.generic.SeriesGroupBy object at 0x000001E377285760>\n"
     ]
    }
   ],
   "source": [
    "import pandas025\n",
    "df2=pandas025.df1\n",
    "print(type(df2.groupby('key1')))\n",
    "print(type(df2['data1'].groupby(df2['key1'])))\n",
    "print((df2['data1'].groupby(df2['key1'])))"
   ]
  },
  {
   "cell_type": "markdown",
   "id": "ffee416e",
   "metadata": {},
   "source": [
    "## 分組後的資料\n",
    "+ 可針對分組後的資料進行分組計算，例如 mean( )。\n",
    "+ 分組後將會傳回一組 tuple 資料，包含 group_name 與group_data，就可以做後續的運用。\n",
    "+ get_group( ) 可得到指定的該組資訊。"
   ]
  },
  {
   "cell_type": "code",
   "execution_count": 15,
   "id": "9701b8f9",
   "metadata": {},
   "outputs": [
    {
     "name": "stdout",
     "output_type": "stream",
     "text": [
      "================\n",
      "key1  key2 \n",
      "a     one      2\n",
      "      three    1\n",
      "      two      2\n",
      "b     one      1\n",
      "      three    1\n",
      "      two      1\n",
      "dtype: int64\n",
      "================\n",
      "            data1  data2\n",
      "key2  key1              \n",
      "one   a       5.0    7.5\n",
      "      b       3.0    1.0\n",
      "three a       1.0    6.0\n",
      "      b       5.0    3.0\n",
      "two   a       5.0    3.5\n",
      "      b       7.0    6.0\n",
      "================\n",
      "      data1      data2     \n",
      "key1      a    b     a    b\n",
      "key2                       \n",
      "one     5.0  3.0   7.5  1.0\n",
      "three   1.0  5.0   6.0  3.0\n",
      "two     5.0  7.0   3.5  6.0\n",
      "================\n"
     ]
    }
   ],
   "source": [
    "import pandas025\n",
    "df2=pandas025.df1\n",
    "grouped2 = df2.groupby(['key1', 'key2'])\n",
    "print(\"================\")\n",
    "print(grouped2.size( ))\n",
    "print(\"================\")\n",
    "grouped3 =df2.groupby(['key2', 'key1']) #先用key2 群組 再用key1群組\n",
    "print(grouped3.mean( )) #求出群組後的均值\n",
    "print(\"================\")\n",
    "print(grouped3.mean( ).unstack()) #row 索引轉到colum\n",
    "print(\"================\")"
   ]
  },
  {
   "cell_type": "markdown",
   "id": "3f9b23e8",
   "metadata": {},
   "source": [
    "### stack 與 unstack\n",
    "+ stack\n",
    "   + colum index轉為row index\n",
    "+ unstack\n",
    "  + row index轉為colum index"
   ]
  },
  {
   "cell_type": "code",
   "execution_count": 2,
   "id": "d7e9edda",
   "metadata": {},
   "outputs": [
    {
     "name": "stdout",
     "output_type": "stream",
     "text": [
      "          colum1  colum2\n",
      "rowIndex                \n",
      "A             10      75\n",
      "B             15      83\n",
      "C             18      92\n",
      "D             25      63\n",
      "============================\n",
      "rowIndex        \n",
      "A         colum1    10\n",
      "          colum2    75\n",
      "B         colum1    15\n",
      "          colum2    83\n",
      "C         colum1    18\n",
      "          colum2    92\n",
      "D         colum1    25\n",
      "          colum2    63\n",
      "dtype: int64\n",
      "============================\n",
      "          colum1  colum2\n",
      "rowIndex                \n",
      "A             10      75\n",
      "B             15      83\n",
      "C             18      92\n",
      "D             25      63\n"
     ]
    }
   ],
   "source": [
    "import pandas as pd\n",
    "data = {\"A\":10,\"B\":15,\"C\":18,\"D\":25}\n",
    "data2 = {\"A\":75,\"B\":83,\"C\":92,\"D\":63}\n",
    "s1 = pd.Series(data)\n",
    "s2 = pd.Series(data2)\n",
    "df = pd.DataFrame({\"colum1\":s1,\"colum2\":s2},index=pd.Index([\"A\",\"B\",\"C\",\"D\"],name=\"rowIndex\"))\n",
    "print(df)\n",
    "print(\"============================\")\n",
    "dfs = df.stack()# colum index轉為row index\n",
    "print(dfs)\n",
    "print(\"============================\")\n",
    "print(dfs.unstack())# row index轉為colum index\n"
   ]
  },
  {
   "cell_type": "markdown",
   "id": "356e3d5e",
   "metadata": {},
   "source": [
    "## pandas025a的內容"
   ]
  },
  {
   "cell_type": "code",
   "execution_count": 12,
   "id": "d8128f4b",
   "metadata": {
    "scrolled": false
   },
   "outputs": [
    {
     "name": "stdout",
     "output_type": "stream",
     "text": [
      "==========df2=================\n",
      "  key1   key2  data1  data2\n",
      "0    a    one      2      8\n",
      "1    b    one      3      1\n",
      "2    a    two      4      2\n",
      "3    b  three      5      3\n",
      "4    a    two      6      5\n",
      "5    b    two      7      6\n",
      "6    a    one      8      7\n",
      "7    a  three      1      6\n",
      "===========================\n",
      "0    1\n",
      "1    1\n",
      "2    1\n",
      "3    2\n",
      "4    1\n",
      "5    1\n",
      "7    1\n",
      "dtype: int64\n",
      "=========key1==================\n",
      "0    a\n",
      "1    b\n",
      "2    a\n",
      "3    b\n",
      "4    a\n",
      "5    b\n",
      "6    a\n",
      "7    a\n",
      "Name: key1, dtype: object\n",
      "==========key2=================\n",
      "0      one\n",
      "1      one\n",
      "2      two\n",
      "3    three\n",
      "4      two\n",
      "5      two\n",
      "6      one\n",
      "7    three\n",
      "Name: key2, dtype: object\n",
      "==========groupby key2 key1=================\n",
      "key2   key1\n",
      "one    a       2\n",
      "       b       1\n",
      "three  a       1\n",
      "       b       1\n",
      "two    a       2\n",
      "       b       1\n",
      "dtype: int64\n",
      "============groupby('key1')mean===============\n",
      "      data1     data2\n",
      "key1                 \n",
      "a       4.2  5.600000\n",
      "b       5.0  3.333333\n",
      "===========================\n",
      "key1\n",
      "a    4.2\n",
      "b    5.0\n",
      "Name: data1, dtype: float64\n",
      "===========================\n",
      "5.0\n"
     ]
    }
   ],
   "source": [
    "import pandas025\n",
    "df2=pandas025.df1\n",
    "print(\"==========df2=================\")\n",
    "print(df2)\n",
    "self_def_key = [0, 1, 2, 3, 3, 4, 5, 7]\n",
    "print(\"===========================\")\n",
    "print(df2.groupby(self_def_key).size()) #群組自訂的Kye\n",
    "print(\"=========key1==================\")\n",
    "print(df2['key1'])\n",
    "print(\"==========key2=================\")\n",
    "print(df2['key2'])\n",
    "print(\"==========groupby key2 key1=================\")\n",
    "print(df2.groupby([df2['key2'],df2['key1']]).size())\n",
    "#print(df2.groupby(['key2','key1']).size())print(\"===========================\")\n",
    "print(\"============groupby('key1')mean===============\")\n",
    "grouped1 = df2.groupby('key1')\n",
    "print(grouped1.mean()) #整組Dataframe 都群組key1 求平均值\n",
    "print(\"===========================\")\n",
    "grouped2 = df2['data1'].groupby(df2['key1']) #針對data1 groupby key1\n",
    "print(grouped2.mean())\n",
    "print(\"===========================\")\n",
    "print(grouped2.mean()[1])"
   ]
  },
  {
   "cell_type": "code",
   "execution_count": 17,
   "id": "20bac129",
   "metadata": {},
   "outputs": [
    {
     "name": "stdout",
     "output_type": "stream",
     "text": [
      "-------start--------\n",
      "[('a',   key1   key2  data1  data2\n",
      "0    a    one      2      8\n",
      "2    a    two      4      2\n",
      "4    a    two      6      5\n",
      "6    a    one      8      7\n",
      "7    a  three      1      6), ('b',   key1   key2  data1  data2\n",
      "1    b    one      3      1\n",
      "3    b  three      5      3\n",
      "5    b    two      7      6)]\n",
      "---------------\n",
      "group_name: a\n",
      "  key1   key2  data1  data2\n",
      "0    a    one      2      8\n",
      "2    a    two      4      2\n",
      "4    a    two      6      5\n",
      "6    a    one      8      7\n",
      "7    a  three      1      6\n",
      "group_name: b\n",
      "  key1   key2  data1  data2\n",
      "1    b    one      3      1\n",
      "3    b  three      5      3\n",
      "5    b    two      7      6\n",
      "---------------\n",
      "a\n",
      "0    2\n",
      "2    4\n",
      "4    6\n",
      "6    8\n",
      "7    1\n",
      "Name: data1, dtype: int64\n",
      "b\n",
      "1    3\n",
      "3    5\n",
      "5    7\n",
      "Name: data1, dtype: int64\n",
      "---------------\n"
     ]
    }
   ],
   "source": [
    "import pandas025a\n",
    "print(\"-------start--------\")\n",
    "#\n",
    "\"\"\"\n",
    "DataFrameGroupBy 轉成list後可清楚了他是一組list包含了tuple \n",
    "tuple內包含group_name 與 group_data\n",
    "\"\"\"\n",
    "print(list(pandas025a.grouped1)) \n",
    "print(\"---------------\")\n",
    "for group_name, group_data in pandas025a.grouped1: #透過以下方式可分別取出群組資料 grouped1使用key1做群組\n",
    "    print(\"group_name:\",group_name)\n",
    "    print(group_data)\n",
    "print(\"---------------\")    \n",
    "for group_name, group_data in pandas025a.grouped2: ## data1  使用key做群組\n",
    "    print(group_name)\n",
    "    print(group_data)\n",
    "print(\"---------------\")        "
   ]
  },
  {
   "cell_type": "markdown",
   "id": "cc431505",
   "metadata": {},
   "source": [
    "### 分組後的資料-資料來源\n"
   ]
  },
  {
   "cell_type": "code",
   "execution_count": 3,
   "id": "f7ef244c",
   "metadata": {},
   "outputs": [
    {
     "name": "stdout",
     "output_type": "stream",
     "text": [
      "      Team  Rank  Year  Points\n",
      "0   Riders     1  2014     876\n",
      "1   Riders     2  2015     789\n",
      "2   Devils     2  2014     863\n",
      "3   Devils     3  2015     673\n",
      "4    Kings     3  2014     741\n",
      "5    kings     4  2015     812\n",
      "6    Kings     1  2016     756\n",
      "7    Kings     1  2017     788\n",
      "8   Riders     2  2016     694\n",
      "9   Royals     4  2014     701\n",
      "10  Royals     1  2015     804\n",
      "11  Riders     2  2017     690\n",
      "--------------------\n"
     ]
    }
   ],
   "source": [
    "# pandas027資料來源\n",
    "import pandas as pd\n",
    "ipl_data = {'Team': ['Riders', 'Riders', 'Devils', 'Devils', 'Kings',\n",
    "         'kings', 'Kings', 'Kings', 'Riders', 'Royals', 'Royals', 'Riders'],\n",
    "         'Rank': [1, 2, 2, 3, 3,4 ,1 ,1,2 , 4,1,2],\n",
    "         'Year': [2014,2015,2014,2015,2014,2015,2016,2017,2016,2014,2015,2017],\n",
    "         'Points':[876,789,863,673,741,812,756,788,694,701,804,690]}\n",
    "df = pd.DataFrame(ipl_data)\n",
    "print(df)\n",
    "print(\"--------------------\")"
   ]
  },
  {
   "cell_type": "code",
   "execution_count": 3,
   "id": "7e3b5663",
   "metadata": {},
   "outputs": [
    {
     "name": "stdout",
     "output_type": "stream",
     "text": [
      "<class 'pandas.core.groupby.generic.DataFrameGroupBy'>\n",
      "2014\n",
      "     Team  Rank  Year  Points\n",
      "0  Riders     1  2014     876\n",
      "2  Devils     2  2014     863\n",
      "4   Kings     3  2014     741\n",
      "9  Royals     4  2014     701\n",
      "2015\n",
      "      Team  Rank  Year  Points\n",
      "1   Riders     2  2015     789\n",
      "3   Devils     3  2015     673\n",
      "5    kings     4  2015     812\n",
      "10  Royals     1  2015     804\n",
      "2016\n",
      "     Team  Rank  Year  Points\n",
      "6   Kings     1  2016     756\n",
      "8  Riders     2  2016     694\n",
      "2017\n",
      "      Team  Rank  Year  Points\n",
      "7    Kings     1  2017     788\n",
      "11  Riders     2  2017     690\n",
      "------------------\n",
      "     Team  Rank  Year  Points\n",
      "0  Riders     1  2014     876\n",
      "2  Devils     2  2014     863\n",
      "4   Kings     3  2014     741\n",
      "9  Royals     4  2014     701\n"
     ]
    }
   ],
   "source": [
    "import pandas027\n",
    "grouped = pandas027.df.groupby('Year')\n",
    "print(type(grouped))\n",
    "for name,group in grouped:\n",
    "    print(name)\n",
    "    print(group)\n",
    "print(\"------------------\")\n",
    "print(grouped.get_group(2014))"
   ]
  },
  {
   "cell_type": "markdown",
   "id": "59c5b6eb",
   "metadata": {},
   "source": [
    "## 資料轉換與設定\n",
    "+ 分組後的資料可轉為 list 或 dictionary：\n",
    "  + list( ) 轉換為 list。\n",
    "  + 轉為 list 之後再以 dict( ) 方法轉為 dictionary。\n",
    "+ 亦可以透過索引級別設定分組。\n"
   ]
  },
  {
   "cell_type": "code",
   "execution_count": 5,
   "id": "7ced9b94",
   "metadata": {},
   "outputs": [
    {
     "name": "stdout",
     "output_type": "stream",
     "text": [
      "-------start---------\n",
      "[('a',   key1   key2  data1  data2\n",
      "0    a    one      2      8\n",
      "2    a    two      4      2\n",
      "4    a    two      6      5\n",
      "6    a    one      8      7\n",
      "7    a  three      1      6), ('b',   key1   key2  data1  data2\n",
      "1    b    one      3      1\n",
      "3    b  three      5      3\n",
      "5    b    two      7      6)]\n",
      "<class 'pandas.core.groupby.generic.DataFrameGroupBy'>\n",
      "--------\n",
      "{'a':   key1   key2  data1  data2\n",
      "0    a    one      2      8\n",
      "2    a    two      4      2\n",
      "4    a    two      6      5\n",
      "6    a    one      8      7\n",
      "7    a  three      1      6, 'b':   key1   key2  data1  data2\n",
      "1    b    one      3      1\n",
      "3    b  three      5      3\n",
      "5    b    two      7      6}\n",
      "--------\n"
     ]
    }
   ],
   "source": [
    "import pandas025a\n",
    "print(\"-------start---------\")\n",
    "print(list(pandas025a.grouped1)) #list內有一組tuple ('分組kye',DataFrame)\n",
    "print(\"--------\")\n",
    "print(dict(list(pandas025a.grouped1)))\n",
    "print(\"--------\")\n"
   ]
  },
  {
   "attachments": {
    "image.png": {
     "image/png": "[encoded data removed]"
    }
   },
   "cell_type": "markdown",
   "id": "41a5821b",
   "metadata": {},
   "source": [
    "### 自訂索引標籤方式分組\n",
    "+ 當axis=0時，代表每一縱行去做運算\n",
    "+ 當axis=1時，代表每一橫列去做運算\n",
    "![image.png](attachment:image.png)"
   ]
  },
  {
   "cell_type": "code",
   "execution_count": 3,
   "id": "be0c48f1",
   "metadata": {},
   "outputs": [
    {
     "name": "stdout",
     "output_type": "stream",
     "text": [
      "   a    b    c    d  e\n",
      "A  4  4.0  6.0  4.0  4\n",
      "B  1  NaN  NaN  NaN  9\n",
      "C  3  7.0  7.0  3.0  8\n",
      "D  2  1.0  3.0  3.0  9\n",
      "E  5  9.0  6.0  6.0  5\n",
      "-----------------\n",
      "size\n",
      "C         1\n",
      "Java      2\n",
      "Python    2\n",
      "dtype: int64\n",
      "count\n",
      "   C  Java  Python\n",
      "A  1     2       2\n",
      "B  0     1       1\n",
      "C  1     2       2\n",
      "D  1     2       2\n",
      "E  1     2       2\n",
      "sum\n",
      "     C  Java  Python\n",
      "A  4.0  10.0     8.0\n",
      "B  0.0   9.0     1.0\n",
      "C  3.0  15.0    10.0\n",
      "D  3.0  12.0     3.0\n",
      "E  6.0  11.0    14.0\n"
     ]
    }
   ],
   "source": [
    "import pandas as pd\n",
    "import numpy as np\n",
    "df3 = pd.DataFrame(np.random.randint(1, 10, (5,5)), columns=['a', 'b', 'c', 'd', 'e'], index=['A', 'B', 'C', 'D', 'E'])\n",
    "df3.iloc()[1, 1:4] = np.NaN\n",
    "print(df3)\n",
    "print(\"-----------------\") \n",
    "mapping_dict = {'a':'Python', 'b':'Python', 'c':'Java', 'd':'C', 'e':'Java'}\n",
    "#df3.columns = df3.columns.map(lambda x:mapping_dict[x])\n",
    "#print(\"-----------------\") \n",
    "#print(df3)\n",
    "print(\"size\")\n",
    "print(df3.groupby(mapping_dict, axis=1).size())\n",
    "print(\"count\")\n",
    "print(df3.groupby(mapping_dict, axis=1).count())\n",
    "print(\"sum\")\n",
    "print(df3.groupby(mapping_dict, axis=1).sum())\n"
   ]
  },
  {
   "cell_type": "markdown",
   "id": "039582c6",
   "metadata": {},
   "source": [
    "### count vs size(補)"
   ]
  },
  {
   "cell_type": "code",
   "execution_count": 38,
   "id": "d96508db",
   "metadata": {},
   "outputs": [
    {
     "name": "stdout",
     "output_type": "stream",
     "text": [
      "      Name      City  Val\n",
      "0    Alice   Seattle  4.0\n",
      "1      Bob   Seattle  3.0\n",
      "2  Mallory  Portland  3.0\n",
      "3  Mallory   Seattle  NaN\n",
      "4      Bob   Seattle  NaN\n",
      "5  Mallory  Portland  4.0\n",
      "=======================\n",
      "      Name      City  Val\n",
      "0    Alice   Seattle    1\n",
      "1      Bob   Seattle    1\n",
      "2  Mallory  Portland    2\n",
      "3  Mallory   Seattle    0\n",
      "=======================\n",
      "      Name      City  size\n",
      "0    Alice   Seattle     1\n",
      "1      Bob   Seattle     2\n",
      "2  Mallory  Portland     2\n",
      "3  Mallory   Seattle     1\n"
     ]
    }
   ],
   "source": [
    "df = pd.DataFrame({\"Name\":[\"Alice\", \"Bob\", \"Mallory\", \"Mallory\", \"Bob\" , \"Mallory\"],\n",
    "                 \"City\":[\"Seattle\", \"Seattle\", \"Portland\", \"Seattle\", \"Seattle\", \"Portland\"],\n",
    "                \"Val\":[4,3,3,np.nan,np.nan,4]})\n",
    "print(df)\n",
    "print(\"=======================\")\n",
    "# as_index=False 可使得index為自動流水號\n",
    "dfg = df.groupby([\"Name\", \"City\"],as_index=False).count()#不包含nan 這樣組合且欄位內容存在的幾次\n",
    "print(dfg)      \n",
    "print(\"=======================\")\n",
    "dfg = df.groupby([\"Name\", \"City\"],as_index=False).size()#包含nan 這樣的組合出現幾次\n",
    "print(dfg)    "
   ]
  },
  {
   "cell_type": "markdown",
   "id": "d489a0b6",
   "metadata": {},
   "source": [
    "### axis=0 求均值"
   ]
  },
  {
   "cell_type": "code",
   "execution_count": 11,
   "id": "abc5b631",
   "metadata": {},
   "outputs": [
    {
     "name": "stdout",
     "output_type": "stream",
     "text": [
      "The Employee DataFrame is:\n",
      "    Name  Age  Weight(KG)  Height(meters)  Salary($)\n",
      "0    Jon   30          75            1.70     3300.0\n",
      "1    Jon   33          75            1.70     3500.0\n",
      "2   Mike   35          80            1.85     4000.0\n",
      "3   Luna   30          70            1.75     3050.0\n",
      "4    Sam   30          73             NaN        NaN\n",
      "5  Aliza   31          70            1.75     3700.0 \n",
      "\n",
      "The DataFrame with mean values of each column is:\n",
      "       Age  Weight(KG)  Height(meters)  Salary($)\n",
      "Name                                             \n",
      "Aliza   31          70            1.75     3700.0\n",
      "Jon     63         150            3.40     6800.0\n",
      "Luna    30          70            1.75     3050.0\n",
      "Mike    35          80            1.85     4000.0\n",
      "Sam     30          73            0.00        0.0\n",
      "========================\n",
      "       Age  Weight(KG)  Height(meters)  Salary($)\n",
      "Name                                             \n",
      "Aliza    1           1               1          1\n",
      "Jon      2           2               2          2\n",
      "Luna     1           1               1          1\n",
      "Mike     1           1               1          1\n",
      "Sam      1           1               0          0\n",
      "========================\n",
      "Name\n",
      "Aliza    1\n",
      "Jon      2\n",
      "Luna     1\n",
      "Mike     1\n",
      "Sam      1\n",
      "dtype: int64\n"
     ]
    }
   ],
   "source": [
    "import pandas as pd\n",
    "import numpy as np\n",
    "empl_df = pd.DataFrame({\n",
    "    'Name': [\"Jon\", \"Jon\", \"Mike\", \"Luna\", \"Sam\", \"Aliza\"],\n",
    "    'Age': [30, 33, 35, 30, 30, 31],\n",
    "    'Weight(KG)': [75, 75, 80, 70, 73, 70],\n",
    "    'Height(meters)': [1.7, 1.7, 1.85, 1.75, np.nan, 1.75],\n",
    "    'Salary($)': [3300, 3500, 4000, 3050, np.nan, 3700]\n",
    "})\n",
    "print(\"The Employee DataFrame is:\")\n",
    "print(empl_df,\"\\n\")\n",
    "\n",
    "print(\"The DataFrame with mean values of each column is:\")\n",
    "print(empl_df.groupby('Name',axis=0).sum())\n",
    "print(\"========================\")\n",
    "print(empl_df.groupby('Name',axis=0).count())\n",
    "print(\"========================\")\n",
    "print(empl_df.groupby('Name',axis=0).size())"
   ]
  },
  {
   "cell_type": "markdown",
   "id": "dc784f52",
   "metadata": {},
   "source": [
    "### axis=1 求均值"
   ]
  },
  {
   "cell_type": "code",
   "execution_count": 25,
   "id": "5493a7ba",
   "metadata": {},
   "outputs": [
    {
     "name": "stdout",
     "output_type": "stream",
     "text": [
      "The Employee DataFrame is:\n",
      "        A   B   C   D\n",
      "Ken    30  75  80  57\n",
      "Vivin  33  75  90  83\n",
      "Lindy  35  80  75  72\n",
      "Iris   30  70  83  96\n",
      "Gigi   30  73  97  88\n",
      "Lucy   31  70  66  25 \n",
      "\n",
      "The DataFrame with mean values of each row is:\n",
      "        C++  Java  Python\n",
      "Ken    57.0  80.0    52.5\n",
      "Vivin  83.0  90.0    54.0\n",
      "Lindy  72.0  75.0    57.5\n",
      "Iris   96.0  83.0    50.0\n",
      "Gigi   88.0  97.0    51.5\n",
      "Lucy   25.0  66.0    50.5\n"
     ]
    }
   ],
   "source": [
    "import pandas as pd\n",
    "\n",
    "empl_df = pd.DataFrame({  \n",
    "    'A': [30, 33, 35, 30, 30, 31],\n",
    "    'B': [75, 75, 80, 70, 73, 70],\n",
    "    'C': [80, 90, 75, 83, 97, 66],\n",
    "    'D': [57, 83, 72, 96, 88, 25]\n",
    "},index=[\"Ken\",\"Vivin\",\"Lindy\",\"Iris\",\"Gigi\",\"Lucy\"])\n",
    "print(\"The Employee DataFrame is:\")\n",
    "print(empl_df,\"\\n\")\n",
    "mapping_dict = {'A':'Python', 'B':'Python', 'C':'Java', 'D':'C++'}\n",
    "print(\"The DataFrame with mean values of each row is:\")\n",
    "print(empl_df.groupby(mapping_dict,axis=1).mean())"
   ]
  },
  {
   "cell_type": "markdown",
   "id": "6e2d367f",
   "metadata": {},
   "source": [
    "### 以多層次(MultiIndex)的 Column 名稱進行分組"
   ]
  },
  {
   "cell_type": "code",
   "execution_count": 18,
   "id": "fc2840de",
   "metadata": {},
   "outputs": [
    {
     "name": "stdout",
     "output_type": "stream",
     "text": [
      "language Python Java Python Java Python\n",
      "index         A    A      B    C      B\n",
      "0             6    6      7    9      5\n",
      "1             7    9      9    5      2\n",
      "2             4    9      2    6      3\n",
      "3             6    4      6    3      9\n",
      "4             5    2      7    3      7\n",
      "-----------------\n",
      "language  Java  Python\n",
      "0           15      18\n",
      "1           14      18\n",
      "2           15       9\n",
      "3            7      21\n",
      "4            5      19\n",
      "-----------------\n",
      "index   A   B  C\n",
      "0      12  12  9\n",
      "1      16  11  5\n",
      "2      13   5  6\n",
      "3      10  15  3\n",
      "4       7  14  3\n"
     ]
    }
   ],
   "source": [
    "import pandas as pd\n",
    "import numpy as np\n",
    "a = pd.MultiIndex.from_arrays(\n",
    "    [['Python', 'Java', 'Python', 'Java', 'Python'], ['A', 'A', 'B', 'C', 'B']],\n",
    "    names=['language', 'index']) ##雙主鍵(MultiIndex)\n",
    "df4 = pd.DataFrame(np.random.randint(1, 10, (5, 5)), columns=a)\n",
    "print(df4)\n",
    "print(\"-----------------\")\n",
    "print(df4.groupby(level='language', axis=1).sum( )) #指定要群組的是language\n",
    "print(\"-----------------\")\n",
    "print(df4.groupby(level='index', axis=1).sum( )) #指定要群組的是index\n"
   ]
  },
  {
   "cell_type": "markdown",
   "id": "1591feeb",
   "metadata": {},
   "source": [
    "## 功能聚合與重新採樣\n",
    "+ 我們可針對數值資料進行各種計算。\n",
    "+ 聚合代表 .agg( ) 這個動作：\n",
    "   + 可以整併各種計算為多個 column 輸出。\n",
    "   + 分組後也可以利用可以進行各組的資料計算。\n",
    "+ 我們可針對物件進行 resample( ) 動作進行重新採樣，藉此調整日期時間資料的出現頻率。\n",
    "+ [time offset](https://pandas.pydata.org/pandas-docs/stable/user_guide/timeseries.html)"
   ]
  },
  {
   "cell_type": "markdown",
   "id": "22eb5925",
   "metadata": {},
   "source": [
    "### pandas028原型"
   ]
  },
  {
   "cell_type": "code",
   "execution_count": 71,
   "id": "e6465c51",
   "metadata": {},
   "outputs": [
    {
     "name": "stdout",
     "output_type": "stream",
     "text": [
      "   account number                         name       sku  quantity  \\\n",
      "0          740150                   Barton LLC  B1-20000        39   \n",
      "1          714466              Trantow-Barrows  S2-77896        -1   \n",
      "2          218895                    Kulas Inc  B1-69924        23   \n",
      "3          307599  Kassulke, Ondricka and Metz  S1-65481        41   \n",
      "4          412290                Jerde-Hilpert  S2-34077         6   \n",
      "\n",
      "   unit price  ext price                date  \n",
      "0       86.69    3380.91 2014-01-01 07:21:51  \n",
      "1       63.16     -63.16 2014-01-01 10:00:47  \n",
      "2       90.70    2086.10 2014-01-01 13:24:58  \n",
      "3       21.05     863.05 2014-01-01 15:05:22  \n",
      "4       83.21     499.26 2014-01-01 23:26:55  \n",
      "-------------\n"
     ]
    }
   ],
   "source": [
    "import pandas as pd\n",
    "df = pd.read_csv('salesv3.csv',encoding=\"utf-8\")\n",
    "df[\"date\"] = pd.to_datetime(df['date'])\n",
    "print(df.head( ))\n",
    "print(\"-------------\")\n"
   ]
  },
  {
   "cell_type": "code",
   "execution_count": 41,
   "id": "808e082d",
   "metadata": {},
   "outputs": [
    {
     "name": "stdout",
     "output_type": "stream",
     "text": [
      "first:            name  ext price                date\n",
      "0    Barton LLC    3380.91 2014-01-01 07:21:51\n",
      "85   Barton LLC     156.80 2014-01-20 01:48:47\n",
      "91   Barton LLC      68.06 2014-01-20 13:27:52\n",
      "96   Barton LLC     181.82 2014-01-21 21:21:01\n",
      "99   Barton LLC     608.20 2014-01-22 16:33:51\n",
      "105  Barton LLC     658.70 2014-01-24 00:00:35\n",
      "117  Barton LLC     975.24 2014-01-27 05:48:37\n",
      "125  Barton LLC     147.84 2014-01-28 16:28:29\n",
      "sum: 6177.57\n",
      "-------------\n",
      "date\n",
      "2014-01-31    185361.66\n",
      "2014-02-28    146211.62\n",
      "2014-03-31    203921.38\n",
      "2014-04-30    174574.11\n",
      "2014-05-31    165418.55\n",
      "2014-06-30    174089.33\n",
      "2014-07-31    191662.11\n",
      "2014-08-31    153778.59\n",
      "2014-09-30    168443.17\n",
      "2014-10-31    171495.32\n",
      "2014-11-30    119961.22\n",
      "2014-12-31    163867.26\n",
      "Freq: M, Name: ext price, dtype: float64\n",
      "-------------\n",
      "name        date      \n",
      "Barton LLC  2014-01-31     6177.57\n",
      "            2014-02-28    12218.03\n",
      "            2014-03-31     3513.53\n",
      "            2014-04-30    11474.20\n",
      "            2014-05-31    10220.17\n",
      "                            ...   \n",
      "Will LLC    2014-08-31     1439.82\n",
      "            2014-09-30     4345.99\n",
      "            2014-10-31     7085.33\n",
      "            2014-11-30     3210.44\n",
      "            2014-12-31    12561.21\n",
      "Name: ext price, Length: 240, dtype: float64\n",
      "name                             date      \n",
      "Barton LLC                       2014-12-31    109438.50\n",
      "Cronin, Oberbrunner and Spencer  2014-12-31     89734.55\n",
      "Frami, Hills and Schmidt         2014-12-31    103569.59\n",
      "Fritsch, Russel and Anderson     2014-12-31    112214.71\n",
      "Halvorson, Crona and Champlin    2014-12-31     70004.36\n",
      "Herman LLC                       2014-12-31     82865.00\n",
      "Jerde-Hilpert                    2014-12-31    112591.43\n",
      "Kassulke, Ondricka and Metz      2014-12-31     86451.07\n",
      "Keeling LLC                      2014-12-31    100934.30\n",
      "Kiehn-Spinka                     2014-12-31     99608.77\n",
      "Koepp Ltd                        2014-12-31    103660.54\n",
      "Kuhn-Gusikowski                  2014-12-31     91094.28\n",
      "Kulas Inc                        2014-12-31    137351.96\n",
      "Pollich LLC                      2014-12-31     87347.18\n",
      "Purdy-Kunde                      2014-12-31     77898.21\n",
      "Sanford and Sons                 2014-12-31     98822.98\n",
      "Stokes LLC                       2014-12-31     91535.92\n",
      "Trantow-Barrows                  2014-12-31    123381.38\n",
      "White-Trantow                    2014-12-31    135841.99\n",
      "Will LLC                         2014-12-31    104437.60\n",
      "Name: ext price, dtype: float64\n"
     ]
    }
   ],
   "source": [
    "import pandas028\n",
    "test = (pandas028.df['date'] >= '2014-01-01') & (pandas028.df['date'] <= '2014-01-31') & (pandas028.df['name'] =='Barton LLC')\n",
    "print(\"first:\",pandas028.df[test][['name','ext price','date']])\n",
    "print(\"sum:\",pandas028.df[test]['ext price'].sum())\n",
    "print(\"-------------\")\n",
    "a=pandas028.df.set_index('date').resample('M')[\"ext price\"].sum( ) #日期重新採樣 使用(M)月結點\n",
    "print(a)\n",
    "print(\"-------------\")\n",
    "b=pandas028.df.set_index('date').groupby('name')[\"ext price\"].resample(\"M\").sum()\n",
    "print(b)\n",
    "c=pandas028.df.set_index('date').groupby('name')[\"ext price\"].resample(\"A-DEC\").sum()#表示12月作為結束的一整年\n",
    "print(c)"
   ]
  },
  {
   "cell_type": "code",
   "execution_count": 8,
   "id": "a70460df",
   "metadata": {},
   "outputs": [
    {
     "name": "stdout",
     "output_type": "stream",
     "text": [
      "TimeGrouper(key='date', freq=<MonthEnd>, axis=0, sort=True, closed='right', label='right', how='mean', convention='e', origin='start_day')\n",
      "-------------\n",
      "name        date      \n",
      "Barton LLC  2014-01-31     6177.57\n",
      "            2014-02-28    12218.03\n",
      "            2014-03-31     3513.53\n",
      "            2014-04-30    11474.20\n",
      "            2014-05-31    10220.17\n",
      "                            ...   \n",
      "Will LLC    2014-08-31     1439.82\n",
      "            2014-09-30     4345.99\n",
      "            2014-10-31     7085.33\n",
      "            2014-11-30     3210.44\n",
      "            2014-12-31    12561.21\n",
      "Name: ext price, Length: 240, dtype: float64\n",
      "-------------\n",
      "name                             date      \n",
      "Barton LLC                       2014-12-31    109438.50\n",
      "Cronin, Oberbrunner and Spencer  2014-12-31     89734.55\n",
      "Frami, Hills and Schmidt         2014-12-31    103569.59\n",
      "Fritsch, Russel and Anderson     2014-12-31    112214.71\n",
      "Halvorson, Crona and Champlin    2014-12-31     70004.36\n",
      "Herman LLC                       2014-12-31     82865.00\n",
      "Jerde-Hilpert                    2014-12-31    112591.43\n",
      "Kassulke, Ondricka and Metz      2014-12-31     86451.07\n",
      "Keeling LLC                      2014-12-31    100934.30\n",
      "Kiehn-Spinka                     2014-12-31     99608.77\n",
      "Koepp Ltd                        2014-12-31    103660.54\n",
      "Kuhn-Gusikowski                  2014-12-31     91094.28\n",
      "Kulas Inc                        2014-12-31    137351.96\n",
      "Pollich LLC                      2014-12-31     87347.18\n",
      "Purdy-Kunde                      2014-12-31     77898.21\n",
      "Sanford and Sons                 2014-12-31     98822.98\n",
      "Stokes LLC                       2014-12-31     91535.92\n",
      "Trantow-Barrows                  2014-12-31    123381.38\n",
      "White-Trantow                    2014-12-31    135841.99\n",
      "Will LLC                         2014-12-31    104437.60\n",
      "Name: ext price, dtype: float64\n"
     ]
    }
   ],
   "source": [
    "import pandas028\n",
    "import datetime\n",
    "a=pandas028.df.groupby(['name', pandas028.pd.Grouper(key='date', freq='M')])['ext price'].sum( ) ## 每個月底\n",
    "print(\"-------------\")\n",
    "print(a)\n",
    "print(\"-------------\")\n",
    "b=pandas028.df.groupby(['name', pandas028.pd.Grouper(key='date', freq='A-DEC')])['ext price'].sum( )#A-DEC 採樣頻率為12月底\n",
    "print(b)"
   ]
  },
  {
   "cell_type": "markdown",
   "id": "33028f5b",
   "metadata": {},
   "source": [
    "### 功能聚合"
   ]
  },
  {
   "cell_type": "code",
   "execution_count": 42,
   "id": "01798d10",
   "metadata": {},
   "outputs": [
    {
     "name": "stdout",
     "output_type": "stream",
     "text": [
      "ext price    2018784.32\n",
      "quantity       36463.00\n",
      "dtype: float64\n",
      "-----------\n",
      "55.00752666666659\n",
      "-----------\n",
      "         ext price      quantity    unit price\n",
      "sum   2.018784e+06  36463.000000  82511.290000\n",
      "mean  1.345856e+03     24.308667     55.007527\n",
      "-----------\n"
     ]
    }
   ],
   "source": [
    "import pandas028\n",
    "a=pandas028.df[[\"ext price\", \"quantity\"]].sum( )\n",
    "b=pandas028.df[\"unit price\"].mean( )\n",
    "print(a)\n",
    "print(\"-----------\")\n",
    "print(b)\n",
    "print(\"-----------\")\n",
    "c=pandas028.df[[\"ext price\", \"quantity\", \"unit price\"]].agg(['sum', 'mean']) # 希望同時計算 sum 與 mean\n",
    "print(c)\n",
    "print(\"-----------\")"
   ]
  },
  {
   "cell_type": "markdown",
   "id": "810e4051",
   "metadata": {},
   "source": [
    "### value_counts 統計出現次數"
   ]
  },
  {
   "cell_type": "code",
   "execution_count": 47,
   "id": "1d1d8a3c",
   "metadata": {},
   "outputs": [
    {
     "name": "stdout",
     "output_type": "stream",
     "text": [
      "DataFrame:\n",
      "     X    Y\n",
      "0  1.0  4.0\n",
      "1  2.0  NaN\n",
      "2  3.0  8.0\n",
      "3  NaN  NaN\n",
      "4  3.0  3.0\n",
      "Frequencies of elements of X column:\n",
      "3.0    2\n",
      "1.0    1\n",
      "2.0    1\n",
      "Name: X, dtype: int64\n",
      "3.0    2\n",
      "1.0    1\n",
      "2.0    1\n",
      "NaN    1\n",
      "Name: X, dtype: int64\n",
      "3.0\n"
     ]
    }
   ],
   "source": [
    "import pandas as pd\n",
    "import numpy as np\n",
    "\n",
    "df = pd.DataFrame({'X': [1, 2, 3, np.nan, 3],\n",
    "                   'Y': [4, np.nan, 8, np.nan, 3]})\n",
    "print(\"DataFrame:\")\n",
    "print(df)\n",
    "absolute_counts=df[\"X\"].value_counts()\n",
    "absolute_counts_nan=df[\"X\"].value_counts(dropna=False)#表示顯示nan的出現次數 預設為True不顯示nan\n",
    "print(\"Frequencies of elements of X column:\")\n",
    "print(absolute_counts)\n",
    "print(absolute_counts_nan)\n",
    "print(absolute_counts.index[0]) # 取得出現頻率最高的"
   ]
  },
  {
   "cell_type": "code",
   "execution_count": 6,
   "id": "83687053",
   "metadata": {},
   "outputs": [
    {
     "name": "stdout",
     "output_type": "stream",
     "text": [
      "         ext price      quantity  unit price\n",
      "sum   2.018784e+06  36463.000000         NaN\n",
      "mean  1.345856e+03     24.308667   55.007527\n",
      "-----------\n",
      "             ext price      quantity  unit price       sku\n",
      "sum       2.018784e+06  36463.000000         NaN       NaN\n",
      "mean      1.345856e+03     24.308667   55.007527       NaN\n",
      "<lambda>           NaN           NaN         NaN  S2-77896\n",
      "-----------\n",
      "                  ext price      quantity  unit price       sku\n",
      "sum            2.018784e+06  36463.000000         NaN       NaN\n",
      "mean           1.345856e+03     24.308667   55.007527       NaN\n",
      "most frequent  1.484000e+03           NaN         NaN  S2-77896\n",
      "-----------\n"
     ]
    }
   ],
   "source": [
    "import pandas028\n",
    "## 分別設定不同欄位做甚麼\n",
    "a=pandas028.df.agg({'ext price': ['sum', 'mean'], 'quantity': ['sum', 'mean'], 'unit price': ['mean']})\n",
    "get_max = lambda x: x.value_counts(dropna=False).index[0]\n",
    "b=pandas028.df.agg({'ext price': ['sum', 'mean'], 'quantity': ['sum', 'mean'], 'unit price': ['mean'], 'sku': [get_max]})\n",
    "print(a)\n",
    "print(\"-----------\")\n",
    "print(b)\n",
    "print(\"-----------\")\n",
    "get_max.__name__ = \"most frequent\" #設定名稱為most frequent\n",
    "c=pandas028.df.agg({'ext price': ['sum', 'mean',get_max], 'quantity': ['sum', 'mean'], 'unit price': ['mean'], 'sku': [get_max]})\n",
    "print(c)\n",
    "print(\"-----------\")\n"
   ]
  },
  {
   "cell_type": "markdown",
   "id": "1c21d428",
   "metadata": {},
   "source": [
    "### Q1"
   ]
  },
  {
   "cell_type": "code",
   "execution_count": 8,
   "id": "288a2302",
   "metadata": {},
   "outputs": [
    {
     "name": "stdout",
     "output_type": "stream",
     "text": [
      "      Team  Rank  Year  Points\n",
      "0   Riders     1  2014     876\n",
      "1   Riders     2  2015     789\n",
      "2   Devils     2  2014     863\n",
      "3   Devils     3  2015     673\n",
      "4    Kings     3  2014     741\n",
      "5    kings     4  2015     812\n",
      "6    Kings     1  2016     756\n",
      "7    Kings     1  2017     788\n",
      "8   Riders     2  2016     694\n",
      "9   Royals     4  2014     701\n",
      "10  Royals     1  2015     804\n",
      "11  Riders     2  2017     690\n",
      "<class 'pandas.core.groupby.generic.DataFrameGroupBy'>\n",
      "===========================\n",
      "        Rank  Year  Points\n",
      "Team                      \n",
      "Devils     2  2014     863\n",
      "Kings      3  2014     741\n",
      "Riders     1  2014     876\n",
      "Royals     4  2014     701\n",
      "kings      4  2015     812\n",
      "===========================\n",
      "Team\n",
      "Devils    2\n",
      "Kings     3\n",
      "Riders    4\n",
      "Royals    2\n",
      "kings     1\n",
      "dtype: int64\n",
      "        Rank  Year  Points\n",
      "Team                      \n",
      "Devils     2     2       2\n",
      "Kings      3     3       3\n",
      "Riders     4     4       4\n",
      "Royals     2     2       2\n",
      "kings      1     1       1\n",
      "        Rank  Year  Points\n",
      "Team                      \n",
      "Devils     2     2       2\n",
      "Kings      3     3       3\n",
      "Riders     4     4       4\n",
      "Royals     2     2       2\n",
      "kings      1     1       1\n"
     ]
    }
   ],
   "source": [
    "import pandas027\n",
    "import numpy as np\n",
    "print(pandas027.df)\n",
    "grouped = pandas027.df.groupby('Team')\n",
    "print(type(grouped))\n",
    "print(\"===========================\")\n",
    "print(grouped.first())\n",
    "print(\"===========================\")\n",
    "print(grouped.agg(\"size\"))#注意有小寫kings\n",
    "print(grouped.agg(np.size))#每個欄位都填上相對應的size\n",
    "print(grouped.agg(lambda x:np.size(x)))\n"
   ]
  },
  {
   "cell_type": "code",
   "execution_count": 5,
   "id": "3b8630e8",
   "metadata": {},
   "outputs": [
    {
     "name": "stdout",
     "output_type": "stream",
     "text": [
      "        Rank  Year  Points\n",
      "Team                      \n",
      "Devils     2  2014     863\n",
      "Kings      3  2014     741\n",
      "Riders     1  2014     876\n",
      "Royals     4  2014     701\n",
      "kings      4  2015     812\n",
      "         sum        mean         std\n",
      "Team                                \n",
      "Devils  1536  768.000000  134.350288\n",
      "Kings   2285  761.666667   24.006943\n",
      "Riders  3049  762.250000   88.567771\n",
      "Royals  1505  752.500000   72.831998\n",
      "kings    812  812.000000         NaN\n"
     ]
    }
   ],
   "source": [
    "import pandas027\n",
    "import numpy as np\n",
    "grouped = pandas027.df.groupby('Team')\n",
    "print(grouped.first())\n",
    "print(grouped['Points'].agg([np.sum, np.mean, np.std]))"
   ]
  },
  {
   "cell_type": "markdown",
   "id": "001f733b",
   "metadata": {},
   "source": [
    "# 刪除與修改取代資料"
   ]
  },
  {
   "cell_type": "code",
   "execution_count": 30,
   "id": "0631912e",
   "metadata": {},
   "outputs": [
    {
     "name": "stdout",
     "output_type": "stream",
     "text": [
      "         行業別    經常性   專業人員 技術員及助理   事務人員   服務銷售 機械設備操作   基層勞力\n",
      "0   工業及服務業部門  27055  34003  28646  26068  25012  25338  22824\n",
      "1       工業部門  26860  33788  28103  25906  25811  24919  22784\n",
      "2   礦業及土石採取業  26170  35768  27744  23441  23625  26988  22440\n",
      "3   石油及天然氣礦業  27696  37125  25313  23625  23625  23625      0\n",
      "4  砂、石及黏土採取業  25661  30000  29185  23405      0  27629  22440\n"
     ]
    }
   ],
   "source": [
    "import pandas as pd\n",
    "filterList = ['年度','經常性薪資-女/男','專業人員-女/男','技術員及助理專業人員-女/男','事務支援人員-女/男',\n",
    " '服務及銷售工作人員-女/男','技藝_機械設備操作及組裝人員-女/男','基層技術工及勞力工-女/男']\n",
    "data = pd.read_csv('HW18__Data.csv')\n",
    "data.drop(columns=filterList,inplace=True)#inplace=True 可修改原始資\n",
    "data.replace(to_replace=r\"…|—\",value=\"0\",regex=True,inplace=True)\n",
    "data.rename(columns={'經常性薪資-薪資': '經常性',\n",
    "'專業人員-薪資': '專業人員',\n",
    "'技術員及助理專業人員-薪資': '技術員及助理',\n",
    "'事務支援人員-薪資': '事務人員',\n",
    "'服務及銷售工作人員-薪資': '服務銷售',\n",
    "'技藝_機械設備操作及組裝人員-薪資': '機械設備操作',\n",
    "'基層技術工及勞力工-薪資': '基層勞力'},inplace=True)\n",
    "print(data.head())"
   ]
  },
  {
   "cell_type": "code",
   "execution_count": null,
   "id": "c31782c7",
   "metadata": {},
   "outputs": [],
   "source": []
  }
 ],
 "metadata": {
  "kernelspec": {
   "display_name": "Python 3 (ipykernel)",
   "language": "python",
   "name": "python3"
  },
  "language_info": {
   "codemirror_mode": {
    "name": "ipython",
    "version": 3
   },
   "file_extension": ".py",
   "mimetype": "text/x-python",
   "name": "python",
   "nbconvert_exporter": "python",
   "pygments_lexer": "ipython3",
   "version": "3.8.11"
  },
  "toc": {
   "base_numbering": 1,
   "nav_menu": {},
   "number_sections": true,
   "sideBar": true,
   "skip_h1_title": false,
   "title_cell": "Table of Contents",
   "title_sidebar": "Contents",
   "toc_cell": false,
   "toc_position": {
    "height": "calc(100% - 180px)",
    "left": "10px",
    "top": "150px",
    "width": "320px"
   },
   "toc_section_display": true,
   "toc_window_display": true
  }
 },
 "nbformat": 4,
 "nbformat_minor": 5
}
