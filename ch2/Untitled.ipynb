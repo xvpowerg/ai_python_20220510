{
 "cells": [
  {
   "cell_type": "markdown",
   "id": "ea7b4b79",
   "metadata": {},
   "source": [
    "#  宣告變數"
   ]
  },
  {
   "cell_type": "code",
   "execution_count": 18,
   "id": "dceb2206",
   "metadata": {},
   "outputs": [
    {
     "name": "stdout",
     "output_type": "stream",
     "text": [
      "10\n",
      "value: 30 30 30\n"
     ]
    }
   ],
   "source": [
    "v1 = 10\n",
    "print(v1)\n",
    "x=y=z=30\n",
    "print(\"value:\",x,y,z)\n",
    "height = 10"
   ]
  },
  {
   "cell_type": "code",
   "execution_count": 27,
   "id": "bd7a2107",
   "metadata": {},
   "outputs": [
    {
     "ename": "NameError",
     "evalue": "name 'x1' is not defined",
     "output_type": "error",
     "traceback": [
      "\u001b[1;31m---------------------------------------------------------------------------\u001b[0m",
      "\u001b[1;31mNameError\u001b[0m                                 Traceback (most recent call last)",
      "Input \u001b[1;32mIn [27]\u001b[0m, in \u001b[0;36m<cell line: 1>\u001b[1;34m()\u001b[0m\n\u001b[1;32m----> 1\u001b[0m \u001b[38;5;28mprint\u001b[39m(\u001b[43mx1\u001b[49m)\n",
      "\u001b[1;31mNameError\u001b[0m: name 'x1' is not defined"
     ]
    }
   ],
   "source": [
    "\n",
    "print(x1)"
   ]
  },
  {
   "cell_type": "markdown",
   "id": "45edd2e4",
   "metadata": {},
   "source": [
    "# 測試type() and id()"
   ]
  },
  {
   "cell_type": "code",
   "execution_count": 46,
   "id": "d5746648",
   "metadata": {},
   "outputs": [
    {
     "name": "stdout",
     "output_type": "stream",
     "text": [
      "20\n",
      "type: <class 'int'>\n",
      "123.45\n",
      "type: <class 'float'>\n",
      "True\n",
      "type: <class 'bool'>\n",
      "string1\n",
      "type: <class 'str'>\n",
      "a1\n",
      "type: <class 'str'>\n",
      "id 2366868289264\n",
      "a1\n",
      "type: <class 'str'>\n",
      "id 2366868289264\n"
     ]
    }
   ],
   "source": [
    "var1 = 20\n",
    "print(var1)\n",
    "print(\"type:\",type(var1))\n",
    "var2 = 123.45\n",
    "print(var2)\n",
    "print(\"type:\",type(var2))\n",
    "var3 = True\n",
    "print(var3)\n",
    "print(\"type:\",type(var3))\n",
    "var4 = 'string1'\n",
    "print(var4)\n",
    "print(\"type:\",type(var4))\n",
    "\n",
    "var5='a1'\n",
    "print(var5)\n",
    "print(\"type:\",type(var5))\n",
    "print(\"id\",id(var5))\n",
    "var5='a1'\n",
    "print(var5)\n",
    "print(\"type:\",type(var5))\n",
    "print(\"id\",id(var5))\n",
    "\n"
   ]
  },
  {
   "cell_type": "markdown",
   "id": "0141e4c8",
   "metadata": {},
   "source": [
    "# 數字轉字串"
   ]
  },
  {
   "cell_type": "code",
   "execution_count": 48,
   "id": "2e8ad2f6",
   "metadata": {},
   "outputs": [
    {
     "name": "stdout",
     "output_type": "stream",
     "text": [
      "年齡:18\n"
     ]
    }
   ],
   "source": [
    "age = 18\n",
    "msg = \"年齡:\"+str(age)\n",
    "print(msg)"
   ]
  },
  {
   "cell_type": "markdown",
   "id": "0c547820",
   "metadata": {},
   "source": [
    "# 字串轉數字"
   ]
  },
  {
   "cell_type": "code",
   "execution_count": 50,
   "id": "1319e850",
   "metadata": {},
   "outputs": [
    {
     "name": "stdout",
     "output_type": "stream",
     "text": [
      "35\n"
     ]
    }
   ],
   "source": [
    "price = \"25\"\n",
    "ans = int(price) + 10\n",
    "print(ans)"
   ]
  },
  {
   "cell_type": "code",
   "execution_count": 60,
   "id": "a86e8dec",
   "metadata": {},
   "outputs": [
    {
     "name": "stdout",
     "output_type": "stream",
     "text": [
      "2016\n",
      "pcschool\n"
     ]
    }
   ],
   "source": [
    "a,b,c = \"pcschool\",2016,3.14\n",
    "print(b)\n",
    "a,b,c = c,a,b\n",
    "print(b)"
   ]
  },
  {
   "cell_type": "code",
   "execution_count": 57,
   "id": "b94f166f",
   "metadata": {},
   "outputs": [
    {
     "name": "stdout",
     "output_type": "stream",
     "text": [
      "x: 20 y: 60\n",
      "x: 60 y: 20\n"
     ]
    }
   ],
   "source": [
    "x,y = 20,60\n",
    "print(\"x:\",x,\"y:\",y)\n",
    "x,y = y,x\n",
    "print(\"x:\",x,\"y:\",y)"
   ]
  },
  {
   "cell_type": "code",
   "execution_count": 64,
   "id": "229c9aaa",
   "metadata": {},
   "outputs": [
    {
     "name": "stdout",
     "output_type": "stream",
     "text": [
      "哈嘍哈嘍哈嘍\n",
      "九天玄女醬肉醬肉醬肉醬肉醬肉醬肉醬肉醬肉醬肉醬肉\n"
     ]
    }
   ],
   "source": [
    "msg = \"哈嘍\" * 3\n",
    "print(msg)\n",
    "msg = \"九天玄女\" +\"醬肉\"*10\n",
    "print(msg)"
   ]
  },
  {
   "cell_type": "markdown",
   "id": "c19343cb",
   "metadata": {},
   "source": [
    "# 輸入"
   ]
  },
  {
   "cell_type": "code",
   "execution_count": 69,
   "id": "21b6a8b7",
   "metadata": {},
   "outputs": [
    {
     "name": "stdout",
     "output_type": "stream",
     "text": [
      "請輸入數字5\n",
      "請輸入數字15\n",
      "20\n",
      "<class 'str'>\n"
     ]
    }
   ],
   "source": [
    "a = input(\"請輸入數字\")\n",
    "b = input(\"請輸入數字\")\n",
    "print(int(a)+int(b))\n",
    "print(type(a))"
   ]
  },
  {
   "cell_type": "code",
   "execution_count": 71,
   "id": "dd1d16d2",
   "metadata": {},
   "outputs": [
    {
     "name": "stdout",
     "output_type": "stream",
     "text": [
      "float輸入h:3.5\n",
      "float輸入i2.6\n",
      "6.1\n"
     ]
    }
   ],
   "source": [
    "h = float(input(\"float輸入h:\"))\n",
    "i = float(input(\"float輸入i:\"))\n",
    "j = h + i\n",
    "print(j)"
   ]
  },
  {
   "cell_type": "markdown",
   "id": "180ac3d0",
   "metadata": {},
   "source": [
    "#  __class__\n"
   ]
  },
  {
   "cell_type": "code",
   "execution_count": 76,
   "id": "dfea2d32",
   "metadata": {},
   "outputs": [
    {
     "name": "stdout",
     "output_type": "stream",
     "text": [
      "輸入字串abc\n",
      "abc <class 'str'>\n",
      "<class 'str'>\n",
      "輸入整數123\n",
      "<class 'int'>\n"
     ]
    }
   ],
   "source": [
    "a = input(\"輸入字串\")\n",
    "print(a,a.__class__)\n",
    "print(type(a)) #呼叫時間長 \n",
    "a = int(input(\"輸入整數\"))\n",
    "print(a.__class__)#呼叫時間快"
   ]
  },
  {
   "attachments": {
    "image.png": {
     "image/png": "[encoded data removed]"
    }
   },
   "cell_type": "markdown",
   "id": "590d0568",
   "metadata": {},
   "source": [
    "# 運算子\n",
    "![image.png](attachment:image.png)"
   ]
  },
  {
   "cell_type": "code",
   "execution_count": 81,
   "id": "7c82aead",
   "metadata": {},
   "outputs": [
    {
     "name": "stdout",
     "output_type": "stream",
     "text": [
      "8\n",
      "16\n",
      "2\n",
      "6\n",
      "2\n",
      "2\n",
      "2.5\n"
     ]
    }
   ],
   "source": [
    "a,b,c=4,2,5\n",
    "d,f = 3.25,5.5\n",
    "print(a * b)\n",
    "print(a ** 2)\n",
    "print(128 % 3)#求餘數  3 > ? >=0\n",
    "print(a + b)\n",
    "print(a - b)\n",
    "print(c // b)# 求商\n",
    "print(c / b)#有小數點的除法"
   ]
  },
  {
   "cell_type": "code",
   "execution_count": null,
   "id": "832696d0",
   "metadata": {},
   "outputs": [],
   "source": []
  }
 ],
 "metadata": {
  "kernelspec": {
   "display_name": "Python 3 (ipykernel)",
   "language": "python",
   "name": "python3"
  },
  "language_info": {
   "codemirror_mode": {
    "name": "ipython",
    "version": 3
   },
   "file_extension": ".py",
   "mimetype": "text/x-python",
   "name": "python",
   "nbconvert_exporter": "python",
   "pygments_lexer": "ipython3",
   "version": "3.8.11"
  }
 },
 "nbformat": 4,
 "nbformat_minor": 5
}
