{
 "cells": [
  {
   "cell_type": "markdown",
   "id": "7d8006bd",
   "metadata": {},
   "source": [
    "## 類別方法"
   ]
  },
  {
   "cell_type": "code",
   "execution_count": 12,
   "id": "a0743363",
   "metadata": {},
   "outputs": [
    {
     "name": "stdout",
     "output_type": "stream",
     "text": [
      "Empty\n",
      "Vivin\n",
      "GJ\n",
      "2\n"
     ]
    }
   ],
   "source": [
    "class Student:\n",
    "    count = 0\n",
    "    company=\"GJ\"\n",
    "    phone = \"12345\"\n",
    "    def __init__(self,name=\"Empty\"):\n",
    "        self.name = name\n",
    "        Student.count += 1   \n",
    "    def getName(self):\n",
    "        return self.name\n",
    "    @staticmethod\n",
    "    def getCompay():\n",
    "        return Student.company\n",
    "    @staticmethod\n",
    "    def getCount():\n",
    "        return Student.count\n",
    "    @classmethod\n",
    "    def newStudent(cls,name):\n",
    "        return cls(name)\n",
    "st1 = Student(\"Ken\")\n",
    "st2 = Student.newStudent(\"Vivin\")\n",
    "print(st1.getName())\n",
    "print(st2.getName())\n",
    "print(Student.getCompay())\n",
    "print(Student.getCount())"
   ]
  },
  {
   "cell_type": "markdown",
   "id": "153b5a86",
   "metadata": {},
   "source": [
    "## 成員項目檢查\n",
    "+ python 提供內建函式檢查及操作物件成員屬性：\n",
    "  + hasattr(obj, name) : 檢查物件某成員是否存在，存在回傳 true，否則傳回 false。\n",
    "  + getattr(obj, name[, default]) : 回傳物件某成員的內容 [, default] 如果屬性不在回傳預設值\n",
    "  + setattr(obj, name, value) : 設定物件某成員的內容。成員不存在則會建立。\n",
    "  + delattr(obj, name) : 刪除一個成員。"
   ]
  },
  {
   "cell_type": "code",
   "execution_count": 21,
   "id": "759bd11d",
   "metadata": {},
   "outputs": [
    {
     "name": "stdout",
     "output_type": "stream",
     "text": [
      "True\n",
      "False\n",
      "建立 age\n",
      "True\n",
      "10\n"
     ]
    }
   ],
   "source": [
    "class Person:\n",
    "    def __init__(self,name):\n",
    "        self.name = name\n",
    "p1 = Person(\"Join\")\n",
    "print(hasattr(p1,\"name\"))\n",
    "print(hasattr(p1,\"age\"))\n",
    "#p1.age = 15\n",
    "if hasattr(p1,\"age\"):\n",
    "    print(\"移除 age\")\n",
    "    delattr(p1,\"age\")\n",
    "else:\n",
    "    print(\"建立 age\")\n",
    "    setattr(p1,'age',10)\n",
    "print(hasattr(p1,\"age\"))\n",
    "print(getattr(p1,'age',0))"
   ]
  },
  {
   "cell_type": "markdown",
   "id": "e24daf94",
   "metadata": {},
   "source": [
    "# Python 物件導向特性\n",
    "+ 封裝 encapsulation：類別 class 封裝資料狀態與操作行為\n",
    "+ 繼承 inheritance：類別繼承階級架構\n",
    "+ 多型 polymorphism\n",
    "  + 不同種類的個體擁有相同操作介面：\n",
    "     + int與str都可使用「+」運算子\n",
    "     + list 改寫（或重新實作）Sequence規定的介面\n",
    "  + 函式可因參數型別不同而有不同行為"
   ]
  },
  {
   "cell_type": "markdown",
   "id": "e151d5db",
   "metadata": {},
   "source": [
    "## 封裝\n",
    "屬性與方法加上__為私有"
   ]
  },
  {
   "cell_type": "code",
   "execution_count": 50,
   "id": "f1bbf4e2",
   "metadata": {},
   "outputs": [
    {
     "name": "stdout",
     "output_type": "stream",
     "text": [
      "姓名超過定義長度\n",
      "薪資錯誤\n",
      "3\n"
     ]
    }
   ],
   "source": [
    "class NameLenError(Exception):\n",
    "    pass\n",
    "class SalaryError(Exception):\n",
    "    pass\n",
    "class Employee:\n",
    "    def __init__(self,name,salary):\n",
    "#          self.__name = name\n",
    "#          self.__salary = salary \n",
    "        self.setName(name)\n",
    "        self.setSalary(salary)\n",
    "    def printInfo(self):\n",
    "        print(self.getName(),\":\",self.getSalary());\n",
    "    @staticmethod\n",
    "    def __checkName(name):\n",
    "        if len(name) > 0 and len(name) < 30:\n",
    "            return True\n",
    "        else:\n",
    "            return False\n",
    "    def __checkSalary(salary):\n",
    "        if salary > 0 and salary < 1000000:\n",
    "            return True\n",
    "        else:\n",
    "            return False\n",
    "        \n",
    "    def setName(self,name):\n",
    "        if Employee.__checkName(name):\n",
    "            self.__name = name\n",
    "        else:\n",
    "            raise NameLenError(\"姓名超過定義長度\")\n",
    "          \n",
    "    def getName(self):\n",
    "        return self.__name\n",
    "    \n",
    "    def getSalary(self):\n",
    "        return self.__salary\n",
    "    def setSalary(self,salary):\n",
    "        if Employee.__checkSalary(salary):\n",
    "            self.__salary = salary\n",
    "        else:\n",
    "            raise SalaryError(\"薪資錯誤\") \n",
    "try:\n",
    "    emp = Employee(\"\",50000)\n",
    "    myname = \"九天玄女\"*30\n",
    "    print(myname)\n",
    "    emp.setName(myname)\n",
    "    emp.printInfo()  \n",
    "except  NameLenError as ne: \n",
    "    print(ne)\n",
    "\n",
    "try:\n",
    "    emp2 = Employee(\"Ken\",-50000)\n",
    "    #emp2.setSalary(-70000)\n",
    "    #emp2.__salary = -70000\n",
    "    emp2.printInfo()\n",
    "except SalaryError as se:\n",
    "    print(se)\n",
    "    \n",
    "print(len(\"abc\"))"
   ]
  },
  {
   "cell_type": "code",
   "execution_count": 70,
   "id": "0a8b7373",
   "metadata": {},
   "outputs": [
    {
     "name": "stdout",
     "output_type": "stream",
     "text": [
      "mac air m2 : 10000\n"
     ]
    }
   ],
   "source": [
    "class PriceError(Exception):\n",
    "    pass\n",
    "class Product:\n",
    "    def __checkPrice(price):\n",
    "        if price >= 0 and price <= 20000:\n",
    "            return True\n",
    "        else:\n",
    "            return False\n",
    "        \n",
    "    def __init__(self,name,price):\n",
    "        self.__name = name\n",
    "        self.__price = price\n",
    "    @property #讀 就是get   \n",
    "    def price(self):\n",
    "        return self.__price\n",
    "    @price.setter\n",
    "    def price(self,v):\n",
    "        if Product.__checkPrice(v):\n",
    "            self.__price = v\n",
    "        else:\n",
    "            raise PriceError()\n",
    "    def printInfo(self):\n",
    "        print(self.__name,\":\",self.price)\n",
    "p1 = Product(\"mac air m2\",50000)  \n",
    "p1.price = 10000\n",
    "p1.printInfo()"
   ]
  },
  {
   "cell_type": "code",
   "execution_count": 67,
   "id": "433d6bd1",
   "metadata": {},
   "outputs": [
    {
     "name": "stdout",
     "output_type": "stream",
     "text": [
      "0\n",
      "1\n",
      "2\n"
     ]
    }
   ],
   "source": [
    "class pri:\n",
    "    def __init__(self):\n",
    "        self.__count = 0\n",
    "    def count(self):\n",
    "        self.__count+=1\n",
    "    def printInfo(self):\n",
    "        print(self.__count)    \n",
    "c1 = pri()\n",
    "c1.printInfo()\n",
    "c1.count()\n",
    "c1.printInfo()\n",
    "c2 = c1\n",
    "c2.count()\n",
    "c1.printInfo()"
   ]
  },
  {
   "cell_type": "code",
   "execution_count": null,
   "id": "3c065c47",
   "metadata": {},
   "outputs": [],
   "source": []
  }
 ],
 "metadata": {
  "kernelspec": {
   "display_name": "Python 3 (ipykernel)",
   "language": "python",
   "name": "python3"
  },
  "language_info": {
   "codemirror_mode": {
    "name": "ipython",
    "version": 3
   },
   "file_extension": ".py",
   "mimetype": "text/x-python",
   "name": "python",
   "nbconvert_exporter": "python",
   "pygments_lexer": "ipython3",
   "version": "3.8.11"
  }
 },
 "nbformat": 4,
 "nbformat_minor": 5
}
