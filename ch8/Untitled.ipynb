{
 "cells": [
  {
   "cell_type": "markdown",
   "id": "eff06d4c",
   "metadata": {},
   "source": [
    "## 函數參數"
   ]
  },
  {
   "cell_type": "markdown",
   "id": "a49a35b0",
   "metadata": {},
   "source": [
    "### 不固定接收數量\n",
    "\n",
    "( ) 內接收資料若是以 * 表示代表可以引入不定數量的參數：\n",
    "\n",
    "一個*代表以 tuple 的方式引入\n",
    "\n",
    "兩個*代表以 dict 的方式引入\n",
    "\n",
    "接收資料若需加入多個設定，這些設定請依照順序排列：\n",
    "\n",
    "第一個參數設定為接收值 \n",
    "\n",
    "第二個參數設定為初始值\n",
    "\n",
    "第三個參數設定為不固定值，可以是 tuple 或 dict 方式"
   ]
  },
  {
   "cell_type": "code",
   "execution_count": 6,
   "id": "b02ddf4e",
   "metadata": {},
   "outputs": [
    {
     "name": "stdout",
     "output_type": "stream",
     "text": [
      "test!\n"
     ]
    }
   ],
   "source": [
    "def f1(v1,v2,v3=\"d\",*args):\n",
    "    print(\"test!\")\n",
    "f1(1,2,\"a\",15)    \n",
    "    "
   ]
  },
  {
   "cell_type": "code",
   "execution_count": 13,
   "id": "f4b7cbec",
   "metadata": {},
   "outputs": [
    {
     "name": "stdout",
     "output_type": "stream",
     "text": [
      "test2!\n"
     ]
    }
   ],
   "source": [
    "def f2(v1,v2=5):\n",
    "    print(\"test2!\")\n",
    "# def f3(v1=5,v2):\n",
    "#     print(\"test3!\")\n",
    "f2(1,2)   "
   ]
  },
  {
   "cell_type": "code",
   "execution_count": 16,
   "id": "0c749103",
   "metadata": {},
   "outputs": [
    {
     "name": "stdout",
     "output_type": "stream",
     "text": [
      "v1: 1\n",
      "v2: default\n",
      "================================\n",
      "v1: 1\n",
      "v2: Test2\n",
      "args: apple\n",
      "args: charry\n",
      "args: kiwi\n",
      "================================\n"
     ]
    }
   ],
   "source": [
    "def f4(v1,v2=\"default\",*args):\n",
    "    print(\"v1:\",v1)\n",
    "    print(\"v2:\",v2)\n",
    "    for v in args:\n",
    "        print(\"args:\",v)\n",
    "    print(\"================================\")    \n",
    "f4(1)\n",
    "f4(1,\"Test2\",\"apple\",\"charry\",\"kiwi\")"
   ]
  },
  {
   "cell_type": "code",
   "execution_count": 20,
   "id": "06686cb6",
   "metadata": {},
   "outputs": [
    {
     "name": "stdout",
     "output_type": "stream",
     "text": [
      "1\n",
      "default\n",
      "==================================\n",
      "1\n",
      "2\n",
      "==================================\n",
      "1\n",
      "2\n",
      "age:18\n",
      "name:ken\n",
      "==================================\n"
     ]
    }
   ],
   "source": [
    "def f5(arg1,arg2='default',**args):\n",
    "    print(arg1);\n",
    "    print(arg2);\n",
    "    for k in args.keys():\n",
    "        print(f\"{k}:{args[k]}\")\n",
    "    print(\"==================================\")    \n",
    "f5(1)\n",
    "f5(1,2)\n",
    "f5(1,2,age=18,name=\"ken\")"
   ]
  },
  {
   "cell_type": "markdown",
   "id": "21095c83",
   "metadata": {},
   "source": [
    "## 預設值為物件時注意"
   ]
  },
  {
   "cell_type": "code",
   "execution_count": 32,
   "id": "bf587fc8",
   "metadata": {},
   "outputs": [
    {
     "name": "stdout",
     "output_type": "stream",
     "text": [
      "6 \n",
      "===============================\n",
      "6 5 \n",
      "===============================\n",
      "7 \n",
      "===============================\n",
      "7 8 \n",
      "===============================\n",
      "7 8 9 \n",
      "===============================\n"
     ]
    }
   ],
   "source": [
    "def fun5(v,myList=[]):\n",
    "       myList.append(v)\n",
    "       for v in  myList:\n",
    "            print(v,end=\" \")\n",
    "       print(\"\\n===============================\")\n",
    "arr=[]    \n",
    "fun5(6,arr)    \n",
    "fun5(5,arr)\n",
    "fun5(7)\n",
    "fun5(8)\n",
    "fun5(9)"
   ]
  },
  {
   "cell_type": "code",
   "execution_count": 38,
   "id": "fffc606c",
   "metadata": {},
   "outputs": [
    {
     "name": "stdout",
     "output_type": "stream",
     "text": [
      "Ken 20\n",
      "============================\n",
      "Ken 20\n",
      "Lucy 10\n",
      "============================\n"
     ]
    }
   ],
   "source": [
    "def fun6(k,value,myDic={}):\n",
    "    myDic[k] = value\n",
    "    for key in myDic:\n",
    "        print(key,myDic[key])\n",
    "    print(\"============================\")    \n",
    "fun6(\"Ken\",20)\n",
    "fun6(\"Lucy\",10)"
   ]
  },
  {
   "cell_type": "markdown",
   "id": "5a3466da",
   "metadata": {},
   "source": [
    "# 匿名函數\n",
    "+ 不需要定義函數名稱的，只需要用運算式或表達分析語法。\n",
    "+ Python 使用 lambda 語法定義匿名函數。\n",
    "+ 匿名函數是一個表達式/計算式，並不是一個執行流程區塊。\n",
    "+ 匿名函數可以出現在一般函數不允許的地方，例如像 list 內部或函數呼叫參數的位置。"
   ]
  },
  {
   "cell_type": "code",
   "execution_count": 44,
   "id": "205766cf",
   "metadata": {},
   "outputs": [
    {
     "name": "stdout",
     "output_type": "stream",
     "text": [
      "傳統函數處裡\n",
      "432\n",
      "<class 'function'>\n",
      "匿名函數\n",
      "432\n"
     ]
    }
   ],
   "source": [
    "def f(x,y,z):\n",
    "    return x + y + z\n",
    "print(\"傳統函數處裡\")\n",
    "print(f(2,30,400))\n",
    "print(type(f))\n",
    "f = lambda x,y,z:x+y+z\n",
    "print(\"匿名函數\")\n",
    "print(f(2,30,400))"
   ]
  },
  {
   "cell_type": "code",
   "execution_count": 41,
   "id": "880ddce4",
   "metadata": {},
   "outputs": [
    {
     "name": "stdout",
     "output_type": "stream",
     "text": [
      "Test1X1Test3\n"
     ]
    }
   ],
   "source": [
    "mx= (lambda a= 'Test1',b='Test2',c='Test3':a+b+c)\n",
    "print(mx(b=\"X1\"))"
   ]
  },
  {
   "cell_type": "code",
   "execution_count": 46,
   "id": "780bc57a",
   "metadata": {},
   "outputs": [
    {
     "name": "stdout",
     "output_type": "stream",
     "text": [
      "<class 'list'>\n",
      "<class 'function'>\n",
      "9\n",
      "<class 'function'>\n",
      "27\n",
      "<class 'function'>\n",
      "81\n",
      "8\n"
     ]
    }
   ],
   "source": [
    "try1 = [lambda x:x**2,lambda x:x**3,lambda x:x**4 ]\n",
    "print(try1.__class__)\n",
    "for f in try1:\n",
    "    print(f.__class__)\n",
    "    print(f(3))\n",
    "\n",
    "print(try1[1](2)) "
   ]
  },
  {
   "cell_type": "code",
   "execution_count": 50,
   "id": "e2921cc2",
   "metadata": {},
   "outputs": [
    {
     "name": "stdout",
     "output_type": "stream",
     "text": [
      "27\n",
      "16\n",
      "=====================\n",
      "81\n",
      "4\n",
      "=====================\n"
     ]
    }
   ],
   "source": [
    "def f1(x):\n",
    "      if (x%2 == 0):\n",
    "        return x ** 2\n",
    "      else:\n",
    "        return  x ** 3   \n",
    "def f2(x):\n",
    "      if (x % 3 == 0):\n",
    "        return x ** 4\n",
    "      else:\n",
    "        return x\n",
    "try2 = [f1,f2]\n",
    "for func in try2:\n",
    "    print(func(3))\n",
    "    print(func(4))\n",
    "    print(\"=====================\")"
   ]
  },
  {
   "cell_type": "code",
   "execution_count": 53,
   "id": "59eae72a",
   "metadata": {},
   "outputs": [
    {
     "name": "stdout",
     "output_type": "stream",
     "text": [
      "27\n",
      "16\n",
      "========================================\n",
      "81\n",
      "4\n",
      "========================================\n"
     ]
    }
   ],
   "source": [
    "try3 = [lambda x:x**2 if x%2==0 else x**3 ,lambda x:x**4 if x % 3 == 0 else x]\n",
    "for func in try3:\n",
    "    print(func(3))\n",
    "    print(func(4))\n",
    "    print(\"========================================\")"
   ]
  },
  {
   "cell_type": "markdown",
   "id": "3c7afb5a",
   "metadata": {},
   "source": [
    "## 模擬Switch\n",
    "因為Python沒有switch 可使用 lambda + map 模擬\n",
    "```java\n",
    "switch(score){\n",
    "case 10:\n",
    "print('Perfect')\n",
    "case 9:\n",
    "print('A')\n",
    "case 8:\n",
    "print('B')\n",
    "case 7:\n",
    "print('C')\n",
    "case 6:\n",
    "print('D')\n",
    "default:\n",
    "print('E')\n",
    "}\n",
    "```"
   ]
  },
  {
   "cell_type": "code",
   "execution_count": 59,
   "id": "c781dd23",
   "metadata": {},
   "outputs": [
    {
     "name": "stdout",
     "output_type": "stream",
     "text": [
      "Please Input:95\n",
      "A\n"
     ]
    }
   ],
   "source": [
    "score = int(input(\"Please Input:\")) \n",
    "level = score // 10\n",
    "{\n",
    "   10: lambda:print(\"Perfect\"),\n",
    "   9: lambda:print(\"A\"),\n",
    "   8: lambda:print(\"B\"),\n",
    "   7: lambda:print(\"C\"),\n",
    "   6: lambda:print(\"D\")\n",
    "}.get(level,lambda:print(\"E\"))()"
   ]
  },
  {
   "cell_type": "markdown",
   "id": "82d9783f",
   "metadata": {},
   "source": [
    "# Map與Filter\n",
    "+ 用法：map(function, sequence)\n",
    "+ 將複合性資料逐一取出項目再傳入到 function 操作，最後以 list 作為回傳值。\n",
    "+ filter( ) 函數用於過濾 list，過濾掉不符合條件的元素，返回由符合條件元素組成的新 list。\n",
    "+ filter 接收兩個參數，第一個為函數，第二個為 list，list 的每個元素作為參數傳遞給函數進行分析，然後返回 True 或 False，最後將返回 True 的元素放到新list中。"
   ]
  },
  {
   "cell_type": "markdown",
   "id": "095109f5",
   "metadata": {},
   "source": [
    "## Map"
   ]
  },
  {
   "cell_type": "code",
   "execution_count": 62,
   "id": "27e5f498",
   "metadata": {},
   "outputs": [
    {
     "name": "stdout",
     "output_type": "stream",
     "text": [
      "[2, 4, 6, 8]\n",
      "[2, 4, 6, 8]\n",
      "[1, 2, 3, 4, 1, 2, 3, 4]\n"
     ]
    }
   ],
   "source": [
    "def multiply2(x):\n",
    "    return x * 2\n",
    "a = map(multiply2,[1,2,3,4])\n",
    "list1 = list(a)\n",
    "print(list1)\n",
    "a = map(lambda x:x * 2,[1,2,3,4])\n",
    "list2 = list(a)\n",
    "print(list2)\n",
    "\n",
    "b = [1,2,3,4]\n",
    "c = b * 2\n",
    "print(c)\n"
   ]
  },
  {
   "cell_type": "code",
   "execution_count": 76,
   "id": "9cba458e",
   "metadata": {},
   "outputs": [
    {
     "name": "stdout",
     "output_type": "stream",
     "text": [
      "['python', 'java']\n",
      "[10, 8]\n",
      "[100, 80]\n",
      "[True, False]\n",
      "[21, 30, 39]\n"
     ]
    }
   ],
   "source": [
    "dictList = [{'name':'python','point':10},{'name':'java','point':8}]\n",
    "list3 = map(lambda x : x[\"name\"],dictList)\n",
    "print(list(list3))\n",
    "list4 = map(lambda x :x['point'],dictList)\n",
    "print(list(list4))\n",
    "list5 = map(lambda x :x['point'] * 10,dictList)\n",
    "print(list(list5))\n",
    "list6 = map(lambda x:x['name'] == \"python\",dictList)\n",
    "print(list(list6))\n",
    "list7a =[1,2,3]\n",
    "list7b =[10,20,30]\n",
    "list7c =[5,4,3]\n",
    "list7d =[5,4,3]\n",
    "list7 = map(lambda x,y,z,a:x+y+z+a,list7a,list7b,list7c,list7d)\n",
    "print(list(list7))"
   ]
  },
  {
   "cell_type": "markdown",
   "id": "45953b30",
   "metadata": {},
   "source": [
    "## Filter"
   ]
  },
  {
   "cell_type": "code",
   "execution_count": 79,
   "id": "5d8a5e03",
   "metadata": {},
   "outputs": [
    {
     "name": "stdout",
     "output_type": "stream",
     "text": [
      "[2, 4, 6]\n",
      "[{'name': 'java', 'point': 8}]\n"
     ]
    }
   ],
   "source": [
    "a = [1,2,3,4,5,6]\n",
    "list8 = filter(lambda x:x%2 == 0,a)\n",
    "print(list(list8))\n",
    "dict9 = [{'name':'python','point':10},{'name':'java','point':8}]\n",
    "list9 = filter(lambda x:x['name'] == 'java',dict9)\n",
    "print(list(list9))"
   ]
  },
  {
   "cell_type": "code",
   "execution_count": null,
   "id": "4a96ab02",
   "metadata": {},
   "outputs": [],
   "source": []
  }
 ],
 "metadata": {
  "kernelspec": {
   "display_name": "Python 3 (ipykernel)",
   "language": "python",
   "name": "python3"
  },
  "language_info": {
   "codemirror_mode": {
    "name": "ipython",
    "version": 3
   },
   "file_extension": ".py",
   "mimetype": "text/x-python",
   "name": "python",
   "nbconvert_exporter": "python",
   "pygments_lexer": "ipython3",
   "version": "3.8.11"
  }
 },
 "nbformat": 4,
 "nbformat_minor": 5
}
