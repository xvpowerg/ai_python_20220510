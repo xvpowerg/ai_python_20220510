{
 "cells": [
  {
   "cell_type": "markdown",
   "id": "fa79712e",
   "metadata": {},
   "source": [
    "# 作業"
   ]
  },
  {
   "cell_type": "code",
   "execution_count": 3,
   "id": "44b91408",
   "metadata": {},
   "outputs": [
    {
     "name": "stdout",
     "output_type": "stream",
     "text": [
      "請輸入喜歡的水果aa\n",
      "aa不在清單當中\n"
     ]
    }
   ],
   "source": [
    "flist = [\"蘋果\",\"西瓜\",\"鳳梨\",\"芭樂\"]\n",
    "fruit = input(\"請輸入喜歡的水果\")\n",
    "if fruit in flist:\n",
    "   i = flist.index(fruit)\n",
    "   print(f\"{fruit}在清單當中{i}項\") \n",
    "else:\n",
    "  print(f\"{fruit}不在清單當中\")  "
   ]
  },
  {
   "cell_type": "markdown",
   "id": "91e4911f",
   "metadata": {},
   "source": [
    "## Foreach List"
   ]
  },
  {
   "cell_type": "code",
   "execution_count": 9,
   "id": "67abd901",
   "metadata": {},
   "outputs": [
    {
     "name": "stdout",
     "output_type": "stream",
     "text": [
      "A\tB\tC\tD\tKen,Vivin,Lindy\tJoy_Lucy_Iris\t"
     ]
    }
   ],
   "source": [
    "list4 = [\"A\",\"B\",\"C\",\"D\"]\n",
    "for v in list4:\n",
    "    print(v,end='\\t')\n",
    "\n",
    "print(\"Ken\",\"Vivin\",\"Lindy\",sep=\",\",end='\\t')\n",
    "print(\"Joy\",\"Lucy\",\"Iris\",sep=\"_\",end='\\t')"
   ]
  },
  {
   "cell_type": "markdown",
   "id": "dd09a27a",
   "metadata": {},
   "source": [
    "## 三元運算子\n",
    "當if成立回傳的數值  if 條件 else  當if不成立回傳的數值 "
   ]
  },
  {
   "cell_type": "code",
   "execution_count": 21,
   "id": "96609b85",
   "metadata": {},
   "outputs": [
    {
     "name": "stdout",
     "output_type": "stream",
     "text": [
      "20\n"
     ]
    }
   ],
   "source": [
    "a= 10\n",
    "b= 20\n",
    "ans = a if a>b else b\n",
    "print(ans)"
   ]
  },
  {
   "cell_type": "markdown",
   "id": "a846362c",
   "metadata": {},
   "source": [
    "## Dictionary"
   ]
  },
  {
   "cell_type": "code",
   "execution_count": 26,
   "id": "4dad621a",
   "metadata": {},
   "outputs": [
    {
     "name": "stdout",
     "output_type": "stream",
     "text": [
      "{'a': 100, 'b': 200, 'c': 300}\n",
      "200\n"
     ]
    }
   ],
   "source": [
    "dict1 = {'a':100,'b':200,'c':300}\n",
    "print(dict1)\n",
    "print(dict1['b'])\n",
    "print(dict1['e'])#因為key不存在所以出錯"
   ]
  },
  {
   "cell_type": "code",
   "execution_count": 29,
   "id": "b8d64f29",
   "metadata": {},
   "outputs": [
    {
     "name": "stdout",
     "output_type": "stream",
     "text": [
      "{'a': 100, 'b': 300}\n"
     ]
    }
   ],
   "source": [
    "dict2 = {'a':100,'b':200,'b':300}\n",
    "print(dict2)"
   ]
  },
  {
   "cell_type": "markdown",
   "id": "729446ea",
   "metadata": {},
   "source": [
    "## ForEatch Dict"
   ]
  },
  {
   "cell_type": "code",
   "execution_count": 35,
   "id": "be27a93b",
   "metadata": {},
   "outputs": [
    {
     "name": "stdout",
     "output_type": "stream",
     "text": [
      "a\n",
      "b\n",
      "c\n",
      "=================\n",
      "100\n",
      "300\n",
      "=================\n",
      "100\n",
      "200\n",
      "300\n",
      "======================\n",
      "a 100\n",
      "b 200\n",
      "c 300\n"
     ]
    }
   ],
   "source": [
    "diect1 = {'a':100,'b':200,'c':300}\n",
    "for k in diect1.keys():\n",
    "    print(k)\n",
    "print(\"=================\")   \n",
    "for k in diect1.keys():\n",
    "    if k!='b':\n",
    "       print(diect1[k])\n",
    "print(\"=================\")  \n",
    "for v in diect1.values():\n",
    "    print(v)\n",
    "print(\"======================\")\n",
    "for k,v in dict1.items():\n",
    "    print(k,v)"
   ]
  },
  {
   "cell_type": "markdown",
   "id": "e372281f",
   "metadata": {},
   "source": [
    "## 更新"
   ]
  },
  {
   "cell_type": "code",
   "execution_count": 43,
   "id": "11319bc2",
   "metadata": {},
   "outputs": [
    {
     "name": "stdout",
     "output_type": "stream",
     "text": [
      "{'a': 100, 'b': 200, 'c': 300}\n",
      "{'a': 100, 'b': 200, 'c': 500, 'd': 400}\n",
      "{'ipad M1': 50000}\n",
      "{'ipad M1': 50000, 'iphone': 350000}\n"
     ]
    }
   ],
   "source": [
    "dict1 = {'a':100,'b':200,'c':300} \n",
    "print(dict1)\n",
    "up_dic={'d':400,'c':500}\n",
    "dict1.update(up_dic)\n",
    "print(dict1)\n",
    "\n",
    "up_dic2={'ipad M1':50000}\n",
    "print(up_dic2)\n",
    "key1 = 'iphone'\n",
    "price = 350000\n",
    "up_dic2[key1] = price\n",
    "print(up_dic2)"
   ]
  },
  {
   "cell_type": "markdown",
   "id": "c49b0819",
   "metadata": {},
   "source": [
    "## 刪除動作"
   ]
  },
  {
   "cell_type": "code",
   "execution_count": 55,
   "id": "ae4ce362",
   "metadata": {},
   "outputs": [
    {
     "name": "stdout",
     "output_type": "stream",
     "text": [
      "{'a': 100, 'b': 200, 'c': 300}\n",
      "{'a': 100, 'b': 200}\n",
      "True\n",
      "False\n",
      "{'a': 100, 'b': 200}\n",
      "{}\n"
     ]
    },
    {
     "ename": "NameError",
     "evalue": "name 'dict1' is not defined",
     "output_type": "error",
     "traceback": [
      "\u001b[1;31m---------------------------------------------------------------------------\u001b[0m",
      "\u001b[1;31mNameError\u001b[0m                                 Traceback (most recent call last)",
      "Input \u001b[1;32mIn [55]\u001b[0m, in \u001b[0;36m<cell line: 16>\u001b[1;34m()\u001b[0m\n\u001b[0;32m     14\u001b[0m \u001b[38;5;28mprint\u001b[39m(dict1)\n\u001b[0;32m     15\u001b[0m \u001b[38;5;28;01mdel\u001b[39;00m dict1\n\u001b[1;32m---> 16\u001b[0m keyType \u001b[38;5;241m=\u001b[39m \u001b[43mdict1\u001b[49m\u001b[38;5;241m.\u001b[39mkeys()\n",
      "\u001b[1;31mNameError\u001b[0m: name 'dict1' is not defined"
     ]
    }
   ],
   "source": [
    "dict1 = {'a':100,'b':200,'c':300} \n",
    "print(dict1)\n",
    "del dict1['c']\n",
    "print(dict1)\n",
    "key = 'c'\n",
    "if key in dict1:\n",
    "    del dict1[key]\n",
    "#del dict1['c'] 出錯\n",
    "keyType = dict1.keys()\n",
    "print('a' in keyType)\n",
    "print('c' in keyType)\n",
    "print(dict1)\n",
    "\n",
    "dict1.clear()\n",
    "print(dict1)\n",
    "del dict1 #把dict1變數移除\n",
    "keyType = dict1.keys()"
   ]
  },
  {
   "cell_type": "markdown",
   "id": "36270986",
   "metadata": {},
   "source": [
    "## 函數"
   ]
  },
  {
   "cell_type": "code",
   "execution_count": 62,
   "id": "ddf2895a",
   "metadata": {},
   "outputs": [
    {
     "name": "stdout",
     "output_type": "stream",
     "text": [
      "呼叫函數\n",
      "呼叫函數\n",
      "<class 'NoneType'>\n"
     ]
    }
   ],
   "source": [
    "def func1():  #def 必須先呼叫 才能使用此函數\n",
    "    print(\"呼叫函數\")\n",
    "func1()\n",
    "v = func1()\n",
    "print(type(v))\n"
   ]
  },
  {
   "cell_type": "code",
   "execution_count": 63,
   "id": "05044ec7",
   "metadata": {},
   "outputs": [
    {
     "name": "stdout",
     "output_type": "stream",
     "text": [
      "B\n",
      "A\n",
      "C\n"
     ]
    }
   ],
   "source": [
    "def func_sum():\n",
    "    print(\"A\")\n",
    "print(\"B\")\n",
    "func_sum()\n",
    "print(\"C\")"
   ]
  },
  {
   "cell_type": "code",
   "execution_count": 64,
   "id": "1ed06a80",
   "metadata": {},
   "outputs": [
    {
     "name": "stdout",
     "output_type": "stream",
     "text": [
      "1\n",
      "7\n",
      "2\n"
     ]
    }
   ],
   "source": [
    "def func_sum(a,b):\n",
    "    c = a + b\n",
    "    print(c)\n",
    "print(\"1\")\n",
    "func_sum(3,4)\n",
    "print(\"2\")"
   ]
  },
  {
   "cell_type": "code",
   "execution_count": 65,
   "id": "92dd1c48",
   "metadata": {},
   "outputs": [
    {
     "name": "stdout",
     "output_type": "stream",
     "text": [
      "25\n"
     ]
    }
   ],
   "source": [
    "def func_sum(a,b):\n",
    "    c = a + b\n",
    "    return c\n",
    "z = func_sum(10,15)\n",
    "print(z)"
   ]
  },
  {
   "cell_type": "code",
   "execution_count": 72,
   "id": "f2b20b53",
   "metadata": {},
   "outputs": [
    {
     "name": "stdout",
     "output_type": "stream",
     "text": [
      "1\n",
      "2\n",
      "11\n"
     ]
    }
   ],
   "source": [
    "def func_sum(a,b):\n",
    "    c = a +b*2\n",
    "    return c\n",
    "print(\"1\")\n",
    "z = func_sum(3,4)\n",
    "print(\"2\")\n",
    "print(z)"
   ]
  },
  {
   "cell_type": "code",
   "execution_count": 70,
   "id": "5c731d1c",
   "metadata": {},
   "outputs": [
    {
     "name": "stdout",
     "output_type": "stream",
     "text": [
      "<class 'tuple'>\n",
      "1 2 3 4\n"
     ]
    }
   ],
   "source": [
    "def func_a():\n",
    "    return 1,2,3,4\n",
    "tmp = func_a()\n",
    "print(type(tmp))\n",
    "a,b,c,d = tmp\n",
    "print(a,b,c,d)"
   ]
  },
  {
   "cell_type": "code",
   "execution_count": 74,
   "id": "5c1cdc97",
   "metadata": {},
   "outputs": [
    {
     "name": "stdout",
     "output_type": "stream",
     "text": [
      "1 8 15\n"
     ]
    }
   ],
   "source": [
    "def func4(a,b):\n",
    "    c = a *b\n",
    "    return a-2,b+3,c\n",
    "x,y,z = func4(3,5)\n",
    "print(x,y,z)"
   ]
  },
  {
   "cell_type": "markdown",
   "id": "94c32b03",
   "metadata": {},
   "source": [
    "## 變數影響範圍\n",
    "+ 函數外的變數：\n",
    "  + 函數內可以顯示該變數內容\n",
    "  + 不屬於函數的區域內都可以使用\n",
    "+ 函數內的變數：\n",
    "  + 只在函數內產生效果，不會影響函數外的變數\n",
    "  + 若函數內沒有進行變數宣告而進行改變內容動作將會產生錯誤訊息!"
   ]
  },
  {
   "cell_type": "code",
   "execution_count": 85,
   "id": "6f950116",
   "metadata": {},
   "outputs": [
    {
     "name": "stdout",
     "output_type": "stream",
     "text": [
      "a1: 10\n",
      "a2: 20\n"
     ]
    }
   ],
   "source": [
    "ax = 20\n",
    "def func_a1():\n",
    "    ax=10 #生命只在函數內 \n",
    "    #變數函數內的先讀 在讀函數外的\n",
    "    print(\"a1:\",ax)\n",
    "func_a1()\n",
    "print(\"a2:\",ax)"
   ]
  },
  {
   "cell_type": "code",
   "execution_count": null,
   "id": "7988a3f3",
   "metadata": {},
   "outputs": [],
   "source": []
  },
  {
   "cell_type": "code",
   "execution_count": null,
   "id": "a0313993",
   "metadata": {},
   "outputs": [],
   "source": []
  },
  {
   "cell_type": "code",
   "execution_count": null,
   "id": "4e036c71",
   "metadata": {},
   "outputs": [],
   "source": []
  },
  {
   "cell_type": "code",
   "execution_count": null,
   "id": "881cb8bc",
   "metadata": {},
   "outputs": [],
   "source": []
  }
 ],
 "metadata": {
  "kernelspec": {
   "display_name": "Python 3 (ipykernel)",
   "language": "python",
   "name": "python3"
  },
  "language_info": {
   "codemirror_mode": {
    "name": "ipython",
    "version": 3
   },
   "file_extension": ".py",
   "mimetype": "text/x-python",
   "name": "python",
   "nbconvert_exporter": "python",
   "pygments_lexer": "ipython3",
   "version": "3.8.11"
  }
 },
 "nbformat": 4,
 "nbformat_minor": 5
}
