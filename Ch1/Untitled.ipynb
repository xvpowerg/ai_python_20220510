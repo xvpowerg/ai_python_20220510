{
 "cells": [
  {
   "cell_type": "code",
   "execution_count": 10,
   "id": "59306ada",
   "metadata": {},
   "outputs": [
    {
     "name": "stdout",
     "output_type": "stream",
     "text": [
      "Ken\n"
     ]
    }
   ],
   "source": [
    "'''\n",
    "作者:Ken\n",
    "日期:20220510\n",
    "功能:\n",
    "這是一行輸出\n",
    "今天的第一支程式碼\n",
    "'''\n",
    "print(\"Ken\") #輸出"
   ]
  },
  {
   "cell_type": "code",
   "execution_count": null,
   "id": "3913aad6",
   "metadata": {},
   "outputs": [],
   "source": []
  },
  {
   "cell_type": "code",
   "execution_count": null,
   "id": "f3882fe7",
   "metadata": {},
   "outputs": [],
   "source": []
  }
 ],
 "metadata": {
  "kernelspec": {
   "display_name": "Python 3 (ipykernel)",
   "language": "python",
   "name": "python3"
  },
  "language_info": {
   "codemirror_mode": {
    "name": "ipython",
    "version": 3
   },
   "file_extension": ".py",
   "mimetype": "text/x-python",
   "name": "python",
   "nbconvert_exporter": "python",
   "pygments_lexer": "ipython3",
   "version": "3.8.11"
  }
 },
 "nbformat": 4,
 "nbformat_minor": 5
}
