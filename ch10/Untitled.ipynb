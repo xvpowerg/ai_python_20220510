{
 "cells": [
  {
   "cell_type": "markdown",
   "id": "43d1b251",
   "metadata": {},
   "source": [
    "## 匿名函數操作"
   ]
  },
  {
   "cell_type": "code",
   "execution_count": 1,
   "id": "2527613e",
   "metadata": {},
   "outputs": [
    {
     "name": "stdout",
     "output_type": "stream",
     "text": [
      "['apple!!!', 'banana!!!', 'papaya!!!', 'watermelon!!!']\n"
     ]
    }
   ],
   "source": [
    "myList = [\"apple\",\"banana\",\"papaya\",\"watermelon\"]\n",
    "myList = map(lambda x : f\"{x}!!!\",myList)\n",
    "print(list(myList))"
   ]
  },
  {
   "cell_type": "markdown",
   "id": "e454f4b0",
   "metadata": {},
   "source": [
    "## 更多例外資訊"
   ]
  },
  {
   "cell_type": "code",
   "execution_count": 4,
   "id": "15e0d0b1",
   "metadata": {},
   "outputs": [
    {
     "name": "stdout",
     "output_type": "stream",
     "text": [
      "division by zero\n",
      "<class 'ZeroDivisionError'>\n",
      "division by zero\n",
      "<traceback object at 0x000002955246D580>\n",
      "完成\n"
     ]
    },
    {
     "name": "stderr",
     "output_type": "stream",
     "text": [
      "  File \"C:\\Users\\xvpow\\AppData\\Local\\Temp\\ipykernel_13300\\3468311602.py\", line 6, in <cell line: 5>\n",
      "    print(number1/number2)\n"
     ]
    }
   ],
   "source": [
    "import sys\n",
    "import traceback\n",
    "number1 = 10\n",
    "number2 = 0\n",
    "try:\n",
    "  print(number1/number2)\n",
    "except ZeroDivisionError as es:\n",
    "  print(es)\n",
    "  cls,msg,trace = sys.exc_info()#取得更多異常訊息\n",
    "  print(cls)\n",
    "  print(msg)\n",
    "  print(trace)\n",
    "  traceback.print_tb(trace)\n",
    "finally:\n",
    "    print(\"完成\")"
   ]
  },
  {
   "cell_type": "markdown",
   "id": "9c975290",
   "metadata": {},
   "source": [
    "## 物件導向程式"
   ]
  },
  {
   "cell_type": "markdown",
   "id": "0731649c",
   "metadata": {},
   "source": [
    "## 物件屬性"
   ]
  },
  {
   "cell_type": "code",
   "execution_count": 4,
   "id": "d98fc03b",
   "metadata": {},
   "outputs": [
    {
     "name": "stdout",
     "output_type": "stream",
     "text": [
      "Ken\n",
      "18\n"
     ]
    }
   ],
   "source": [
    "import turtle\n",
    "sean = turtle.Turtle()\n",
    "#print(sean.name)\n",
    "sean.name = \"Ken\"\n",
    "sean.age = 18\n",
    "print(sean.name)\n",
    "print(sean.age)"
   ]
  },
  {
   "cell_type": "code",
   "execution_count": 1,
   "id": "f0c153c1",
   "metadata": {},
   "outputs": [],
   "source": [
    "import turtle\n",
    "sean = turtle.Turtle()\n",
    "sean.shape('turtle')\n",
    "sean.shapesize(2)\n",
    "sean.pencolor(\"red\")\n",
    "sean.fillcolor(\"blue\")\n",
    "sean.pensize(2)\n",
    "for i in range(1,5):\n",
    "    sean.forward(100)\n",
    "    sean.right(90)"
   ]
  },
  {
   "cell_type": "markdown",
   "id": "21ade8ea",
   "metadata": {},
   "source": [
    "## 建立基本物件"
   ]
  },
  {
   "cell_type": "code",
   "execution_count": 1,
   "id": "f3740c00",
   "metadata": {},
   "outputs": [
    {
     "name": "stdout",
     "output_type": "stream",
     "text": [
      "<__main__.Employee object at 0x000001FA4E236070>\n"
     ]
    }
   ],
   "source": [
    "class Employee:\n",
    "    pass\n",
    "emp = Employee()\n",
    "print(emp)"
   ]
  },
  {
   "cell_type": "code",
   "execution_count": 3,
   "id": "e725c7b6",
   "metadata": {},
   "outputs": [
    {
     "name": "stdout",
     "output_type": "stream",
     "text": [
      "name:Howard\n",
      "salary:50000\n"
     ]
    },
    {
     "ename": "AttributeError",
     "evalue": "'Employee' object has no attribute 'name'",
     "output_type": "error",
     "traceback": [
      "\u001b[1;31m---------------------------------------------------------------------------\u001b[0m",
      "\u001b[1;31mAttributeError\u001b[0m                            Traceback (most recent call last)",
      "Input \u001b[1;32mIn [3]\u001b[0m, in \u001b[0;36m<cell line: 9>\u001b[1;34m()\u001b[0m\n\u001b[0;32m      7\u001b[0m \u001b[38;5;28mprint\u001b[39m(\u001b[38;5;124mf\u001b[39m\u001b[38;5;124m\"\u001b[39m\u001b[38;5;124msalary:\u001b[39m\u001b[38;5;132;01m{\u001b[39;00memp\u001b[38;5;241m.\u001b[39msalary\u001b[38;5;132;01m}\u001b[39;00m\u001b[38;5;124m\"\u001b[39m)\n\u001b[0;32m      8\u001b[0m emp2 \u001b[38;5;241m=\u001b[39m Employee()\n\u001b[1;32m----> 9\u001b[0m \u001b[38;5;28mprint\u001b[39m(\u001b[38;5;124mf\u001b[39m\u001b[38;5;124m\"\u001b[39m\u001b[38;5;124mname:\u001b[39m\u001b[38;5;132;01m{\u001b[39;00memp2\u001b[38;5;241m.\u001b[39mname\u001b[38;5;132;01m}\u001b[39;00m\u001b[38;5;124m\"\u001b[39m)\n",
      "\u001b[1;31mAttributeError\u001b[0m: 'Employee' object has no attribute 'name'"
     ]
    }
   ],
   "source": [
    "class Employee:\n",
    "    pass\n",
    "emp = Employee()\n",
    "emp.name=\"Howard\"\n",
    "emp.salary=50000\n",
    "print(f\"name:{emp.name}\")\n",
    "print(f\"salary:{emp.salary}\")"
   ]
  },
  {
   "cell_type": "markdown",
   "id": "08730b9a",
   "metadata": {},
   "source": [
    "## __init__(self, …) 初始化方法"
   ]
  },
  {
   "cell_type": "code",
   "execution_count": 7,
   "id": "ca45dd45",
   "metadata": {},
   "outputs": [
    {
     "name": "stdout",
     "output_type": "stream",
     "text": [
      "Ken:60000\n",
      "Iris:20000\n"
     ]
    }
   ],
   "source": [
    "class Employee:\n",
    "    def __init__(self,name,salary=20000):\n",
    "        self.name = name\n",
    "        self.salary = salary\n",
    "emp = Employee(\"Ken\",60000)\n",
    "print(f\"{emp.name}:{emp.salary}\")\n",
    "emp2 = Employee(\"Iris\")\n",
    "print(f\"{emp2.name}:{emp2.salary}\")"
   ]
  },
  {
   "cell_type": "markdown",
   "id": "8934a7f0",
   "metadata": {},
   "source": [
    "## 物件實體方法"
   ]
  },
  {
   "cell_type": "code",
   "execution_count": 16,
   "id": "dc3b39eb",
   "metadata": {},
   "outputs": [
    {
     "name": "stdout",
     "output_type": "stream",
     "text": [
      "學生姓名: Lucy\n",
      "學生身高: 165.6\n",
      "學生姓名: Join\n",
      "學生身高: 0.0\n",
      "2174567739248 2174552657104\n"
     ]
    }
   ],
   "source": [
    "class Student:\n",
    "    def __init__(self,name,height=0.0):\n",
    "        self.name = name\n",
    "        self.height = height\n",
    "    def printInfo(self):\n",
    "        print(\"學生姓名:\",self.name)\n",
    "        print(\"學生身高:\",self.height)\n",
    "st1 = Student(\"Lucy\",165.6)\n",
    "st1.printInfo()\n",
    "st2 = Student(\"Join\")\n",
    "st2.printInfo()\n",
    "print(id(st1),id(st2))"
   ]
  },
  {
   "cell_type": "markdown",
   "id": "b95a147e",
   "metadata": {},
   "source": [
    "## __new__方法 Singleton(單例)"
   ]
  },
  {
   "cell_type": "code",
   "execution_count": 17,
   "id": "0e5a2ee2",
   "metadata": {},
   "outputs": [
    {
     "name": "stdout",
     "output_type": "stream",
     "text": [
      "2174568490752 : 2174568490752\n"
     ]
    }
   ],
   "source": [
    "class Singleton:\n",
    "    def __new__(cls):\n",
    "        if not hasattr(cls,'instance'):\n",
    "            cls.instance = super(Singleton,cls).__new__(cls)\n",
    "        return cls.instance\n",
    "s1 = Singleton()\n",
    "s2 = Singleton()\n",
    "print(id(s1),\":\",id(s2))\n"
   ]
  },
  {
   "cell_type": "markdown",
   "id": "779f5dc5",
   "metadata": {},
   "source": [
    "## 幫建立一個Ｐｅｒｓｏｎ類別\n",
    "屬性name \n",
    "\n",
    "方法sayHello()\n",
    "\n",
    "p1 = Person(\"Lucy\")\n",
    "\n",
    "p1.sayHello() Hello Lucy\n"
   ]
  },
  {
   "cell_type": "code",
   "execution_count": 22,
   "id": "2d3fda1e",
   "metadata": {},
   "outputs": [
    {
     "name": "stdout",
     "output_type": "stream",
     "text": [
      "Hello Lucy\n",
      "Lucy\n",
      "Hello Lucy\n",
      "Hello Lucy\n"
     ]
    }
   ],
   "source": [
    "class Person:\n",
    "    def __init__(self,name):\n",
    "        self.name = name\n",
    "    def sayHello(self):\n",
    "        print(\"Hello\",self.name)\n",
    "p1 = Person('Lucy')\n",
    "p1.sayHello()\n",
    "\n",
    "myName = p1.name\n",
    "print(myName)\n",
    "helloFunc = p1.sayHello#方法是一個特別的類型 看成一個屬性\n",
    "helloFunc()\n",
    "\n",
    "Person.sayHello(p1)#透過類別呼叫 所以self不知道是誰 所以要自己傳遞"
   ]
  },
  {
   "cell_type": "markdown",
   "id": "65a4c4a8",
   "metadata": {},
   "source": [
    "## 類別屬性"
   ]
  },
  {
   "cell_type": "code",
   "execution_count": 32,
   "id": "81bd3ba4",
   "metadata": {},
   "outputs": [
    {
     "name": "stdout",
     "output_type": "stream",
     "text": [
      "name: Ken\n",
      "salary: 60000\n",
      "Phone: (02)2311-4537\n",
      "Company: 巨匠電腦\n",
      "name: Lindy\n",
      "salary: 20000\n",
      "Phone: (02)2311-4537\n",
      "Company: 巨匠電腦\n",
      "=====================\n",
      "name: Ken\n",
      "salary: 80000\n",
      "Phone: (02)2311-4537\n",
      "Company: 巨匠電腦\n",
      "name: Lindy\n",
      "salary: 20000\n",
      "Phone: (02)2311-4537\n",
      "Company: 巨匠電腦\n",
      "=====================\n",
      "name: Ken\n",
      "salary: 80000\n",
      "Phone: 882-5252\n",
      "Company: 巨匠電腦\n",
      "name: Lindy\n",
      "salary: 20000\n",
      "Phone: 882-5252\n",
      "Company: 巨匠電腦\n"
     ]
    }
   ],
   "source": [
    "class Employee:\n",
    "    company=\"巨匠電腦\"\n",
    "    phone=\"(02)2311-4537\"\n",
    "    def __init__(self,name,salary=20000):\n",
    "        self.name = name\n",
    "        self.salary = salary\n",
    "    def printInfo(self):\n",
    "        print(\"name:\",self.name)\n",
    "        print(\"salary:\",self.salary)\n",
    "        print(\"Phone:\",Employee.phone)\n",
    "        print(\"Company:\",Employee.company)\n",
    "emp1 = Employee(\"Ken\",60000) \n",
    "emp1.printInfo()\n",
    "emp2 = Employee(\"Lindy\")\n",
    "emp2.printInfo()\n",
    "print(\"=====================\")\n",
    "emp1.salary = 80000\n",
    "emp1.printInfo()\n",
    "emp2.printInfo()\n",
    "print(\"=====================\")\n",
    "Employee.phone = \"882-5252\"\n",
    "emp1.printInfo()\n",
    "emp2.printInfo()"
   ]
  },
  {
   "cell_type": "code",
   "execution_count": null,
   "id": "99d7dd49",
   "metadata": {},
   "outputs": [],
   "source": []
  }
 ],
 "metadata": {
  "kernelspec": {
   "display_name": "Python 3 (ipykernel)",
   "language": "python",
   "name": "python3"
  },
  "language_info": {
   "codemirror_mode": {
    "name": "ipython",
    "version": 3
   },
   "file_extension": ".py",
   "mimetype": "text/x-python",
   "name": "python",
   "nbconvert_exporter": "python",
   "pygments_lexer": "ipython3",
   "version": "3.8.11"
  }
 },
 "nbformat": 4,
 "nbformat_minor": 5
}
