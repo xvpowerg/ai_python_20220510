{
 "cells": [
  {
   "cell_type": "markdown",
   "id": "00776e5c",
   "metadata": {},
   "source": [
    "## 類別的繼承\n",
    "+ 繼承語法  \n",
    "class 子類別(父類別)：\n",
    "  + 父類別類名寫在括號裡\n",
    "  + 子類別繼承父類別的成員\n",
    "    + 子類別找不到定義的成員，會自動尋找父類別內的定義。\n",
    "    + 類別屬性、類別及實體方法、函數會被繼承下來\n",
    "    + 實體屬性在__init__()中加入，不一定會被新增\n",
    "  + 父類別的__init__( )初始化方法不會被自動使用\n",
    "  + 需要在子類別的初始化方法中指定使用才會執行\n",
    "     + super(子類別, self).__init__(…) 或\n",
    "     + super().__init__(…) \n",
    "     + 不呼叫父類別初始化方法時，不會新增父類別實體屬性   "
   ]
  },
  {
   "cell_type": "code",
   "execution_count": 8,
   "id": "a2464d06",
   "metadata": {},
   "outputs": [
    {
     "name": "stdout",
     "output_type": "stream",
     "text": [
      "Animal\n",
      "momo : 2\n",
      "Animal\n",
      "Kitty : 5\n",
      "Animal\n",
      "Bobo : 8\n",
      "20\n"
     ]
    }
   ],
   "source": [
    "class Animal:\n",
    "    __count = 0\n",
    "    def __init__(self,name,age):\n",
    "        print(\"Animal\")\n",
    "        Animal.__count+=1\n",
    "        self.__name = name\n",
    "        self.__age = age\n",
    "    def getName(self):\n",
    "        return self.__name\n",
    "    def getAge(self):\n",
    "        return self.__age\n",
    "    def getCount():\n",
    "        return Animal.__count\n",
    "    def printInfo(self):\n",
    "        print(self.getName(),\":\",self.getAge())\n",
    "# 會自動呼叫 父類別的__init__        \n",
    "class Cat(Animal):\n",
    "      pass\n",
    "# 不會自動呼叫 父類別的__init__    \n",
    "class Dog(Animal):\n",
    "    def __init__(self,name,age,weight):\n",
    "        super().__init__(name,age)#呼叫父類別的__init__\n",
    "        self.__weight = weight\n",
    "    def getWeight(self):\n",
    "        return self.__weight\n",
    "a1 = Animal(\"momo\",2)\n",
    "a1.printInfo()\n",
    "c1 = Cat(\"Kitty\",5)\n",
    "c1.printInfo()\n",
    "d1 = Dog(\"Bobo\",8,20)\n",
    "d1.printInfo()\n",
    "print(d1.getWeight())"
   ]
  },
  {
   "cell_type": "markdown",
   "id": "f47eb89b",
   "metadata": {},
   "source": [
    "## 方法覆寫"
   ]
  },
  {
   "cell_type": "code",
   "execution_count": 10,
   "id": "a6a9f758",
   "metadata": {},
   "outputs": [
    {
     "name": "stdout",
     "output_type": "stream",
     "text": [
      "b\n"
     ]
    }
   ],
   "source": [
    "class Parent:\n",
    "    def myMethod(self):\n",
    "        print('a')\n",
    "class Child(Parent):\n",
    "    def myMethod(self):\n",
    "        print('b')\n",
    "c1 = Child()\n",
    "c1.myMethod()"
   ]
  },
  {
   "cell_type": "markdown",
   "id": "f5f0c162",
   "metadata": {},
   "source": [
    "## 多重繼承\n",
    "+ 繼承多個父類別時用，隔開\n",
    "+ 注意成員搜尋的順序\n",
    "  + 從子類別開始\n",
    "  + 同一階層父類別由左至右搜尋\n",
    "  + 更上層祖父類別由左至右搜尋\n",
    "  + 直到達到頂層為止"
   ]
  },
  {
   "cell_type": "code",
   "execution_count": 14,
   "id": "5c12b82e",
   "metadata": {},
   "outputs": [
    {
     "name": "stdout",
     "output_type": "stream",
     "text": [
      "C.m4\n",
      "A.m3\n",
      "S.m2\n",
      "B.m1\n"
     ]
    }
   ],
   "source": [
    "class S:\n",
    "    def method1(self):\n",
    "        print(\"S.m1\")\n",
    "    def method2(self):\n",
    "        print(\"S.m2\")\n",
    "class A(S):\n",
    "    def method3(self):\n",
    "        print(\"A.m3\")\n",
    "class B(S):\n",
    "     def method1(self):\n",
    "        print(\"B.m1\")\n",
    "     def method3(self):\n",
    "        print(\"B.m3\")\n",
    "class C(A,B):\n",
    "     def method4(self):\n",
    "        print(\"C.m4\") \n",
    "c = C()\n",
    "c.method4()\n",
    "c.method3()\n",
    "c.method2()\n",
    "c.method1()"
   ]
  },
  {
   "cell_type": "markdown",
   "id": "b668d7a3",
   "metadata": {},
   "source": [
    "## Python類別內建屬性\n",
    "+ __class__：物件所屬類別\n",
    "+ __module__：類別/物件所屬模組字串\n",
    "+ 若沒有引用其他模組則預設為  ′__main__′ \n",
    "+ __name__：類別名稱字串\n",
    "+ __bases__：類別所有父類別，傳回 tuple\n",
    "+ __dict__：類別/物件所屬名稱空間字典(鍵值對)\n",
    "+ __doc__：類別說明字串\n",
    "  + 模組、 類別、屬性、方法、函式下使用三引號字串定義的說明文字 docstring。"
   ]
  },
  {
   "cell_type": "code",
   "execution_count": 17,
   "id": "dc0edf0a",
   "metadata": {},
   "outputs": [
    {
     "name": "stdout",
     "output_type": "stream",
     "text": [
      "類別所屬類別: <class 'type'>\n",
      "類別所屬模組: __main__\n",
      "類別名稱: Student\n",
      "類別的父類別: (<class 'object'>,)\n",
      "類別空間字典: {'__module__': '__main__', '__doc__': '學生類別', 'school': 'pcschool', 'count': 0, '__init__': <function Student.__init__ at 0x0000026A13DE3EE0>, 'displayCount': <function Student.displayCount at 0x0000026A13E5E550>, '__printInfo__': <function Student.__printInfo__ at 0x0000026A13E5E040>, '__dict__': <attribute '__dict__' of 'Student' objects>, '__weakref__': <attribute '__weakref__' of 'Student' objects>}\n",
      "類別文件字串: 學生類別\n",
      "方法文件字串: 選示學生人數\n",
      "\n",
      "物件所屬類別: <class '__main__.Student'>\n",
      "物件所屬模組: __main__\n",
      "物件空間字典: {'name': 'Sean'}\n",
      "物件文件字串: 學生類別\n",
      "方法文件字串: 選示學生人數\n"
     ]
    }
   ],
   "source": [
    "class Student():\n",
    "    '''學生類別'''\n",
    "    school=\"pcschool\"\n",
    "    count=0\n",
    "    def __init__(self, name):\n",
    "        self.name = name\n",
    "        Student.count += 1\n",
    "    def displayCount(self):\n",
    "        \"\"\"選示學生人數\"\"\"\n",
    "        print(\"學生人數:  %d\" % Student.count)\n",
    "    def __printInfo__(self):\n",
    "        return (\"姓名: \"+self.name)\n",
    "    \n",
    "print(\"類別所屬類別:\", Student.__class__)\n",
    "print(\"類別所屬模組:\", Student.__module__)\n",
    "print(\"類別名稱:\", Student.__name__)\n",
    "print(\"類別的父類別:\", Student.__bases__)\n",
    "print(\"類別空間字典:\", Student.__dict__)\n",
    "print(\"類別文件字串:\", Student.__doc__)\n",
    "print(\"方法文件字串:\", Student.displayCount.__doc__)\n",
    "print()\n",
    "\n",
    "st = Student('Sean')\n",
    "print(\"物件所屬類別:\", st.__class__)\n",
    "print(\"物件所屬模組:\", st.__module__)\n",
    "print(\"物件空間字典:\", st.__dict__)\n",
    "print(\"物件文件字串:\", st.__doc__)\n",
    "print(\"方法文件字串:\", st.displayCount.__doc__)"
   ]
  },
  {
   "cell_type": "markdown",
   "id": "f0eb3e7b",
   "metadata": {},
   "source": [
    "## __str__ 可輸出物件的內容"
   ]
  },
  {
   "cell_type": "code",
   "execution_count": 20,
   "id": "3c74adcb",
   "metadata": {},
   "outputs": [
    {
     "name": "stdout",
     "output_type": "stream",
     "text": [
      "<__main__.Point object at 0x0000026A13703700>\n"
     ]
    }
   ],
   "source": [
    "class Point:\n",
    "    def __init__(self,x = 0,y = 0):\n",
    "        self.x = x\n",
    "        self.y = y\n",
    "p1= Point(2,3)\n",
    "print(p1)"
   ]
  },
  {
   "cell_type": "code",
   "execution_count": 22,
   "id": "0f1430c0",
   "metadata": {},
   "outputs": [
    {
     "name": "stdout",
     "output_type": "stream",
     "text": [
      "(2,3)\n"
     ]
    }
   ],
   "source": [
    "class Point:\n",
    "    def __init__(self,x = 0,y = 0):\n",
    "        self.x = x\n",
    "        self.y = y\n",
    "    def __str__(self):\n",
    "        return f\"({self.x},{self.y})\"\n",
    "p1= Point(2,3)\n",
    "print(p1)"
   ]
  },
  {
   "cell_type": "code",
   "execution_count": 30,
   "id": "54a1ac3f",
   "metadata": {},
   "outputs": [
    {
     "name": "stdout",
     "output_type": "stream",
     "text": [
      "(2,3)\n",
      "(1,5)\n",
      "13\n",
      "True\n",
      "False\n"
     ]
    }
   ],
   "source": [
    "class Point:\n",
    "    def __init__(self,x = 0,y = 0):\n",
    "        self.x = x\n",
    "        self.y = y\n",
    "    def __add__(self,other):\n",
    "        x = self.x + other.x\n",
    "        y = self.y + other.y\n",
    "        return Point(x,y)\n",
    "    def __len__(self):\n",
    "        self_mag = (self.x ** 2) +  (self.y ** 2)\n",
    "        return self_mag\n",
    "    def __eq__(self,other):\n",
    "          p1Len = len(self)  \n",
    "          p2Len = len(other)    \n",
    "          return   p1Len == p2Len\n",
    "    def __lt__(self,other):\n",
    "          p1Len = len(self)  \n",
    "          p2Len = len(other)    \n",
    "          return   p1Len < p2Len      \n",
    "    def __str__(self):\n",
    "        return f\"({self.x},{self.y})\"\n",
    "p1 = Point(2,3)        \n",
    "p2 = Point(-1,2)  \n",
    "p3 = Point(2,3)  \n",
    "print(p1)\n",
    "print(p1 + p2)\n",
    "print(len(p1))\n",
    "print(p1 == p3)\n",
    "print(p1 < p2)"
   ]
  },
  {
   "cell_type": "markdown",
   "id": "bc71f5df",
   "metadata": {},
   "source": [
    "## 抽象類別\n",
    "+ 建立抽象元類別\n",
    "  + 宣告抽象類別\n",
    "    + class 抽象類別(metaclass=ABCMeta)\n",
    "    +無法建構物件的類別\n",
    "  + 為子類定義共有的API\n",
    "    + 方法前加上@abstractmethod 裝飾\n",
    "    + 不需要具體實現。\n",
    "        @abstractmethod\n",
    "        def 抽象方法(self, …)\n"
   ]
  },
  {
   "cell_type": "code",
   "execution_count": 34,
   "id": "b4ba17ad",
   "metadata": {},
   "outputs": [
    {
     "name": "stdout",
     "output_type": "stream",
     "text": [
      "Momo:喵喵\n"
     ]
    }
   ],
   "source": [
    "from abc import ABCMeta, abstractmethod\n",
    "class Animal(metaclass=ABCMeta):\n",
    "      def __init__(self,name):      \n",
    "            self.__name = name\n",
    "      @abstractmethod      \n",
    "      def bark(self):#一定要複寫\n",
    "        pass\n",
    "      def getName(self):  \n",
    "        return self.__name\n",
    "class Dog(Animal):\n",
    "    def bark(self):\n",
    "        return self.getName()+\":喵喵\"\n",
    "dog = Dog(\"Momo\")    \n",
    "print(dog.bark())"
   ]
  },
  {
   "cell_type": "markdown",
   "id": "5f4821b0",
   "metadata": {},
   "source": [
    "## 檔案存取\n",
    "\n",
    "file object = open(file_name [, access_mode])\n",
    "\n",
    "UTF8 編碼資料還請加入另一個參數才可避免亂碼：encoding=‘utf-8'\n",
    "file object = open(file_name [, access_mode])\n",
    "\n",
    "參數說明\n",
    "\n",
    "file_name：file_name 參數是一個字串資料，代表包含要連結的文件名稱。\n",
    "\n",
    "access_mode：access_mode 確定文件必須打開的模式，包括讀取、寫入、附加等等。稍後會列完整列表。這是可選參數，默認文件訪問模式為讀取(r)。\n",
    "\n",
    "|模式\t|可做操作|若檔案不存在|是否覆蓋|\n",
    "|----|--------|-----------|-------|\n",
    "|r\t|只能讀|報錯\t|-|\n",
    "|r+\t|可讀可寫|報錯|是|\n",
    "|w\t|只能寫|建立|是|\n",
    "|w+ |可讀可寫|建立|是|\n",
    "|a　|只能寫|建立|否，追加寫|\n",
    "|a+\t|可讀可寫|建立|否，追加寫|\n"
   ]
  },
  {
   "cell_type": "code",
   "execution_count": 37,
   "id": "cda9ddba",
   "metadata": {},
   "outputs": [],
   "source": [
    "text = \"\"\"python與中文AAABBB\n",
    "1. 我們來試試看中文儲存能力。\n",
    "2. 許這個字會有編碼衝突風險。\n",
    "3. 犇這個字必須是utf8編碼才有。\n",
    "\"\"\"\n",
    "print(text,file=open('data.txt','w',encoding='utf-8'))# 透過print將text輸出到檔案(file)\n",
    "#print(text,file=open('data.txt','w'))"
   ]
  },
  {
   "cell_type": "code",
   "execution_count": 38,
   "id": "d8ca5e4b",
   "metadata": {},
   "outputs": [
    {
     "name": "stdout",
     "output_type": "stream",
     "text": [
      "請輸入第1筆的成績:-1結束80\n",
      "請輸入第2筆的成績:-1結束70\n",
      "請輸入第3筆的成績:-1結束25\n",
      "請輸入第4筆的成績:-1結束63\n",
      "請輸入第5筆的成績:-1結束-1\n",
      "{1: 80, 2: 70, 3: 25, 4: 63}\n"
     ]
    }
   ],
   "source": [
    "no = 1\n",
    "scores = dict()\n",
    "while True:\n",
    "    score = int(input(f\"請輸入第{no}筆的成績:-1結束\"))\n",
    "    if score == -1: break\n",
    "    scores[no] = score\n",
    "    no+=1\n",
    "file = open('score.txt','w',encoding='utf-8')    \n",
    "scoreStr = str(scores)\n",
    "print(scoreStr)\n",
    "file.write(scoreStr)#輸出檔案\n",
    "file.close()#重要"
   ]
  },
  {
   "cell_type": "markdown",
   "id": "734f8c86",
   "metadata": {},
   "source": [
    "## 讀取"
   ]
  },
  {
   "cell_type": "code",
   "execution_count": 39,
   "id": "1fb1fb18",
   "metadata": {},
   "outputs": [
    {
     "name": "stdout",
     "output_type": "stream",
     "text": [
      "python與中文AAABBB\n",
      "1. 我們來試試看中文儲存能力。\n",
      "2. 許這個字會有編碼衝突風險。\n",
      "3. 犇這個字必須是utf8編碼才有。\n",
      "\n",
      "\n"
     ]
    }
   ],
   "source": [
    "file = open('data.txt','r',encoding='UTF-8')\n",
    "content = file.read()\n",
    "file.close()\n",
    "print(content)"
   ]
  },
  {
   "cell_type": "markdown",
   "id": "0449a69d",
   "metadata": {},
   "source": [
    "## readlines\n",
    "readlines 方法\n",
    "\n",
    "這方法將讀取整個文件所有行，保存在一個 list 內。\n",
    "\n",
    "讀取文件後可搭配使用的方法\n",
    "\n",
    "strip( )  去除字串首尾的空白。\n",
    "\n",
    "lstrip( ) 去除字串左邊的空白。\n",
    "\n",
    "rstrip( ) 去除字串右邊的空白。 \n",
    "\n",
    "startswith(‘字元’): 第一個字元。\n"
   ]
  },
  {
   "cell_type": "code",
   "execution_count": 40,
   "id": "a28e2799",
   "metadata": {},
   "outputs": [
    {
     "name": "stdout",
     "output_type": "stream",
     "text": [
      "['G', 'C', 'D', 'A']\n"
     ]
    }
   ],
   "source": [
    "file = open('data1.txt','r',encoding='UTF-8')\n",
    "result = list()\n",
    "for line in file.readlines():\n",
    "    line = line.strip()\n",
    "    if not len(line) or line.startswith(\"#\"):\n",
    "        continue\n",
    "    result.append(line)    \n",
    "open('write-file.txt','w',encoding='UTF-8').write('\\n'.join(result))    \n",
    "print(result)   "
   ]
  },
  {
   "cell_type": "markdown",
   "id": "352ab6d2",
   "metadata": {},
   "source": [
    "## CSV\n",
    "+ CSV 格式是資料庫最常用的導入和導出格式。\n",
    "+ 資料均沒有類型，一切都是字串。\n",
    "+ 沒有字體或顏色與儲存格寬度高度的設置。\n",
    "+ Python 語法必須加入 import csv。\n",
    "+ 讀取儲存格資料：\n",
    "  + reader( )：依照每一列的編號 由0開始\n",
    "  + DictReader( )\n",
    "    + 以第一列的值為每一行的名稱，第一列不是資料\n",
    "    + 也可以重新命名，但第一列必須是資料"
   ]
  },
  {
   "cell_type": "code",
   "execution_count": 42,
   "id": "e81c57e1",
   "metadata": {},
   "outputs": [
    {
     "name": "stdout",
     "output_type": "stream",
     "text": [
      " 104/01/02 2,104,640,545 50,472,201,894\n",
      " 104/01/03 2,640,781,030 64,138,886,194\n",
      " 104/01/04 2,983,756,821 75,845,629,353\n",
      " 104/01/05 3,062,757,248 76,850,752,698\n",
      " 104/01/06 3,314,147,435 88,101,921,548\n",
      " 104/01/09 2,610,433,477 71,323,370,369\n",
      " 104/01/10 3,595,611,551 97,168,542,017\n",
      " 104/01/11 3,322,390,467 88,786,671,892\n",
      " 104/01/12 2,969,248,375 78,947,910,460\n",
      " 104/01/13 3,497,838,901 99,286,437,370\n",
      " 104/01/16 3,184,795,667 76,842,611,338\n",
      " 104/01/17 3,720,277,205 101,133,309,290\n",
      " 104/01/18 4,088,756,925 113,988,641,382\n",
      " 104/01/30 4,540,373,544 143,900,658,474\n",
      " 104/01/31 5,486,734,180 162,361,181,834\n"
     ]
    }
   ],
   "source": [
    "import csv\n",
    "f = open(\"example1.csv\",\"r\")\n",
    "for row in csv.reader(f):\n",
    "    print(row[0],row[1],row[2])\n",
    "f.close()    "
   ]
  },
  {
   "cell_type": "code",
   "execution_count": 43,
   "id": "f2df1b73",
   "metadata": {},
   "outputs": [
    {
     "name": "stdout",
     "output_type": "stream",
     "text": [
      "101.17\n",
      "29.59\n",
      "47.89\n",
      "85.83\n",
      "117.46\n",
      "12.61\n",
      "173.72\n",
      "109.67\n"
     ]
    }
   ],
   "source": [
    "import csv\n",
    "f = open(\"example.csv\",\"r\",encoding='utf-8')\n",
    "for row in csv.DictReader(f):\n",
    "    if float(row['漲跌點數']) > 9.34:\n",
    "        print(row['漲跌點數'])\n",
    "f.close()   "
   ]
  },
  {
   "cell_type": "code",
   "execution_count": 44,
   "id": "a6b1df1f",
   "metadata": {},
   "outputs": [
    {
     "name": "stdout",
     "output_type": "stream",
     "text": [
      "error\n",
      "101.17\n",
      "error\n",
      "error\n",
      "error\n",
      "error\n",
      "85.83\n",
      "error\n",
      "error\n",
      "error\n",
      "error\n",
      "117.46\n",
      "error\n",
      "173.72\n",
      "109.67\n"
     ]
    }
   ],
   "source": [
    "import csv\n",
    "f = open(\"example1.csv\",\"r\",encoding='utf-8')\n",
    "for row in csv.DictReader(f,['a','b','c','d','e','f']):#Csv 沒有欄位名稱時\n",
    "    if float(row['f']) > 71:\n",
    "        print(row['f'])\n",
    "    else:\n",
    "        print(\"error\")  \n",
    "f.close()"
   ]
  },
  {
   "cell_type": "markdown",
   "id": "da5a1abf",
   "metadata": {},
   "source": [
    "## CSV的檔案轉為List"
   ]
  },
  {
   "cell_type": "code",
   "execution_count": 46,
   "id": "f5970c5e",
   "metadata": {},
   "outputs": [
    {
     "name": "stdout",
     "output_type": "stream",
     "text": [
      "[['日期', '成交股數', '成交金額', '成交筆數', '發行量加權股價指數', '漲跌點數'], [' 104/01/02', '2,104,640,545', '50,472,201,894', '497,889', '6,952.21', '-119.87'], [' 104/01/03', '2,640,781,030', '64,138,886,194', '623,192', '7,053.38', '101.17'], [' 104/01/04', '2,983,756,821', '75,845,629,353', '728,417', '7,082.97', '29.59'], [' 104/01/05', '3,062,757,248', '76,850,752,698', '737,780', '7,130.86', '47.89'], [' 104/01/06', '3,314,147,435', '88,101,921,548', '823,810', '7,120.51', '-10.35'], [' 104/01/09', '2,610,433,477', '71,323,370,369', '634,137', '7,093.04', '-27.47'], [' 104/01/10', '3,595,611,551', '97,168,542,017', '869,327', '7,178.87', '85.83'], [' 104/01/11', '3,322,390,467', '88,786,671,892', '802,539', '7,188.21', '9.34'], [' 104/01/12', '2,969,248,375', '78,947,910,460', '731,328', '7,186.58', '-1.63'], [' 104/01/13', '3,497,838,901', '99,286,437,370', '819,762', '7,181.54', '-5.04'], [' 104/01/16', '3,184,795,667', '76,842,611,338', '719,725', '7,103.62', '-77.92'], [' 104/01/17', '3,720,277,205', '101,133,309,290', '899,597', '7,221.08', '117.46'], [' 104/01/18', '4,088,756,925', '113,988,641,382', '1,020,420', '7,233.69', '12.61'], [' 104/01/30', '4,540,373,544', '143,900,658,474', '1,113,727', '7,407.41', '173.72'], [' 104/01/31', '5,486,734,180', '162,361,181,834', '1,283,951', '7,517.08', '109.67']]\n",
      "日期\n"
     ]
    }
   ],
   "source": [
    "import csv\n",
    "f = open('example.csv',\"r\",encoding='utf-8')\n",
    "csv1 = csv.reader(f)\n",
    "list1 = list(csv1)\n",
    "print(list1)\n",
    "print(list1[0][0])\n",
    "f.close()"
   ]
  },
  {
   "cell_type": "markdown",
   "id": "8ef23274",
   "metadata": {},
   "source": [
    "### Write\n",
    "+ 必須加入 import csv\n",
    "+ 利用 writer( ) 可寫入資料，寫入時注意\n",
    "   + delimiter     這是代表分隔符號\n",
    "   + quotechar   這是代表包住字串的符號\n",
    "+ 使用 writerow( ) 方法進行特定的儲存格寫入"
   ]
  },
  {
   "cell_type": "code",
   "execution_count": 48,
   "id": "a9ab3306",
   "metadata": {},
   "outputs": [],
   "source": [
    "import csv\n",
    "f = open(\"example.csv\",\"r\",encoding='utf-8')\n",
    "reader = csv.reader(f)\n",
    "# 加上newline 寫出時才不會斷行\n",
    "wCsvf = open(\"testw.csv\",\"w\",encoding='utf-8',newline='')\n",
    "writer = csv.writer(wCsvf)\n",
    "for row in reader:\n",
    "    writer.writerow(row)    \n",
    "f.close()\n",
    "wCsvf.close()"
   ]
  },
  {
   "cell_type": "code",
   "execution_count": 50,
   "id": "f2e61a8b",
   "metadata": {},
   "outputs": [],
   "source": [
    "import csv\n",
    "f=open('example.csv',\"r\",encoding='utf-8')\n",
    "reader = csv.reader(f)\n",
    "ofile = open('ttest.csv', \"w\",encoding='utf-8',newline='')\n",
    "# quotechar 這是代表包住字串的符號 如果欄位中包含delimiter的符號就使用這個符號將它包住\n",
    "writer = csv.writer(ofile, delimiter='-', quotechar='\"')\n",
    "for row in reader:\n",
    "    writer.writerow(row)\n",
    "f.close( )\n",
    "ofile.close( )"
   ]
  },
  {
   "cell_type": "code",
   "execution_count": 51,
   "id": "58b6f724",
   "metadata": {},
   "outputs": [],
   "source": [
    "import csv\n",
    "# 加上newline 寫出時才不會斷行\n",
    "f=open('example2.csv',\"w\",encoding='utf-8',newline='')\n",
    "# quotechar 這是代表包住字串的符號 如果欄位中包含delimiter的符號就使用這個符號將它包住\n",
    "writer = csv.writer(f,  quotechar='|',delimiter=\"#\")\n",
    "list1 = ['A','B','C','D']\n",
    "list2 = [100,200,300,400]\n",
    "list3 = ['Ken','Lucy#Vivin','Join','Iris']\n",
    "writer.writerow(list1)\n",
    "writer.writerow(list2)\n",
    "writer.writerow(list3)\n",
    "f.close()"
   ]
  },
  {
   "cell_type": "code",
   "execution_count": null,
   "id": "32c066bd",
   "metadata": {},
   "outputs": [],
   "source": []
  }
 ],
 "metadata": {
  "kernelspec": {
   "display_name": "Python 3 (ipykernel)",
   "language": "python",
   "name": "python3"
  },
  "language_info": {
   "codemirror_mode": {
    "name": "ipython",
    "version": 3
   },
   "file_extension": ".py",
   "mimetype": "text/x-python",
   "name": "python",
   "nbconvert_exporter": "python",
   "pygments_lexer": "ipython3",
   "version": "3.8.11"
  }
 },
 "nbformat": 4,
 "nbformat_minor": 5
}
