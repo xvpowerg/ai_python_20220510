{
 "cells": [
  {
   "cell_type": "markdown",
   "id": "6a4299ba",
   "metadata": {},
   "source": [
    "# BMI作業"
   ]
  },
  {
   "cell_type": "code",
   "execution_count": 1,
   "id": "74f94bbf",
   "metadata": {},
   "outputs": [
    {
     "name": "stdout",
     "output_type": "stream",
     "text": [
      "請輸入身高 單位公分:180\n",
      "請輸入體重 單位公斤:72\n",
      "22.22222222222222\n"
     ]
    }
   ],
   "source": [
    "height = input(\"請輸入身高 單位公分:\")\n",
    "weight = input(\"請輸入體重 單位公斤:\")\n",
    "bmi = int(weight) / (int(height)/100) ** 2\n",
    "print(bmi)"
   ]
  },
  {
   "cell_type": "markdown",
   "id": "496a257e",
   "metadata": {},
   "source": [
    "# string 常用方法"
   ]
  },
  {
   "cell_type": "markdown",
   "id": "7897e56e",
   "metadata": {},
   "source": [
    "## replace(被替換的字串,替換的字串,替換次數)"
   ]
  },
  {
   "cell_type": "code",
   "execution_count": 7,
   "id": "a865c073",
   "metadata": {},
   "outputs": [
    {
     "name": "stdout",
     "output_type": "stream",
     "text": [
      "This is Python,That is Java;This is SQLite,That is MySQL\n",
      "Th- - Python,That - Java;Th- - SQLite,That - MySQL\n",
      "Th- - Python,That is Java;This is SQLite,That is MySQL\n"
     ]
    }
   ],
   "source": [
    "str=\"This is Python,That is Java;This is SQLite,That is MySQL\"\n",
    "print(str)\n",
    "str2 = str.replace(\"is\",\"-\")\n",
    "print(str2)\n",
    "str2 = str.replace(\"is\",\"-\",2)\n",
    "print(str2)"
   ]
  },
  {
   "cell_type": "markdown",
   "id": "84076cad",
   "metadata": {},
   "source": [
    "## find(搜的字串,起始,結束) 預設起始 是0 結束字串長度\n",
    "找不到回傳-1\n",
    "找到回傳相對應字串位置"
   ]
  },
  {
   "cell_type": "code",
   "execution_count": 15,
   "id": "f262d328",
   "metadata": {},
   "outputs": [
    {
     "name": "stdout",
     "output_type": "stream",
     "text": [
      "8\n",
      "-1\n",
      "10\n",
      "17\n"
     ]
    }
   ],
   "source": [
    "str1 = \"this is Python Tutorial, there\"\n",
    "search1 = \"Python\"\n",
    "print(str1.find(search1))\n",
    "search2 = \"not\"\n",
    "print(str1.find(search2))\n",
    "search3 = \"t\"\n",
    "print(str1.find(search3,4))\n",
    "print(str1.find(search3,11,20))"
   ]
  },
  {
   "cell_type": "markdown",
   "id": "3ec03a18",
   "metadata": {},
   "source": [
    "## join\n",
    "串接的文字.join(被串接字串的集合(Collection))"
   ]
  },
  {
   "cell_type": "code",
   "execution_count": 18,
   "id": "aafff579",
   "metadata": {},
   "outputs": [
    {
     "name": "stdout",
     "output_type": "stream",
     "text": [
      "a-b-c\n",
      "abc-xyz-123\n",
      "P:y:t:h:o:n\n"
     ]
    }
   ],
   "source": [
    "str1 = \"-\"\n",
    "str2 = (\"a\",\"b\",\"c\")\n",
    "print(str1.join(str2))\n",
    "str2 = (\"abc\",\"xyz\",\"123\")\n",
    "print(str1.join(str2))\n",
    "str3 = \":\".join(\"Python\")\n",
    "print(str3)"
   ]
  },
  {
   "cell_type": "markdown",
   "id": "4bcbd6ef",
   "metadata": {},
   "source": [
    "## split\n",
    "split(分割的字串,分割次數)\n",
    "\n",
    "分割次數可不填寫 預設為無限次"
   ]
  },
  {
   "cell_type": "code",
   "execution_count": 19,
   "id": "053e163b",
   "metadata": {},
   "outputs": [
    {
     "name": "stdout",
     "output_type": "stream",
     "text": [
      "['c++', 'java', 'ptyhon', 'go']\n",
      "['c++', 'java', 'ptyhon-go']\n"
     ]
    }
   ],
   "source": [
    "str4 = \"c++-java-ptyhon-go\"\n",
    "print(str4.split(\"-\"))\n",
    "print(str4.split(\"-\",2))\n"
   ]
  },
  {
   "cell_type": "markdown",
   "id": "8947b208",
   "metadata": {},
   "source": [
    "# List 與Tuple\n",
    "tuple 只可讀"
   ]
  },
  {
   "cell_type": "code",
   "execution_count": 27,
   "id": "c66a80e8",
   "metadata": {},
   "outputs": [
    {
     "name": "stdout",
     "output_type": "stream",
     "text": [
      "['H', 'i']\n",
      "('H', 'i')\n",
      "['H', 'a']\n",
      "i\n"
     ]
    },
    {
     "ename": "TypeError",
     "evalue": "'tuple' object does not support item assignment",
     "output_type": "error",
     "traceback": [
      "\u001b[1;31m---------------------------------------------------------------------------\u001b[0m",
      "\u001b[1;31mTypeError\u001b[0m                                 Traceback (most recent call last)",
      "Input \u001b[1;32mIn [27]\u001b[0m, in \u001b[0;36m<cell line: 8>\u001b[1;34m()\u001b[0m\n\u001b[0;32m      6\u001b[0m \u001b[38;5;28mprint\u001b[39m(list1)\n\u001b[0;32m      7\u001b[0m \u001b[38;5;28mprint\u001b[39m(tuple1[\u001b[38;5;241m1\u001b[39m])\n\u001b[1;32m----> 8\u001b[0m tuple1[\u001b[38;5;241m1\u001b[39m] \u001b[38;5;241m=\u001b[39m \u001b[38;5;124m'\u001b[39m\u001b[38;5;124mb\u001b[39m\u001b[38;5;124m'\u001b[39m\n",
      "\u001b[1;31mTypeError\u001b[0m: 'tuple' object does not support item assignment"
     ]
    }
   ],
   "source": [
    "list1 = ['H','i']\n",
    "tuple1 = ('H','i')\n",
    "print(list1)\n",
    "print(tuple1)\n",
    "list1[1] = 'a'\n",
    "print(list1)\n",
    "print(tuple1[1])\n",
    "tuple1[1] = 'b'\n"
   ]
  },
  {
   "attachments": {
    "image.png": {
     "image/png": "[encoded data removed]"
    }
   },
   "cell_type": "markdown",
   "id": "bd35bc09",
   "metadata": {},
   "source": [
    "# 索引標籤\n",
    "![image.png](attachment:image.png)"
   ]
  },
  {
   "cell_type": "code",
   "execution_count": 30,
   "id": "920e77a7",
   "metadata": {},
   "outputs": [
    {
     "name": "stdout",
     "output_type": "stream",
     "text": [
      "H\n",
      "l\n",
      "d\n",
      "r\n"
     ]
    }
   ],
   "source": [
    "list1=['H','e','l','l','o','W',\"o\",\"r\",\"l\",\"d\"]\n",
    "print(list1[0])\n",
    "print(list1[2])\n",
    "print(list1[-1])\n",
    "print(list1[-3])"
   ]
  },
  {
   "attachments": {
    "image.png": {
     "image/png": "[encoded data removed]"
    }
   },
   "cell_type": "markdown",
   "id": "019fe740",
   "metadata": {},
   "source": [
    "## 部分取值\n",
    "+ list 內部分取值採用 [  n:m  ] 方式，n 與 m 是整數。\n",
    "  + n 代表起始位置，第一個為 0。\n",
    "  + m 代表結束位置，不可以超過這個位置。\n",
    "  ![image.png](attachment:image.png)\n"
   ]
  },
  {
   "cell_type": "code",
   "execution_count": 34,
   "id": "59c71520",
   "metadata": {},
   "outputs": [
    {
     "name": "stdout",
     "output_type": "stream",
     "text": [
      "['l', 'l', 'o', 'W', 'o', 'r', 'l', 'd']\n",
      "['H', 'e', 'l']\n",
      "['l', 'o']\n"
     ]
    }
   ],
   "source": [
    "list1=['H','e','l','l','o','W',\"o\",\"r\",\"l\",\"d\"]\n",
    "print(list1[2:])\n",
    "print(list1[:3])\n",
    "print(list1[3:5])"
   ]
  },
  {
   "cell_type": "code",
   "execution_count": 42,
   "id": "f45bdb5e",
   "metadata": {},
   "outputs": [
    {
     "name": "stdout",
     "output_type": "stream",
     "text": [
      "['A', 'C', 'E']\n",
      "['C', 'D']\n",
      "['C', 'D', 'E']\n",
      "['E', 'D', 'C']\n",
      "['E', 'D', 'C', 'B', 'A']\n"
     ]
    }
   ],
   "source": [
    "list1 = ['A','B','C','D','E']\n",
    "print(list1[::2])\n",
    "print(list1[-3:-1])\n",
    "print(list1[-3:])\n",
    "print(list1[-1:-4:-1])\n",
    "print(list1[-1::-1])"
   ]
  },
  {
   "cell_type": "markdown",
   "id": "c0933ec4",
   "metadata": {},
   "source": [
    "## 部分取值對記憶體位置討論"
   ]
  },
  {
   "cell_type": "code",
   "execution_count": 45,
   "id": "eaffed17",
   "metadata": {},
   "outputs": [
    {
     "name": "stdout",
     "output_type": "stream",
     "text": [
      "[0, 1, 2, 3, 4, 5, 6, 7, 8, 9]\n",
      "[0, 1, 2, 3, 4, 5]\n",
      "list2: 2381437334976\n",
      "newList: 2381437334592\n",
      "list2: [0, 1, 2, 3, 4, 5, 6, 7, 8, 9]\n",
      "newList: [0, 1, 20, 3, 4, 5]\n"
     ]
    }
   ],
   "source": [
    "list2 = [0,1,2,3,4,5,6,7,8,9]\n",
    "print(list2)\n",
    "newList = list2[0:6]\n",
    "print(newList)\n",
    "# 部分取值後記憶體位置不同\n",
    "print(\"list2:\",id(list2))\n",
    "print(\"newList:\",id(newList))\n",
    "# 數值不會相互引響\n",
    "newList[2] = 20\n",
    "print(\"list2:\",list2)\n",
    "print(\"newList:\",newList)"
   ]
  },
  {
   "cell_type": "markdown",
   "id": "d13bfdc4",
   "metadata": {},
   "source": [
    "## 資料轉換\n",
    "+ 轉為List 使用 list()函數\n",
    "+ 轉為tuple 使用 tuple()函數"
   ]
  },
  {
   "cell_type": "code",
   "execution_count": 50,
   "id": "9011f4ef",
   "metadata": {},
   "outputs": [
    {
     "name": "stdout",
     "output_type": "stream",
     "text": [
      "<class 'range'>\n",
      "[1, 2, 3, 4, 5, 6, 7, 8, 9]\n",
      "['A', 'B', 'C', 'D']\n",
      "[1, 2, 3, 4]\n",
      "(1, 2, 9, 4)\n"
     ]
    }
   ],
   "source": [
    "r = range(1,10)\n",
    "print(type(r))\n",
    "list1 = list(r)\n",
    "print(list1)\n",
    "list1 = list(\"ABCD\")\n",
    "print(list1)\n",
    "tuple1 = (1,2,3,4)\n",
    "list3 = list(tuple1)\n",
    "print(list3)\n",
    "list3[2] = 9\n",
    "tuple2 = tuple(list3)\n",
    "print(tuple2)"
   ]
  },
  {
   "cell_type": "markdown",
   "id": "4ceb6a25",
   "metadata": {},
   "source": [
    "# list轉字串"
   ]
  },
  {
   "cell_type": "code",
   "execution_count": 53,
   "id": "8b44e295",
   "metadata": {},
   "outputs": [
    {
     "name": "stdout",
     "output_type": "stream",
     "text": [
      "Apple\n"
     ]
    }
   ],
   "source": [
    "list1 = [\"A\",\"p\",\"p\",\"l\",\"e\"]\n",
    "strx = \"\".join(list1)\n",
    "print(strx)\n"
   ]
  },
  {
   "cell_type": "code",
   "execution_count": null,
   "id": "423a5e57",
   "metadata": {},
   "outputs": [],
   "source": []
  }
 ],
 "metadata": {
  "kernelspec": {
   "display_name": "Python 3 (ipykernel)",
   "language": "python",
   "name": "python3"
  },
  "language_info": {
   "codemirror_mode": {
    "name": "ipython",
    "version": 3
   },
   "file_extension": ".py",
   "mimetype": "text/x-python",
   "name": "python",
   "nbconvert_exporter": "python",
   "pygments_lexer": "ipython3",
   "version": "3.8.11"
  }
 },
 "nbformat": 4,
 "nbformat_minor": 5
}
